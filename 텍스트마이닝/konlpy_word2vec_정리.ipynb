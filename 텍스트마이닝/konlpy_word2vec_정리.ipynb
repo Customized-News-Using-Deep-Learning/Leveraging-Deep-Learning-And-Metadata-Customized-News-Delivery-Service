{
  "nbformat": 4,
  "nbformat_minor": 0,
  "metadata": {
    "colab": {
      "name": "3차프로젝트 konlpy word2vec 정리.ipynb",
      "provenance": [],
      "collapsed_sections": [],
      "toc_visible": true
    },
    "kernelspec": {
      "name": "python3",
      "display_name": "Python 3"
    },
    "accelerator": "GPU"
  },
  "cells": [
    {
      "cell_type": "code",
      "metadata": {
        "id": "ulbyTkQ5ZRxT",
        "colab_type": "code",
        "outputId": "7837369d-203c-4ebe-da4b-08f722faf9a4",
        "colab": {
          "base_uri": "https://localhost:8080/",
          "height": 600
        }
      },
      "source": [
        "# konlpy 인스톨 하기 #konlpy= 한국어 정보처리를 위한 파이썬 패키지.\n",
        "pip install konlpy"
      ],
      "execution_count": 0,
      "outputs": [
        {
          "output_type": "stream",
          "text": [
            "Collecting konlpy\n",
            "\u001b[?25l  Downloading https://files.pythonhosted.org/packages/85/0e/f385566fec837c0b83f216b2da65db9997b35dd675e107752005b7d392b1/konlpy-0.5.2-py2.py3-none-any.whl (19.4MB)\n",
            "\u001b[K     |████████████████████████████████| 19.4MB 1.2MB/s \n",
            "\u001b[?25hCollecting tweepy>=3.7.0\n",
            "  Downloading https://files.pythonhosted.org/packages/36/1b/2bd38043d22ade352fc3d3902cf30ce0e2f4bf285be3b304a2782a767aec/tweepy-3.8.0-py2.py3-none-any.whl\n",
            "Requirement already satisfied: numpy>=1.6 in /usr/local/lib/python3.6/dist-packages (from konlpy) (1.18.3)\n",
            "Collecting colorama\n",
            "  Downloading https://files.pythonhosted.org/packages/c9/dc/45cdef1b4d119eb96316b3117e6d5708a08029992b2fee2c143c7a0a5cc5/colorama-0.4.3-py2.py3-none-any.whl\n",
            "Collecting JPype1>=0.7.0\n",
            "\u001b[?25l  Downloading https://files.pythonhosted.org/packages/ee/99/7c79cb6801b57fc6dfc7033d9c4c00e0d2892df3b903ff6c269fb76c8442/JPype1-0.7.4-cp36-cp36m-manylinux1_x86_64.whl (2.9MB)\n",
            "\u001b[K     |████████████████████████████████| 2.9MB 54.8MB/s \n",
            "\u001b[?25hCollecting beautifulsoup4==4.6.0\n",
            "\u001b[?25l  Downloading https://files.pythonhosted.org/packages/9e/d4/10f46e5cfac773e22707237bfcd51bbffeaf0a576b0a847ec7ab15bd7ace/beautifulsoup4-4.6.0-py3-none-any.whl (86kB)\n",
            "\u001b[K     |████████████████████████████████| 92kB 14.0MB/s \n",
            "\u001b[?25hRequirement already satisfied: lxml>=4.1.0 in /usr/local/lib/python3.6/dist-packages (from konlpy) (4.2.6)\n",
            "Requirement already satisfied: six>=1.10.0 in /usr/local/lib/python3.6/dist-packages (from tweepy>=3.7.0->konlpy) (1.12.0)\n",
            "Requirement already satisfied: PySocks>=1.5.7 in /usr/local/lib/python3.6/dist-packages (from tweepy>=3.7.0->konlpy) (1.7.1)\n",
            "Requirement already satisfied: requests>=2.11.1 in /usr/local/lib/python3.6/dist-packages (from tweepy>=3.7.0->konlpy) (2.23.0)\n",
            "Requirement already satisfied: requests-oauthlib>=0.7.0 in /usr/local/lib/python3.6/dist-packages (from tweepy>=3.7.0->konlpy) (1.3.0)\n",
            "Requirement already satisfied: certifi>=2017.4.17 in /usr/local/lib/python3.6/dist-packages (from requests>=2.11.1->tweepy>=3.7.0->konlpy) (2020.4.5.1)\n",
            "Requirement already satisfied: chardet<4,>=3.0.2 in /usr/local/lib/python3.6/dist-packages (from requests>=2.11.1->tweepy>=3.7.0->konlpy) (3.0.4)\n",
            "Requirement already satisfied: urllib3!=1.25.0,!=1.25.1,<1.26,>=1.21.1 in /usr/local/lib/python3.6/dist-packages (from requests>=2.11.1->tweepy>=3.7.0->konlpy) (1.24.3)\n",
            "Requirement already satisfied: idna<3,>=2.5 in /usr/local/lib/python3.6/dist-packages (from requests>=2.11.1->tweepy>=3.7.0->konlpy) (2.9)\n",
            "Requirement already satisfied: oauthlib>=3.0.0 in /usr/local/lib/python3.6/dist-packages (from requests-oauthlib>=0.7.0->tweepy>=3.7.0->konlpy) (3.1.0)\n",
            "Installing collected packages: tweepy, colorama, JPype1, beautifulsoup4, konlpy\n",
            "  Found existing installation: tweepy 3.6.0\n",
            "    Uninstalling tweepy-3.6.0:\n",
            "      Successfully uninstalled tweepy-3.6.0\n",
            "  Found existing installation: beautifulsoup4 4.6.3\n",
            "    Uninstalling beautifulsoup4-4.6.3:\n",
            "      Successfully uninstalled beautifulsoup4-4.6.3\n",
            "Successfully installed JPype1-0.7.4 beautifulsoup4-4.6.0 colorama-0.4.3 konlpy-0.5.2 tweepy-3.8.0\n"
          ],
          "name": "stdout"
        }
      ]
    },
    {
      "cell_type": "code",
      "metadata": {
        "id": "o7z3uhKJcZBZ",
        "colab_type": "code",
        "outputId": "5bf7c24d-f2c9-441d-9c35-52123253c037",
        "colab": {
          "base_uri": "https://localhost:8080/",
          "height": 248
        }
      },
      "source": [
        "pip install glove_python"
      ],
      "execution_count": 0,
      "outputs": [
        {
          "output_type": "stream",
          "text": [
            "Collecting glove_python\n",
            "\u001b[?25l  Downloading https://files.pythonhosted.org/packages/3e/79/7e7e548dd9dcb741935d031117f4bed133276c2a047aadad42f1552d1771/glove_python-0.1.0.tar.gz (263kB)\n",
            "\r\u001b[K     |█▎                              | 10kB 32.0MB/s eta 0:00:01\r\u001b[K     |██▌                             | 20kB 3.1MB/s eta 0:00:01\r\u001b[K     |███▊                            | 30kB 4.2MB/s eta 0:00:01\r\u001b[K     |█████                           | 40kB 3.0MB/s eta 0:00:01\r\u001b[K     |██████▎                         | 51kB 3.3MB/s eta 0:00:01\r\u001b[K     |███████▌                        | 61kB 3.9MB/s eta 0:00:01\r\u001b[K     |████████▊                       | 71kB 4.2MB/s eta 0:00:01\r\u001b[K     |██████████                      | 81kB 4.6MB/s eta 0:00:01\r\u001b[K     |███████████▏                    | 92kB 5.1MB/s eta 0:00:01\r\u001b[K     |████████████▌                   | 102kB 4.9MB/s eta 0:00:01\r\u001b[K     |█████████████▊                  | 112kB 4.9MB/s eta 0:00:01\r\u001b[K     |███████████████                 | 122kB 4.9MB/s eta 0:00:01\r\u001b[K     |████████████████▏               | 133kB 4.9MB/s eta 0:00:01\r\u001b[K     |█████████████████▍              | 143kB 4.9MB/s eta 0:00:01\r\u001b[K     |██████████████████▊             | 153kB 4.9MB/s eta 0:00:01\r\u001b[K     |████████████████████            | 163kB 4.9MB/s eta 0:00:01\r\u001b[K     |█████████████████████▏          | 174kB 4.9MB/s eta 0:00:01\r\u001b[K     |██████████████████████▍         | 184kB 4.9MB/s eta 0:00:01\r\u001b[K     |███████████████████████▋        | 194kB 4.9MB/s eta 0:00:01\r\u001b[K     |█████████████████████████       | 204kB 4.9MB/s eta 0:00:01\r\u001b[K     |██████████████████████████▏     | 215kB 4.9MB/s eta 0:00:01\r\u001b[K     |███████████████████████████▍    | 225kB 4.9MB/s eta 0:00:01\r\u001b[K     |████████████████████████████▋   | 235kB 4.9MB/s eta 0:00:01\r\u001b[K     |█████████████████████████████▉  | 245kB 4.9MB/s eta 0:00:01\r\u001b[K     |███████████████████████████████▏| 256kB 4.9MB/s eta 0:00:01\r\u001b[K     |████████████████████████████████| 266kB 4.9MB/s \n",
            "\u001b[?25hRequirement already satisfied: numpy in /usr/local/lib/python3.6/dist-packages (from glove_python) (1.18.3)\n",
            "Requirement already satisfied: scipy in /usr/local/lib/python3.6/dist-packages (from glove_python) (1.4.1)\n",
            "Building wheels for collected packages: glove-python\n",
            "  Building wheel for glove-python (setup.py) ... \u001b[?25l\u001b[?25hdone\n",
            "  Created wheel for glove-python: filename=glove_python-0.1.0-cp36-cp36m-linux_x86_64.whl size=700263 sha256=8da52f8ac95f9e0a6b5a5f48837ab162ed7c83bd75e6808a7c53b13af8f99ce9\n",
            "  Stored in directory: /root/.cache/pip/wheels/88/4b/6d/10c0d2ad32c9d9d68beec9694a6f0b6e83ab1662a90a089a4b\n",
            "Successfully built glove-python\n",
            "Installing collected packages: glove-python\n",
            "Successfully installed glove-python-0.1.0\n"
          ],
          "name": "stdout"
        }
      ]
    },
    {
      "cell_type": "code",
      "metadata": {
        "id": "tjY2_mG2Z6A-",
        "colab_type": "code",
        "colab": {}
      },
      "source": [
        "import konlpy\n",
        "import numpy as np\n",
        "import pandas as pd\n",
        "import matplotlib.pyplot as plt"
      ],
      "execution_count": 0,
      "outputs": []
    },
    {
      "cell_type": "markdown",
      "metadata": {
        "id": "8ZooZGDUFOsZ",
        "colab_type": "text"
      },
      "source": [
        "형태소 분석(POS-tagging)이란 원시말뭉치를 형태소 단위로 쪼개고 각 형태소에 품사 정보를 부착하는 작업을 가리킵니다. \n",
        "특히 KoNLPy는 시중에 공개된 꼬꼬마, 코모란, 트위터, 한나눔, 은전한닢 다섯개 형태소 분석기를 한꺼번에 묶어서 편리하게 사용할 수 있도록 한 패키지입니다.\n",
        "\n",
        "꼬꼬마는 세종품사태그에 가장 가깝고 분석 범주 또한 가장 많습니다. \n",
        "트위터는 꼬꼬마 대비 분석 범주가 다소 적은 편이지만 이모티콘이나 해쉬태그 같은 인터넷 텍스트에 특화된 범주가 추가된 점이 눈에 띕니다. \n",
        "코모란은 분석 범주 개수로는 꼬꼬마와 트위터 중간에 위치하고, 개발자 분께서 지속적으로 업데이트를 해주시고 계신 점이 강점이라고 할 수 있겠습니다."
      ]
    },
    {
      "cell_type": "markdown",
      "metadata": {
        "id": "h2Ila-_caHkS",
        "colab_type": "text"
      },
      "source": [
        "#데이터 불러오기 ex)여기서는 test 데이터만 사용"
      ]
    },
    {
      "cell_type": "code",
      "metadata": {
        "id": "HFAzVMqhaP7i",
        "colab_type": "code",
        "colab": {}
      },
      "source": [
        "#스포츠 뉴스기사를 테스트데이터로 사용한다. 한글이니 euc-kr로 인코딩 해주고 header로 index가 제목이 되는것을 방지\n",
        "#대용량의 데이터를 불러오는 경우 각 칼럼의 데이터 타입(dtype)을 추측하는 것이 매우 많은 메모리를 사용하기 때문에 대용량의 데이터를 불러올때 메모리 에러가 발생하는 경우 이를 False로 설정할 것을 권장한다.\n",
        "#제목 + 기사내용\n",
        "article_data = pd.read_csv('/content/drive/My Drive/3차 프로젝트/news_sports_sample.csv', low_memory=False, encoding='euc-kr', header=None)\n",
        "article_data1=pd.DataFrame(article_data[1])\n",
        "article_data2=pd.DataFrame(article_data[6])\n",
        "article_data_g=pd.DataFrame(article_data1[1]+article_data2[6])\n",
        "article_data_g.to_csv('/content/drive/My Drive/3차 프로젝트/sports.txt', index=False, header=None, sep=\"\\t\")"
      ],
      "execution_count": 0,
      "outputs": []
    },
    {
      "cell_type": "markdown",
      "metadata": {
        "id": "HTGSATqJ_6lF",
        "colab_type": "text"
      },
      "source": [
        "#konlpy에서 text 파일 읽어오기"
      ]
    },
    {
      "cell_type": "code",
      "metadata": {
        "id": "SzNg2rXN__Bb",
        "colab_type": "code",
        "colab": {}
      },
      "source": [
        "data=konlpy.utils.read_txt('/content/drive/My Drive/3차 프로젝트/test.txt', encoding=u'utf-8')"
      ],
      "execution_count": 0,
      "outputs": []
    },
    {
      "cell_type": "markdown",
      "metadata": {
        "id": "SZVwA-ULE74p",
        "colab_type": "text"
      },
      "source": [
        "#konlpy 안에 있는 형태소 분석기"
      ]
    },
    {
      "cell_type": "markdown",
      "metadata": {
        "id": "b-08xvZZE6LL",
        "colab_type": "text"
      },
      "source": [
        "Hannanum - KAIST 말뭉치를 이용해 생성된 사전\n",
        "\n",
        "Kkma - 세종 말뭉치를 이용해 생성된 사전 (꼬꼬마)\n",
        "\n",
        "Mecab - 세종 말뭉치로 만들어진 CSV형태의 사전\n",
        "\n",
        "Komoran- Java로 쓰여진 오픈소스 한글 형태소 분석기\n",
        "\n",
        "Twitter(Okt) - 오픈소스 한글 형태소 분석기"
      ]
    },
    {
      "cell_type": "markdown",
      "metadata": {
        "id": "hSe3GJkv4HfG",
        "colab_type": "text"
      },
      "source": [
        "# hannanum 형태소 분석기"
      ]
    },
    {
      "cell_type": "code",
      "metadata": {
        "id": "6kOFw3ipEQuE",
        "colab_type": "code",
        "outputId": "d151294b-a6b5-49e3-ec8f-bb1260f21c43",
        "colab": {
          "base_uri": "https://localhost:8080/",
          "height": 230
        }
      },
      "source": [
        "from konlpy.tag import Hannanum\n",
        "hannanum = Hannanum() \n",
        " \n",
        "hannanum.analyze  #구(Phrase) 분석\n",
        "hannanum.morphs   #형태소 분석\n",
        "hannanum.nouns    #명사 분석\n",
        "hannanum.pos      #형태소 분석 태깅\n",
        " \n",
        "# 사용예시\n",
        "print(hannanum.analyze(u'롯데마트의 흑마늘 양념 치킨이 논란이 되고 있다.'))\n",
        "[[[('롯데마트', 'ncn'), ('의', 'jcm')], [('롯데마트의', 'ncn')], [('롯데마트', 'nqq'), ('의', 'jcm')], [('롯데마트의', 'nqq')]], [[('흑마늘', 'ncn')], [('흑마늘', 'nqq')]], [[('양념', 'ncn')]], [[('치킨', 'ncn'), ('이', 'jcc')], [('치킨', 'ncn'), ('이', 'jcs')], [('치킨', 'ncn'), ('이', 'ncn')]], [[('논란', 'ncpa'), ('이', 'jcc')], [('논란', 'ncpa'), ('이', 'jcs')], [('논란', 'ncpa'), ('이', 'ncn')]], [[('되', 'nbu'), ('고', 'jcj')], [('되', 'nbu'), ('이', 'jp'), ('고', 'ecc')], [('되', 'nbu'), ('이', 'jp'), ('고', 'ecs')], [('되', 'nbu'), ('이', 'jp'), ('고', 'ecx')], [('되', 'paa'), ('고', 'ecc')], [('되', 'paa'), ('고', 'ecs')], [('되', 'paa'), ('고', 'ecx')], [('되', 'pvg'), ('고', 'ecc')], [('되', 'pvg'), ('고', 'ecs')], [('되', 'pvg'), ('고', 'ecx')], [('되', 'px'), ('고', 'ecc')], [('되', 'px'), ('고', 'ecs')], [('되', 'px'), ('고', 'ecx')]], [[('있', 'paa'), ('다', 'ef')], [('있', 'px'), ('다', 'ef')]], [[('.', 'sf')], [('.', 'sy')]]]\n",
        " \n",
        "print(hannanum.morphs(u'롯데마트의 흑마늘 양념 치킨이 논란이 되고 있다.'))\n",
        "['롯데마트', '의', '흑마늘', '양념', '치킨', '이', '논란', '이', '되', '고', '있', '다', '.']\n",
        " \n",
        "print(hannanum.nouns(u'(로마=연합뉴스) 전성훈 특파원 = 신종 코로나바이러스 감염증(코로나19) 확산과 관련한 봉쇄 조처의 점진적 해제를 준비하는 이탈리아가 마스크 가격 폭등을 막기 위해 가격 상한제를 도입한다.'))\n",
        "['(로마=연합뉴스)', '전성훈', '특파원', '신종', '코로나바이러스', '감염증(코로나19)', '확산', '관련한', '봉쇄', '조처', '점진적', '해제', '준비', '이탈리아', '마스크', '가격', '폭등', '가격', '상한제', '도입']\n",
        " \n",
        "print(hannanum.pos(u'(로마=연합뉴스) 전성훈 특파원 = 신종 코로나바이러스 감염증(코로나19) 확산과 관련한 봉쇄 조처의 점진적 해제'))\n",
        "[('웃', 'P'), ('으면', 'E'), ('더', 'M'), ('행복', 'N'), ('하', 'X'), ('ㅂ니다', 'E'), ('!', 'S')]"
      ],
      "execution_count": 0,
      "outputs": [
        {
          "output_type": "stream",
          "text": [
            "[[[('롯데마트', 'ncn'), ('의', 'jcm')], [('롯데마트의', 'ncn')], [('롯데마트', 'nqq'), ('의', 'jcm')], [('롯데마트의', 'nqq')]], [[('흑마늘', 'ncn')], [('흑마늘', 'nqq')]], [[('양념', 'ncn')]], [[('치킨', 'ncn'), ('이', 'jcc')], [('치킨', 'ncn'), ('이', 'jcs')], [('치킨', 'ncn'), ('이', 'ncn')]], [[('논란', 'ncpa'), ('이', 'jcc')], [('논란', 'ncpa'), ('이', 'jcs')], [('논란', 'ncpa'), ('이', 'ncn')]], [[('되', 'nbu'), ('고', 'jcj')], [('되', 'nbu'), ('이', 'jp'), ('고', 'ecc')], [('되', 'nbu'), ('이', 'jp'), ('고', 'ecs')], [('되', 'nbu'), ('이', 'jp'), ('고', 'ecx')], [('되', 'paa'), ('고', 'ecc')], [('되', 'paa'), ('고', 'ecs')], [('되', 'paa'), ('고', 'ecx')], [('되', 'pvg'), ('고', 'ecc')], [('되', 'pvg'), ('고', 'ecs')], [('되', 'pvg'), ('고', 'ecx')], [('되', 'px'), ('고', 'ecc')], [('되', 'px'), ('고', 'ecs')], [('되', 'px'), ('고', 'ecx')]], [[('있', 'paa'), ('다', 'ef')], [('있', 'px'), ('다', 'ef')]], [[('.', 'sf')], [('.', 'sy')]]]\n",
            "['롯데마트', '의', '흑마늘', '양념', '치킨', '이', '논란', '이', '되', '고', '있', '다', '.']\n",
            "['(로마=연합뉴스)', '전성훈', '특파원', '신종', '코로나바이러스', '감염증(코로나19)', '확산', '관련한', '봉쇄', '조처', '점진적', '해제', '준비', '이탈리아', '마스크', '가격', '폭등', '가격', '상한제', '도입']\n",
            "[('(로마=연합뉴스)', 'N'), ('전성훈', 'N'), ('특파원', 'N'), ('=', 'S'), ('신종', 'N'), ('코로나바이러스', 'N'), ('감염증(코로나19)', 'N'), ('확산', 'N'), ('과', 'J'), ('관련한', 'N'), ('봉쇄', 'N'), ('조처', 'N'), ('의', 'J'), ('점진적', 'N'), ('해제', 'N')]\n"
          ],
          "name": "stdout"
        },
        {
          "output_type": "execute_result",
          "data": {
            "text/plain": [
              "[('웃', 'P'),\n",
              " ('으면', 'E'),\n",
              " ('더', 'M'),\n",
              " ('행복', 'N'),\n",
              " ('하', 'X'),\n",
              " ('ㅂ니다', 'E'),\n",
              " ('!', 'S')]"
            ]
          },
          "metadata": {
            "tags": []
          },
          "execution_count": 7
        }
      ]
    },
    {
      "cell_type": "code",
      "metadata": {
        "id": "tb2AEjNvYm_W",
        "colab_type": "code",
        "colab": {}
      },
      "source": [
        "print(hannanum.pos(u'(로마=연합뉴스) 전성훈 특파원 = 신종 코로나바이러스 감염증(코로나19) 확산과 관련한 봉쇄 조처의 점진적 해제'))\n",
        "[('(로마=연합뉴스)', 'N'), ('전성훈', 'N'), ('특파원', 'N'), ('=', 'S'), ('신종', 'N'), ('코로나바이러스', 'N'), ('감염증(코로나19)', 'N'),\n",
        " ('확산', 'N'), ('과', 'J'), ('관련한', 'N'), ('봉쇄', 'N'), ('조처', 'N'), ('의', 'J'), ('점진적', 'N'), ('해제', 'N')]"
      ],
      "execution_count": 0,
      "outputs": []
    },
    {
      "cell_type": "code",
      "metadata": {
        "id": "NVPYpjRLYnkc",
        "colab_type": "code",
        "colab": {}
      },
      "source": [
        "print(kkma.pos(u'(로마=연합뉴스) 전성훈 특파원 = 신종 코로나바이러스 감염증(코로나19) 확산과 관련한 봉쇄 조처의 점진적 해제'))\n",
        "('(', 'SS'), ('로마', 'NNG'), ('=', 'SW'), ('연합', 'NNG'), ('뉴스', 'NNG'), (')', 'SS'), ('전성', 'NNG'), ('훈', 'NNG'), ('특파원', 'NNG'), ('=', 'SW'), ('신종', 'NNG'), ('코로나', 'NNG'), ('바', 'NNG'), ('이러스', 'UN'), ('감염증', 'NNG'), ('(', 'SS'), ('코로나', 'NNG'), ('19', 'NR'), (')', 'SS'), ('확산', 'NNG'),\n",
        " ('과', 'JKM'), ('관련', 'NNG'), ('하', 'XSV'), ('ㄴ', 'ETD'), ('봉쇄', 'NNG'), ('조처', 'NNG'), ('의', 'JKG'), ('점진적', 'NNG'), ('해제', 'NNG')"
      ],
      "execution_count": 0,
      "outputs": []
    },
    {
      "cell_type": "code",
      "metadata": {
        "id": "x0WveBdmZqLM",
        "colab_type": "code",
        "outputId": "ab211eec-2469-4566-b84d-0cb33e3e75cd",
        "colab": {
          "base_uri": "https://localhost:8080/",
          "height": 54
        }
      },
      "source": [
        "print(komoran.pos(u'(로마=연합뉴스) 전성훈 특파원 = 신종 코로나바이러스 감염증(코로나19) 확산과 관련한 봉쇄 조처의 점진적 해제'))\n",
        "('(', 'SS'), ('로마', 'NNP'), ('=', 'SW'), ('연합뉴스', 'NNP'), (')', 'SS'), ('전', 'MM'), ('성훈', 'NNP'), ('특파원', 'NNP'), ('=', 'SW'), \n",
        "('신종', 'NNP'), ('코로나바이러스', 'NNP'), ('감염증', 'NNG'), ('(', 'SS'), ('코로나', 'NNP'), ('19', 'NNP'), (')', 'SS'), ('확산', 'NNG'), \n",
        "('과', 'JC'), ('관련', 'NNG'), ('하', 'XSV'), ('ㄴ', 'ETM'), ('봉쇄', 'NNP'), ('조처', 'NNG'), ('의', 'JKG'), ('점진', 'NNG'), ('적', 'XSN'),('해제', 'NNP')"
      ],
      "execution_count": 0,
      "outputs": [
        {
          "output_type": "stream",
          "text": [
            "[('(', 'SS'), ('로마', 'NNP'), ('=', 'SW'), ('연합뉴스', 'NNP'), (')', 'SS'), ('전', 'MM'), ('성훈', 'NNP'), ('특파원', 'NNP'), ('=', 'SW'), ('신종', 'NNP'), ('코로나바이러스', 'NNP'), ('감염증', 'NNG'), ('(', 'SS'), ('코로나', 'NNP'), ('19', 'NNP'), (')', 'SS'), ('확산', 'NNG'), ('과', 'JC'), ('관련', 'NNG'), ('하', 'XSV'), ('ㄴ', 'ETM'), ('봉쇄', 'NNP'), ('조처', 'NNG'), ('의', 'JKG'), ('점진', 'NNG'), ('적', 'XSN'), ('해제', 'NNP')]\n"
          ],
          "name": "stdout"
        }
      ]
    },
    {
      "cell_type": "code",
      "metadata": {
        "id": "7mx9j3w8Z8BY",
        "colab_type": "code",
        "outputId": "0517ced4-57b6-4ebe-bff2-f529bdff53b4",
        "colab": {
          "base_uri": "https://localhost:8080/",
          "height": 54
        }
      },
      "source": [
        "print(okt.pos(u'(로마=연합뉴스) 전성훈 특파원 = 신종 코로나바이러스 감염증(코로나19) 확산과 관련한 봉쇄 조처의 점진적 해제'))\n",
        "('(', 'Punctuation'), ('로마', 'Noun'), ('=', 'Punctuation'), ('연합뉴스', 'Noun'), (')', 'Punctuation'), ('전성훈', 'Noun'), ('특파원', 'Noun'), ('=', 'Punctuation'), ('신종', 'Noun'),\n",
        " ('코로나바이러스', 'Noun'), ('감염증', 'Noun'), ('(', 'Punctuation'), ('코로나', 'Noun'), ('19', 'Number'), (')', 'Punctuation'), ('확산', 'Noun'), ('과', 'Josa'), ('관련', 'Noun'), \n",
        " ('한', 'Josa'), ('봉쇄', 'Noun'), ('조처', 'Noun'), ('의', 'Josa'), ('점진', 'Noun'), ('적', 'Suffix'), ('해제', 'Noun')"
      ],
      "execution_count": 0,
      "outputs": [
        {
          "output_type": "stream",
          "text": [
            "[('(', 'Punctuation'), ('로마', 'Noun'), ('=', 'Punctuation'), ('연합뉴스', 'Noun'), (')', 'Punctuation'), ('전성훈', 'Noun'), ('특파원', 'Noun'), ('=', 'Punctuation'), ('신종', 'Noun'), ('코로나바이러스', 'Noun'), ('감염증', 'Noun'), ('(', 'Punctuation'), ('코로나', 'Noun'), ('19', 'Number'), (')', 'Punctuation'), ('확산', 'Noun'), ('과', 'Josa'), ('관련', 'Noun'), ('한', 'Josa'), ('봉쇄', 'Noun'), ('조처', 'Noun'), ('의', 'Josa'), ('점진', 'Noun'), ('적', 'Suffix'), ('해제', 'Noun')]\n"
          ],
          "name": "stdout"
        }
      ]
    },
    {
      "cell_type": "code",
      "metadata": {
        "id": "LES-5Lv_4Hhk",
        "colab_type": "code",
        "outputId": "8d351934-b6fa-4721-f6bf-ebeb3ca84962",
        "colab": {
          "base_uri": "https://localhost:8080/",
          "height": 107
        }
      },
      "source": [
        "from konlpy.tag import Hannanum\n",
        "hannanum = Hannanum() \n",
        "hannanum.analyze  #구(Phrase) 분석\n",
        "hannanum.morphs   #형태소 분석\n",
        "hannanum.nouns    #명사 분석\n",
        "hannanum.pos      #형태소 분석 태깅\n",
        " \n",
        "# 사용예시\n",
        "print(hannanum.analyze(data))\n",
        "\n",
        "print(hannanum.morphs(data))\n",
        "\n",
        "print(hannanum.nouns(data))\n",
        " \n",
        "print(hannanum.pos(data))"
      ],
      "execution_count": 0,
      "outputs": [
        {
          "output_type": "stream",
          "text": [
            "[[[('[', 'sl'), ('앵커', 'ncr'), (']', 'sr'), ('뭔가', 'ncn')]], [[('다른', 'mma')], [('다르', 'paa'), ('ㄴ', 'etm')]], [[('것', 'nbn'), ('이', 'jcs')]], [[('없', 'paa'), ('을까', 'ecs')], [('없', 'paa'), ('을까', 'ef')]], [[('스포츠', 'ncn'), ('에선', 'jca')], [('스포츠', 'ncn'), ('에', 'jca'), ('선', 'jxc')]], [[('새해', 'ncn'), ('를', 'jco')]], [[('맞이', 'ncpa'), ('하', 'xsva'), ('는', 'etm')], [('맞이', 'ncpa'), ('하', 'xsva'), ('어', 'ecs'), ('는', 'jxc')], [('맞이', 'ncpa'), ('하', 'xsva'), ('어', 'ef'), ('는', 'etm')]], [[('방법', 'ncn'), ('을', 'jco')]], [[('놓', 'pvg'), ('고', 'ecc')], [('놓', 'pvg'), ('고', 'ecs')], [('놓', 'pvg'), ('고', 'ecx')], [('놓', 'px'), ('고', 'ecc')], [('놓', 'px'), ('고', 'ecs')], [('놓', 'px'), ('고', 'ecx')]], [[('머리', 'ncn'), ('를', 'jco')]], [[('짜', 'pvg'), ('아', 'ecx'), ('내', 'px'), ('ㅂ니다', 'ef')], [('짜내', 'pvg'), ('ㅂ니다', 'ef')]], [[('.', 'sf')], [('.', 'sy')]], [], [[('우리', 'npp')]], [[('농구', 'ncn'), ('는', 'jxc')]], [[('팬', 'ncn'), ('들', 'xsncc'), ('과', 'jcj')], [('팬', 'ncn'), ('들', 'xsncc'), ('과', 'jct')], [('패', 'pvg'), ('ㄴ', 'etm'), ('들', 'nbn'), ('과', 'jcj')], [('패', 'pvg'), ('ㄴ', 'etm'), ('들', 'nbn'), ('과', 'jct')]], [[('함께', 'mag')]], [[('새해', 'ncn')], [('새', 'pvg'), ('어', 'ecx'), ('하', 'px'), ('어', 'ecs')], [('새', 'pvg'), ('어', 'ecx'), ('하', 'px'), ('어', 'ecx')], [('새', 'pvg'), ('어', 'ecx'), ('하', 'px'), ('어', 'ef')]], [[('카운트', 'ncpa')]], [[('다운', 'ncpa'), ('을', 'jco')]], [[('하기', 'ncn')], [('하', 'pvg'), ('기', 'etn')], [('하', 'px'), ('기', 'etn')]], [[('위하', 'pvg'), ('어서', 'ecs')]], [[('자정', 'ncn')], [('자정', 'ncpa')]], [[('무렵', 'nbn'), ('까지', 'jca')], [('무렵', 'nbn'), ('까지', 'jxc')]], [[('경기', 'ncn'), ('를', 'jco')], [('경기', 'ncpa'), ('를', 'jco')]], [[('하', 'pvg'), ('었', 'ep'), ('고', 'ecc')], [('하', 'pvg'), ('었', 'ep'), ('고', 'ecs')], [('하', 'pvg'), ('었', 'ep'), ('고', 'ecx')], [('하', 'px'), ('었', 'ep'), ('고', 'ecc')], [('하', 'px'), ('었', 'ep'), ('고', 'ecs')], [('하', 'px'), ('었', 'ep'), ('고', 'ecx')]], [[('북미', 'ncn')], [('북미', 'nqq')]], [[('아이스하키', 'ncn'), (',', 'sp')], [('아이스', 'ncn'), ('하키', 'ncn'), (',', 'sp')]], [], [[('NHL', 'f'), ('은', 'jxc')], [('NHL', 'f'), ('은', 'ncn')]], [[('널찍', 'ncps'), ('한', 'ncn')], [('널찍', 'ncps'), ('하', 'xsms'), ('ㄴ', 'etm')]], [[('야외', 'ncn')]], [[('미식', 'ncn')], [('미식', 'ncpa')], [('미', 'ncn'), ('식', 'xsncc')]], [[('축구장', 'ncn'), ('으로', 'jca')], [('축구', 'ncn'), ('장', 'ncn'), ('으로', 'jca')]], [[('경기장', 'ncn'), ('을', 'jco')], [('경기', 'ncn'), ('장', 'ncn'), ('을', 'jco')], [('경기', 'ncpa'), ('장', 'ncn'), ('을', 'jco')]], [[('옮기', 'pvg'), ('었', 'ep'), ('습니다', 'ef')]], [[('.', 'sf')], [('.', 'sy')]], [], [[('온누', 'ncn'), ('이', 'jp'), ('리', 'ef')], [('온누리', 'ncn')], [('온누', 'nqq'), ('이', 'jp'), ('리', 'ef')], [('온누리', 'nqq')]], [[('기자', 'ncr'), ('이', 'jp'), ('ㅂ니다', 'ef')]], [[('.', 'sf')], [('.', 'sy')]], [], [[('[', 'sl'), ('기자', 'ncr'), (']', 'sr'), ('하나씩', 'ncn')], [('[', 'sl'), ('기자', 'ncr'), (']', 'sr'), ('하나', 'nnc'), ('씩', 'xsnu')], [('[', 'sl'), ('기', 'nbu'), ('이', 'jp'), ('자', 'ecc'), (']', 'sr'), ('하나씩', 'ncn')], [('[', 'sl'), ('기', 'nbu'), ('이', 'jp'), ('자', 'ecc'), (']', 'sr'), ('하나', 'nnc'), ('씩', 'xsnu')], [('[', 'sl'), ('기', 'nbu'), ('이', 'jp'), ('자', 'ecs'), (']', 'sr'), ('하나씩', 'ncn')], [('[', 'sl'), ('기', 'nbu'), ('이', 'jp'), ('자', 'ecs'), (']', 'sr'), ('하나', 'nnc'), ('씩', 'xsnu')], [('[', 'sl'), ('기', 'nbu'), ('이', 'jp'), ('자', 'ef'), (']', 'sr'), ('하나씩', 'ncn')], [('[', 'sl'), ('기', 'nbu'), ('이', 'jp'), ('자', 'ef'), (']', 'sr'), ('하나', 'nnc'), ('씩', 'xsnu')], [('[', 'sl'), ('기', 'ncn'), ('이', 'jp'), ('자', 'ecc'), (']', 'sr'), ('하나씩', 'ncn')], [('[', 'sl'), ('기', 'ncn'), ('이', 'jp'), ('자', 'ecc'), (']', 'sr'), ('하나', 'nnc'), ('씩', 'xsnu')], [('[', 'sl'), ('기', 'ncn'), ('이', 'jp'), ('자', 'ecs'), (']', 'sr'), ('하나씩', 'ncn')], [('[', 'sl'), ('기', 'ncn'), ('이', 'jp'), ('자', 'ecs'), (']', 'sr'), ('하나', 'nnc'), ('씩', 'xsnu')], [('[', 'sl'), ('기', 'ncn'), ('이', 'jp'), ('자', 'ef'), (']', 'sr'), ('하나씩', 'ncn')], [('[', 'sl'), ('기', 'ncn'), ('이', 'jp'), ('자', 'ef'), (']', 'sr'), ('하나', 'nnc'), ('씩', 'xsnu')], [('[', 'sl'), ('기', 'pvg'), ('자', 'ecc'), (']', 'sr'), ('하나씩', 'ncn')], [('[', 'sl'), ('기', 'pvg'), ('자', 'ecc'), (']', 'sr'), ('하나', 'nnc'), ('씩', 'xsnu')], [('[', 'sl'), ('기', 'pvg'), ('자', 'ecs'), (']', 'sr'), ('하나씩', 'ncn')], [('[', 'sl'), ('기', 'pvg'), ('자', 'ecs'), (']', 'sr'), ('하나', 'nnc'), ('씩', 'xsnu')], [('[', 'sl'), ('기', 'pvg'), ('자', 'ef'), (']', 'sr'), ('하나씩', 'ncn')], [('[', 'sl'), ('기', 'pvg'), ('자', 'ef'), (']', 'sr'), ('하나', 'nnc'), ('씩', 'xsnu')]], [[('줄어들', 'pvg'), ('던', 'etm')], [('줄어들', 'pvg'), ('더', 'ep'), ('ㄴ', 'etm')]], [[('숫자', 'ncn'), ('가', 'jcc')], [('숫자', 'ncn'), ('가', 'jcs')]], [], [[('0', 'nnc'), ('으로', 'jca')]], [[('바뀌', 'pvg'), ('면서', 'ecc')], [('바뀌', 'pvg'), ('면서', 'ecs')], [('바뀌', 'pvg'), ('면서', 'ecc')], [('바뀌', 'pvg'), ('면서', 'ecs')]], [[('새해', 'ncn'), ('는', 'jxc')], [('새', 'pvg'), ('어', 'ecx'), ('하', 'px'), ('어', 'ecs'), ('는', 'jxc')], [('새', 'pvg'), ('어', 'ecx'), ('하', 'px'), ('어', 'ef'), ('는', 'etm')]], [[('커다랗', 'paa'), ('은', 'etm')]], [[('함성', 'ncn'), ('과', 'jcj')], [('함성', 'ncn'), ('과', 'jct')], [('함성', 'ncn'), ('과', 'ncn')]], [[('함께', 'mag')]], [[('찾', 'pvg'), ('아', 'ecx'), ('오', 'px'), ('아', 'ep'), ('ㅂ니다', 'ef')], [('찾아오', 'pvg'), ('아', 'ep'), ('ㅂ니다', 'ef')]], [[('.', 'sf')], [('.', 'sy')]], [], [[('서울', 'ncn')], [('서울', 'nqq')]], [[('보신각', 'ncn'), ('도', 'jxc')], [('보신각', 'ncn'), ('도', 'ncn')], [('보신', 'ncpa'), ('각도', 'ncn')], [('보신', 'ncpa'), ('각', 'ncn'), ('도', 'jxc')]], [[('아니', 'paa'), ('ㄴ데', 'ecs')], [('아니', 'paa'), ('ㄴ', 'etm'), ('데', 'nbn')]], [[('커다랗', 'paa'), ('은', 'etm')]], [[('종소리', 'ncn'), ('가', 'jcc')], [('종소리', 'ncn'), ('가', 'jcs')]], [[('2020', 'nnc'), ('년', 'nbu'), ('을', 'jco')]], [[('알리', 'pvg'), ('는', 'etm')], [('알', 'pvg'), ('ㄹ', 'etm'), ('리', 'nbn'), ('는', 'jxc')], [('알', 'pvg'), ('리', 'ef'), ('는', 'etm')], [('알', 'pvg'), ('리', 'ep'), ('는', 'etm')]], [[('곳', 'nbu'), (',', 'sp')], [('곳', 'ncn'), (',', 'sp')]], [], [[('1', 'nnc'), ('박', 'nbu')]], [[('2', 'nnc'), ('일', 'nbu')], [('2', 'nnc'), ('일', 'nnc')], [('2', 'nnc'), ('이', 'jp'), ('ㄹ', 'etm')]], [[('경기', 'ncn'), ('가', 'jcc')], [('경기', 'ncn'), ('가', 'jcs')], [('경기', 'ncpa'), ('가', 'jcc')], [('경기', 'ncpa'), ('가', 'jcs')]], [[('펼치', 'pvg'), ('어', 'ecx'), ('지', 'px'), ('ㄴ', 'etm')], [('펼쳐지', 'pvg'), ('ㄴ', 'etm')]], [[('코트', 'ncn')]], [[('위', 'nbu'), ('이', 'jp'), ('ㅂ니다', 'ef'), ('.', 'sf')], [('위', 'ncn'), ('이', 'jp'), ('ㅂ니다', 'ef'), ('.', 'sf')]], [[('12', 'nnc'), ('월', 'nbu'), ('의', 'jcm')]], [[('마지막', 'ncn')]], [[('밤', 'ncn')]], [[('시작', 'ncpa'), ('해', 'ncn'), (',', 'sp')], [('시작', 'ncpa'), ('하', 'xsva'), ('어', 'ecs'), (',', 'sp')], [('시작', 'ncpa'), ('하', 'xsva'), ('어', 'ef'), (',', 'sp')]], [[('코트', 'ncn'), ('에서', 'jca')]], [[('다', 'mag')]], [[('같', 'paa'), ('이', 'xsa')], [('같이', 'mag')]], [[('신년', 'ncn'), ('을', 'jco')], [('실', 'pvg'), ('ㄴ', 'etm'), ('년', 'nbn'), ('을', 'jco')], [('시', 'paa'), ('ㄴ', 'etm'), ('년', 'nbn'), ('을', 'jco')]], [[('맞', 'pvg'), ('는다', 'ef')]], [[('하', 'pvg'), ('어서', 'ecs')], [('하', 'px'), ('어서', 'ecs')]], [[('송구', 'ncpa'), ('영신', 'ncpa'), ('에', 'jca')], [('송구', 'ncps'), ('영신', 'ncpa'), ('에', 'jca')]], [[('빗대', 'pvg'), ('어', 'ecs')], [('빗대', 'pvg'), ('어', 'ecx')], [('빗대', 'pvg'), ('어', 'ef')]], [[(\"'\", 'sl'), ('농구', 'ncn'), ('영신', 'ncpa'), (\"'\", 'sr'), ('이라', 'jca')], [(\"'\", 'sl'), ('농구', 'ncn'), ('영신', 'ncpa'), (\"'\", 'sr'), ('이', 'ncn'), ('이', 'jp'), ('라', 'ecs')], [(\"'\", 'sl'), ('농구', 'ncn'), ('영신', 'ncpa'), (\"'\", 'sr'), ('이', 'ncn'), ('이', 'jp'), ('라', 'ef')], [(\"'\", 'sl'), ('농구', 'ncn'), ('영신', 'ncpa'), (\"'\", 'sr'), ('이', 'nnc'), ('이', 'jp'), ('라', 'ecs')], [(\"'\", 'sl'), ('농구', 'ncn'), ('영신', 'ncpa'), (\"'\", 'sr'), ('이', 'nnc'), ('이', 'jp'), ('라', 'ef')], [(\"'\", 'sl'), ('농구', 'ncn'), ('영신', 'ncpa'), (\"'\", 'sr'), ('이', 'npd'), ('이', 'jp'), ('라', 'ecs')], [(\"'\", 'sl'), ('농구', 'ncn'), ('영신', 'ncpa'), (\"'\", 'sr'), ('이', 'npd'), ('이', 'jp'), ('라', 'ef')], [(\"'\", 'sl'), ('농구', 'ncn'), ('영신', 'ncpa'), (\"'\", 'sr'), ('이', 'jp'), ('라', 'ecs')], [(\"'\", 'sl'), ('농구', 'ncn'), ('영신', 'ncpa'), (\"'\", 'sr'), ('이', 'jp'), ('라', 'ef')], [(\"'\", 'sr'), ('농구', 'ncn'), ('영신', 'ncpa'), (\"'\", 'sr'), ('이라', 'jca')], [(\"'\", 'sr'), ('농구', 'ncn'), ('영신', 'ncpa'), (\"'\", 'sr'), ('이', 'ncn'), ('이', 'jp'), ('라', 'ecs')], [(\"'\", 'sr'), ('농구', 'ncn'), ('영신', 'ncpa'), (\"'\", 'sr'), ('이', 'ncn'), ('이', 'jp'), ('라', 'ef')], [(\"'\", 'sr'), ('농구', 'ncn'), ('영신', 'ncpa'), (\"'\", 'sr'), ('이', 'nnc'), ('이', 'jp'), ('라', 'ecs')], [(\"'\", 'sr'), ('농구', 'ncn'), ('영신', 'ncpa'), (\"'\", 'sr'), ('이', 'nnc'), ('이', 'jp'), ('라', 'ef')], [(\"'\", 'sr'), ('농구', 'ncn'), ('영신', 'ncpa'), (\"'\", 'sr'), ('이', 'npd'), ('이', 'jp'), ('라', 'ecs')], [(\"'\", 'sr'), ('농구', 'ncn'), ('영신', 'ncpa'), (\"'\", 'sr'), ('이', 'npd'), ('이', 'jp'), ('라', 'ef')], [(\"'\", 'sr'), ('농구', 'ncn'), ('영신', 'ncpa'), (\"'\", 'sr'), ('이', 'jp'), ('라', 'ecs')], [(\"'\", 'sr'), ('농구', 'ncn'), ('영신', 'ncpa'), (\"'\", 'sr'), ('이', 'jp'), ('라', 'ef')]], [[('부르', 'pvg'), ('ㅂ니다', 'ef')]], [[('.', 'sf')], [('.', 'sy')]], [], [[('올해', 'ncn'), ('로', 'jca')]], [[('4', 'nnc'), ('년', 'nbu'), ('째', 'xsnu'), ('이', 'jp'), ('ㄴ데', 'ecs'), (',', 'sp')], [('4', 'nnc'), ('년', 'nbu'), ('째', 'xsnu'), ('이', 'jp'), ('ㄴ', 'etm'), ('데', 'nbn'), (',', 'sp')]], [[('매년', 'mag')], [('매년', 'ncn')]], [[('매진', 'ncpa')], [('매', 'xp'), ('진', 'ncn')], [('매', 'pvg'), ('어', 'ecx'), ('지', 'px'), ('ㄴ', 'etm')]], [[('기록', 'ncpa'), ('이', 'jcc')], [('기록', 'ncpa'), ('이', 'jcs')], [('기록', 'ncpa'), ('이', 'ncn')]], [[('이', 'ncn'), ('이', 'jp'), ('어', 'ecx'), ('지', 'px'), ('ㅂ니다', 'ef')], [('이', 'nnc'), ('이', 'jp'), ('어', 'ecx'), ('지', 'px'), ('ㅂ니다', 'ef')], [('이', 'npd'), ('이', 'jp'), ('어', 'ecx'), ('지', 'px'), ('ㅂ니다', 'ef')], [('이', 'pvg'), ('어', 'ecx'), ('지', 'px'), ('ㅂ니다', 'ef')], [('잇', 'pvg'), ('어', 'ecx'), ('지', 'px'), ('ㅂ니다', 'ef')], [('이어지', 'pvg'), ('ㅂ니다', 'ef')]], [[('.', 'sf')], [('.', 'sy')]], [], [[('북미', 'ncn')], [('북미', 'nqq')]], [[('아이스하키', 'ncn'), (',', 'sp')], [('아이스', 'ncn'), ('하키', 'ncn'), (',', 'sp')]], [[('NHL', 'f'), ('의', 'jcm')], [('NHL', 'f'), ('의', 'ncn')]], [[('새해', 'ncn'), ('맞이', 'ncpa'), ('는', 'jxc')]], [[('또', 'maj')]], [[('다르', 'paa'), ('ㅂ니다', 'ef')]], [[('.', 'sf')], [('.', 'sy')]], [], [[('영하', 'ncn')], [('영하', 'paa'), ('어', 'ecs')], [('영하', 'paa'), ('어', 'ecx')], [('영하', 'paa'), ('어', 'ef')]], [[('13', 'nnc'), ('도', 'nbu'), ('의', 'jcm')]], [[('강추위', 'ncn')]], [[('그러나', 'maj')]], [[('10', 'nnc'), ('만', 'jxc')], [('10', 'nnc'), ('만', 'nnc')]], [[('명', 'nbu')], [('명', 'ncn')]], [[('넘', 'pvg'), ('는', 'etm')], [('널', 'pvg'), ('ㅁ', 'etn'), ('는', 'jxc')]], [[('팬', 'ncn'), ('들', 'xsncc'), ('의', 'jcm')], [('패', 'pvg'), ('ㄴ', 'etm'), ('들', 'nbn'), ('의', 'jcm')]], [], [[('뜨겁', 'paa'), ('은', 'etm')]], [[('열기', 'ncn'), ('에', 'jca')], [('열', 'nnc'), ('기', 'nbu'), ('에', 'jca')], [('열', 'pvg'), ('기', 'etn'), ('에', 'jca')]], [[('선수', 'ncn'), ('들', 'ncn')], [('선수', 'ncn'), ('들', 'xsncc')], [('선수', 'ncpa'), ('들', 'ncn')], [('선수', 'ncpa'), ('들', 'xsncc')]], [[('얼굴', 'ncn'), ('에도', 'jca')], [('얼굴', 'ncn'), ('에', 'jca'), ('도', 'jxc')]], [[('기대감', 'ncn'), ('이', 'jcc')], [('기대감', 'ncn'), ('이', 'jcs')], [('기대감', 'ncn'), ('이', 'ncn')], [('기대', 'ncpa'), ('감', 'ncn'), ('이', 'jcc')], [('기대', 'ncpa'), ('감', 'ncn'), ('이', 'jcs')], [('기대', 'pvg'), ('어', 'ecx'), ('가', 'px'), ('ㅁ', 'etn'), ('이', 'jcc')], [('기대', 'pvg'), ('어', 'ecx'), ('가', 'px'), ('ㅁ', 'etn'), ('이', 'jcs')]], [[('떠오르', 'pvg'), ('ㅂ니다', 'ef')]], [[('.', 'sf')], [('.', 'sy')]], [], [[('골', 'ncn'), ('이', 'jcc')], [('골', 'ncn'), ('이', 'jcs')]], [[('트', 'pvg'), ('어', 'ecx'), ('지', 'px'), ('었', 'ep'), ('을', 'etm')], [('터지', 'pvg'), ('었', 'ep'), ('을', 'etm')]], [[('때', 'pvg'), ('ㄴ', 'etm')]], [[('물론', 'ncn'), ('이고', 'jcj'), (',', 'sp')], [('물론', 'ncn'), ('이', 'jp'), ('고', 'ecc'), (',', 'sp')], [('물론', 'ncn'), ('이', 'jp'), ('고', 'ecs'), (',', 'sp')], [('물론', 'ncn'), ('이', 'ncn'), ('고', 'jcj'), (',', 'sp')], [('물론', 'ncn'), ('이', 'ncn'), ('이', 'jp'), ('고', 'ecc'), (',', 'sp')], [('물론', 'ncn'), ('이', 'ncn'), ('이', 'jp'), ('고', 'ecs'), (',', 'sp')]], [[('선수', 'ncn'), ('들', 'ncn'), ('의', 'jcm')], [('선수', 'ncn'), ('들', 'xsncc'), ('의', 'jcm')], [('선수', 'ncpa'), ('들', 'ncn'), ('의', 'jcm')], [('선수', 'ncpa'), ('들', 'xsncc'), ('의', 'jcm')]], [[('싸움', 'ncpa'), ('에도', 'jca')], [('싸움', 'ncpa'), ('에', 'jca'), ('도', 'jxc')], [('싸우', 'pvg'), ('ㅁ', 'etn'), ('에도', 'jca')], [('싸우', 'pvg'), ('ㅁ', 'etn'), ('에', 'jca'), ('도', 'jxc')]], [[('세상', 'ncn'), ('이', 'jcc')], [('세상', 'ncn'), ('이', 'jcs')], [('세상', 'ncn'), ('이', 'ncn')]], [[('뜨', 'paa'), ('어', 'ecx'), ('나', 'px'), ('아', 'ecx'), ('가', 'px'), ('ㄹ', 'etm')], [('뜨', 'pvg'), ('어', 'ecx'), ('나', 'px'), ('아', 'ecx'), ('가', 'px'), ('ㄹ', 'etm')], [('떠나', 'pvg'), ('아', 'ecx'), ('가', 'px'), ('ㄹ', 'etm')], [('떠나가', 'pvg'), ('ㄹ', 'etm')]], [[('듯', 'nbn')]], [[('함성', 'ncn'), ('이', 'jcc')], [('함성', 'ncn'), ('이', 'jcs')], [('함성', 'ncn'), ('이', 'ncn')]], [[('터지', 'pvg'), ('는', 'etm')], [('트', 'pvg'), ('어', 'ecx'), ('지', 'px'), ('는', 'etm')], [('트', 'pvg'), ('어', 'ef'), ('지는', 'etm')]], [[('시즌', 'ncn')]], [[('딱', 'mag')]], [[('하', 'pvg'), ('ㄴ', 'etm')], [('한', 'nnc')], [('한', 'ncn')], [('한', 'nbn')], [('하', 'px'), ('ㄴ', 'etm')]], [[('번', 'nbu'), ('의', 'jcm')], [('번', 'ncn'), ('의', 'jcm')]], [[('경기', 'ncn')], [('경기', 'ncpa')]], [[('.', 'sf')], [('.', 'sy')]], [], [[('실내', 'ncn'), ('경기', 'ncn'), ('로', 'jca')], [('실내', 'ncn'), ('경기', 'ncpa'), ('로', 'jca')]], [[('여겨지', 'pvg'), ('는', 'etm')], [('여기', 'pvg'), ('어', 'ecx'), ('지', 'px'), ('는', 'etm')], [('여기', 'pvg'), ('어', 'ef'), ('지는', 'etm')]], [[('NHL', 'f'), ('이', 'jcc')], [('NHL', 'f'), ('이', 'jcs')], [('NHL', 'f'), ('이', 'ncn')]], [[('특별히', 'mag')], [('특별', 'ncps'), ('히', 'xsas')]], [[('야외', 'ncn'), ('로', 'jca')]], [[('나가', 'pvg'), ('는', 'etm')], [('나', 'ncn'), ('가', 'jcc'), ('는', 'jxc')], [('나', 'ncn'), ('가', 'jcs'), ('는', 'jxc')], [('나', 'npp'), ('가', 'jcc'), ('는', 'jxc')], [('나', 'npp'), ('가', 'jcs'), ('는', 'jxc')], [('나', 'pvg'), ('아', 'ecx'), ('가', 'px'), ('는', 'etm')], [('나', 'pvg'), ('아', 'ecx'), ('가', 'px'), ('아', 'ecs'), ('는', 'jxc')], [('나', 'pvg'), ('아', 'ecx'), ('가', 'px'), ('아', 'ef'), ('는', 'etm')], [('나', 'px'), ('아', 'ecx'), ('가', 'px'), ('는', 'etm')], [('나', 'px'), ('아', 'ecx'), ('가', 'px'), ('아', 'ecs'), ('는', 'jxc')], [('나', 'px'), ('아', 'ecx'), ('가', 'px'), ('아', 'ef'), ('는', 'etm')], [('나가', 'pvg'), ('아', 'ecs'), ('는', 'jxc')], [('나가', 'pvg'), ('아', 'ef'), ('는', 'etm')]], [[('날', 'nbu'), ('이', 'jp'), ('ㅂ니다', 'ef'), ('.', 'sf')], [('날', 'ncn'), ('이', 'jp'), ('ㅂ니다', 'ef'), ('.', 'sf')]], [[('2008', 'nnc'), ('년', 'nbu'), ('부터', 'jca')], [('2008', 'nnc'), ('년', 'nbu'), ('부터', 'jxc')]], [[('이런', 'mmd')], [('이렇', 'pad'), ('은', 'etm')]], [[('이벤트', 'ncn'), ('를', 'jco')]], [[('열기', 'ncn')], [('열', 'nnc'), ('기', 'nbu')], [('열', 'pvg'), ('기', 'etn')]], [[('시작', 'ncpa'), ('하', 'xsva'), ('었', 'ep'), ('습니다', 'ef')]], [[('.', 'sf')], [('.', 'sy')]], [], [[('실내', 'ncn')], [('실', 'ncn'), ('내', 'xsncc')], [('실', 'pvg'), ('ㄹ', 'etm'), ('내', 'nbn')], [('시', 'paa'), ('ㄹ', 'etm'), ('내', 'nbn')]], [[('링크', 'ncpa'), ('가', 'jcc')], [('링크', 'ncpa'), ('가', 'jcs')]], [[('없', 'paa'), ('었', 'ep'), ('던', 'etm')], [('없', 'paa'), ('었', 'ep'), ('더', 'ep'), ('ㄴ', 'etm')], [('없', 'paa'), ('었더', 'ep'), ('ㄴ', 'etm')]], [[('과거', 'ncn'), ('를', 'jco')]], [[('뜨', 'paa'), ('어', 'ecx'), ('오', 'px'), ('ㄹ', 'etm'), ('리', 'nbn'), ('이', 'jp'), ('며', 'ecc')], [('뜨', 'paa'), ('어', 'ecx'), ('오', 'px'), ('ㄹ', 'etm'), ('리', 'nbn'), ('이', 'jp'), ('며', 'ecs')], [('뜨', 'pvg'), ('어', 'ecx'), ('오', 'px'), ('ㄹ', 'etm'), ('리', 'nbn'), ('이', 'jp'), ('며', 'ecc')], [('뜨', 'pvg'), ('어', 'ecx'), ('오', 'px'), ('ㄹ', 'etm'), ('리', 'nbn'), ('이', 'jp'), ('며', 'ecs')], [('떠올리', 'pvg'), ('며', 'ecc')], [('떠올리', 'pvg'), ('며', 'ecs')]], [[('야구장', 'ncn'), ('이나', 'jcj')], [('야구장', 'ncn'), ('이나', 'jxc')], [('야구장', 'ncn'), ('이', 'jcc'), ('나', 'jxc')], [('야구장', 'ncn'), ('이', 'jcs'), ('나', 'jxc')], [('야구장', 'ncn'), ('이', 'jp'), ('나', 'ef')], [('야구장', 'ncn'), ('이', 'ncn'), ('나', 'jcj')], [('야구장', 'ncn'), ('이', 'ncn'), ('나', 'jxc')], [('야구장', 'ncn'), ('이', 'ncn'), ('이', 'jp'), ('나', 'ef')], [('야구장', 'ncn'), ('이', 'ncn'), ('이', 'jp'), ('나', 'ecc')], [('야구장', 'ncn'), ('이', 'ncn'), ('이', 'jp'), ('나', 'ecs')], [('야구장', 'ncn'), ('이', 'jp'), ('나', 'ecc')], [('야구장', 'ncn'), ('이', 'jp'), ('나', 'ecs')], [('야구', 'ncn'), ('장', 'ncn'), ('이나', 'jcj')], [('야구', 'ncn'), ('장', 'ncn'), ('이나', 'jxc')], [('야구', 'ncn'), ('장', 'ncn'), ('이', 'jcc'), ('나', 'jxc')], [('야구', 'ncn'), ('장', 'ncn'), ('이', 'jcs'), ('나', 'jxc')], [('야구', 'ncn'), ('장', 'ncn'), ('이', 'jp'), ('나', 'ef')], [('야구', 'ncn'), ('장', 'ncn'), ('이', 'jp'), ('나', 'ecc')], [('야구', 'ncn'), ('장', 'ncn'), ('이', 'jp'), ('나', 'ecs')]], [[('미식축구', 'ncn')], [('미식', 'ncn'), ('축구', 'ncn')], [('미식', 'ncpa'), ('축구', 'ncn')]], [[('경기장', 'ncn'), ('을', 'jco')], [('경기', 'ncn'), ('장', 'ncn'), ('을', 'jco')], [('경기', 'ncpa'), ('장', 'ncn'), ('을', 'jco')]], [[('꽁꽁', 'mag')]], [[('얼', 'pvg'), ('리', 'ep'), ('ㅂ니다', 'ef')], [('얼리', 'pvg'), ('ㅂ니다', 'ef')]], [[('.', 'sf')], [('.', 'sy')]], [], [[('그러다', 'mag')], [('그러', 'pvd'), ('다', 'ef')], [('그르', 'paa'), ('어다', 'ecs')], [('그르', 'paa'), ('어다', 'ecx')], [('그러', 'pvd'), ('어다', 'ecs')], [('그러', 'pvd'), ('어다', 'ecx')]], [[('보', 'nbu'), ('이', 'jp'), ('니', 'ef')], [('보', 'nbu'), ('이', 'jp'), ('니', 'ecc')], [('보', 'nbu'), ('이', 'jp'), ('니', 'ecs')], [('보', 'ncn'), ('이', 'jp'), ('니', 'ef')], [('보', 'ncn'), ('이', 'jp'), ('니', 'ecc')], [('보', 'ncn'), ('이', 'jp'), ('니', 'ecs')], [('보', 'pvg'), ('니', 'ef')], [('보', 'px'), ('니', 'ef')], [('보', 'pvg'), ('니', 'ecc')], [('보', 'pvg'), ('니', 'ecs')], [('보', 'px'), ('니', 'ecc')], [('보', 'px'), ('니', 'ecs')]], [[('흩뿌리', 'pvg'), ('는', 'etm')]], [[('눈', 'ncn')]], [[('속', 'nbu'), ('에서', 'jca'), (',', 'sp')], [('속', 'ncn'), ('에서', 'jca'), (',', 'sp')]], [], [[('또', 'maj')]], [[('혹독', 'ncps'), ('한', 'ncn')], [('혹독', 'ncps'), ('하', 'xsms'), ('ㄴ', 'etm')]], [[('추위', 'ncn')], [('추', 'ncn'), ('위', 'xsnx')]], [[('속', 'nbu'), ('에서', 'jca')], [('속', 'ncn'), ('에서', 'jca')]], [[('경기', 'ncn'), ('를', 'jco')], [('경기', 'ncpa'), ('를', 'jco')]], [[('치르', 'pvg'), ('는', 'etm')]], [[('낯', 'ncn'), ('선', 'jxc')], [('낯설', 'paa'), ('ㄴ', 'etm')]], [[('풍경', 'ncn'), ('이', 'jcc')], [('풍경', 'ncn'), ('이', 'jcs')], [('풍경', 'ncn'), ('이', 'ncn')]], [[('펼치', 'pvg'), ('어', 'ecx'), ('지', 'px'), ('ㅂ니다', 'ef')], [('펼쳐지', 'pvg'), ('ㅂ니다', 'ef')]], [[('.', 'sf')], [('.', 'sy')]], [], [[('올해', 'ncn')]], [[('경기', 'ncn'), ('는', 'jxc')], [('경기', 'ncpa'), ('는', 'jxc')]], [[('텍사스', 'ncn'), ('에서', 'jca')], [('텍사스에', 'ncn'), ('서', 'jca')], [('텍사스에서', 'ncn')], [('텍사스', 'nqq'), ('에서', 'jca')], [('텍사스에', 'nqq'), ('서', 'jca')], [('텍사스에서', 'nqq')]], [[('내슈빌', 'ncn'), ('과', 'jcj')], [('내슈빌', 'ncn'), ('과', 'jct')], [('내슈빌과', 'ncn')], [('내슈빌', 'nqq'), ('과', 'jcj')], [('내슈빌', 'nqq'), ('과', 'jct')], [('내슈빌과', 'nqq')]], [[('댈러스', 'ncn'), ('의', 'jcm')], [('댈러스의', 'ncn')], [('댈러스', 'nqq'), ('의', 'jcm')], [('댈러스의', 'nqq')]], [[('경기', 'ncn'), ('로', 'jca')], [('경기', 'ncpa'), ('로', 'jca')]], [[('꾸', 'pvg'), ('려', 'ecx'), ('지', 'px'), ('ㅂ니다', 'ef')], [('꾸', 'pvg'), ('리', 'ep'), ('어', 'ecx'), ('지', 'px'), ('ㅂ니다', 'ef')], [('꾸리', 'pvg'), ('어', 'ecx'), ('지', 'px'), ('ㅂ니다', 'ef')]], [[('.', 'sf')], [('.', 'sy')]], [], [[('미식축구', 'ncn'), ('장', 'ncn'), ('을', 'jco')], [('미식', 'ncn'), ('축구장', 'ncn'), ('을', 'jco')], [('미식', 'ncn'), ('축구', 'ncn'), ('장', 'ncn'), ('을', 'jco')], [('미식', 'ncpa'), ('축구장', 'ncn'), ('을', 'jco')], [('미식', 'ncpa'), ('축구', 'ncn'), ('장', 'ncn'), ('을', 'jco')]], [[('아이스하키', 'ncn'), ('장', 'ncn'), ('으로', 'jca')], [('아이스', 'ncn'), ('하키', 'ncn'), ('장', 'ncn'), ('으로', 'jca')]], [[('바꾸', 'pvg'), ('기', 'etn')]], [[('위하', 'pvg'), ('어', 'ecs')], [('위하', 'pvg'), ('어', 'ecx')]], [[('2', 'nnc'), ('주간', 'nbu'), ('의', 'jcm')], [('2', 'nnc'), ('주', 'nbu'), ('간', 'xsnu'), ('의', 'jcm')]], [[('공사', 'ncn'), ('가', 'jcc')], [('공사', 'ncn'), ('가', 'jcs')], [('공사', 'ncpa'), ('가', 'jcc')], [('공사', 'ncpa'), ('가', 'jcs')], [('공사', 'ncr'), ('가', 'jcc')], [('공사', 'ncr'), ('가', 'jcs')]], [[('이어지', 'pvg'), ('ㄴ데', 'ecs'), (',', 'sp')], [('이어지', 'pvg'), ('ㄴ데', 'ef'), (',', 'sp')], [('이어지', 'pvg'), ('는', 'etm'), ('데', 'nbn'), (',', 'sp')], [('이', 'ncn'), ('이', 'jp'), ('어', 'ecx'), ('지', 'px'), ('ㄴ데', 'ecs'), (',', 'sp')], [('이', 'ncn'), ('이', 'jp'), ('어', 'ecx'), ('지', 'px'), ('ㄴ데', 'ef'), (',', 'sp')], [('이', 'ncn'), ('이', 'jp'), ('어', 'ecx'), ('지', 'px'), ('는', 'etm'), ('데', 'nbn'), (',', 'sp')], [('이', 'ncn'), ('이', 'jp'), ('어', 'ef'), ('지는', 'etm'), ('데', 'nbn'), (',', 'sp')], [('이', 'nnc'), ('이', 'jp'), ('어', 'ecx'), ('지', 'px'), ('ㄴ데', 'ecs'), (',', 'sp')], [('이', 'nnc'), ('이', 'jp'), ('어', 'ecx'), ('지', 'px'), ('ㄴ데', 'ef'), (',', 'sp')], [('이', 'nnc'), ('이', 'jp'), ('어', 'ecx'), ('지', 'px'), ('는', 'etm'), ('데', 'nbn'), (',', 'sp')], [('이', 'nnc'), ('이', 'jp'), ('어', 'ef'), ('지는', 'etm'), ('데', 'nbn'), (',', 'sp')], [('이', 'npd'), ('이', 'jp'), ('어', 'ecx'), ('지', 'px'), ('ㄴ데', 'ecs'), (',', 'sp')], [('이', 'npd'), ('이', 'jp'), ('어', 'ecx'), ('지', 'px'), ('ㄴ데', 'ef'), (',', 'sp')], [('이', 'npd'), ('이', 'jp'), ('어', 'ecx'), ('지', 'px'), ('는', 'etm'), ('데', 'nbn'), (',', 'sp')], [('이', 'npd'), ('이', 'jp'), ('어', 'ef'), ('지는', 'etm'), ('데', 'nbn'), (',', 'sp')], [('이', 'pvg'), ('어', 'ecx'), ('지', 'px'), ('ㄴ데', 'ecs'), (',', 'sp')], [('이', 'pvg'), ('어', 'ecx'), ('지', 'px'), ('ㄴ데', 'ef'), (',', 'sp')], [('이', 'pvg'), ('어', 'ecx'), ('지', 'px'), ('는', 'etm'), ('데', 'nbn'), (',', 'sp')], [('이', 'pvg'), ('어', 'ef'), ('지는', 'etm'), ('데', 'nbn'), (',', 'sp')], [('잇', 'pvg'), ('어', 'ecx'), ('지', 'px'), ('ㄴ데', 'ecs'), (',', 'sp')], [('잇', 'pvg'), ('어', 'ecx'), ('지', 'px'), ('ㄴ데', 'ef'), (',', 'sp')], [('잇', 'pvg'), ('어', 'ecx'), ('지', 'px'), ('는', 'etm'), ('데', 'nbn'), (',', 'sp')], [('잇', 'pvg'), ('어', 'ef'), ('지는', 'etm'), ('데', 'nbn'), (',', 'sp')]], [[('그', 'mmd')], [('그', 'npd')], [('그', 'npp')]], [[('준비과정', 'ncn'), ('까지도', 'jxc')], [('준비과정', 'ncn'), ('까지', 'jca'), ('도', 'jxc')], [('준비과정', 'ncn'), ('까지', 'jxc'), ('도', 'jxc')], [('준비', 'ncn'), ('과정', 'ncn'), ('까지도', 'jxc')], [('준비', 'ncn'), ('과정', 'ncn'), ('까지', 'jca'), ('도', 'jxc')], [('준비', 'ncn'), ('과정', 'ncn'), ('까지', 'jxc'), ('도', 'jxc')], [('준비', 'ncpa'), ('과정', 'ncn'), ('까지도', 'jxc')], [('준비', 'ncpa'), ('과정', 'ncn'), ('까지', 'jca'), ('도', 'jxc')], [('준비', 'ncpa'), ('과정', 'ncn'), ('까지', 'jxc'), ('도', 'jxc')], [('준비', 'ncps'), ('과정', 'ncn'), ('까지도', 'jxc')], [('준비', 'ncps'), ('과정', 'ncn'), ('까지', 'jca'), ('도', 'jxc')], [('준비', 'ncps'), ('과정', 'ncn'), ('까지', 'jxc'), ('도', 'jxc')]], [[('스토리', 'ncn'), ('로', 'jca')]], [[('만들', 'pvg'), ('ㅂ니다', 'ef')], [('만들', 'px'), ('ㅂ니다', 'ef')]], [[('.', 'sf')], [('.', 'sy')]], [], [[('축제', 'ncn'), ('로', 'jca')]], [[('하', 'pvg'), ('ㄴ', 'etm')], [('한', 'nnc')], [('한', 'ncn')], [('한', 'nbn')], [('하', 'px'), ('ㄴ', 'etm')]], [[('해', 'nbu'), ('를', 'jco')], [('해', 'ncn'), ('를', 'jco')]], [[('시작', 'ncpa'), ('하고', 'jcj')], [('시작', 'ncpa'), ('하고', 'jct')], [('시작', 'ncpa'), ('하', 'xsva'), ('고', 'ecc')], [('시작', 'ncpa'), ('하', 'xsva'), ('고', 'ecs')], [('시작', 'ncpa'), ('하', 'xsva'), ('고', 'ecx')], [('시작', 'ncpa'), ('하', 'xsva'), ('어', 'ef'), ('고', 'jcr')]], [[('싶', 'px'), ('은', 'etm')]], [[('팬', 'ncn'), ('들', 'xsncc'), ('의', 'jcm')], [('패', 'pvg'), ('ㄴ', 'etm'), ('들', 'nbn'), ('의', 'jcm')]], [[('요구', 'ncpa'), ('와', 'jcj')], [('요구', 'ncpa'), ('와', 'jct')]], [[('그', 'mmd')], [('그', 'npd')], [('그', 'npp')]], [[('마음', 'ncn'), ('을', 'jco')]], [[('붙잡', 'pvg'), ('고', 'ecc')], [('붙잡', 'pvg'), ('고', 'ecs')], [('붙잡', 'pvg'), ('고', 'ecx')]], [[('싶', 'px'), ('은', 'etm')]], [[('스포츠', 'ncn'), ('가', 'jcc')], [('스포츠', 'ncn'), ('가', 'jcs')]], [[('만', 'nbs'), ('든', 'jxc')], [('만', 'ncn'), ('든', 'jxc')], [('만', 'nnc'), ('든', 'jxc')], [('만들', 'pvg'), ('ㄴ', 'etm')], [('만들', 'px'), ('ㄴ', 'etm')]], [[('즐거운', 'ncn')], [('즐겁', 'paa'), ('은', 'etm')]], [[('전통', 'ncn'), ('이', 'jp'), ('ㅂ니다', 'ef')], [('전', 'xp'), ('통', 'ncn'), ('이', 'jp'), ('ㅂ니다', 'ef')], [('절', 'pvg'), ('ㄴ', 'etm'), ('통', 'nbn'), ('이', 'jp'), ('ㅂ니다', 'ef')]], [[('.', 'sf')], [('.', 'sy')]], [], [[('(※', 'ncn')], [('(※', 'nqq')]], [[('저작권', 'ncn')], [('저작', 'ncpa'), ('권', 'ncn')], [('저작', 'ncpa'), ('권', 'xsna')]], [[('관계', 'ncn'), ('로', 'jca')], [('관계', 'ncpa'), ('로', 'jca')]], [[('방송', 'ncpa')]], [[('영상', 'ncn'), ('은', 'jxc')], [('영상', 'ncn'), ('은', 'ncn')], [('영', 'ncn'), ('상', 'xsncc'), ('은', 'jxc')]], [[('서비스', 'ncpa'), ('하', 'xsva'), ('지', 'ecs')], [('서비스', 'ncpa'), ('하', 'xsva'), ('지', 'ecx')], [('서비스', 'ncpa'), ('하', 'xsva'), ('지', 'ef')]], [[('않', 'paa'), ('습니다', 'ef')], [('않', 'pvg'), ('습니다', 'ef')], [('않', 'px'), ('습니다', 'ef')]], [[('.', 'sf'), (')', 'sr')], [('.', 'sy'), (')', 'sr')]]]\n",
            "['[', '앵커', ']', '뭔가', '다른', '것', '이', '없', '을까', '스포츠', '에선', '새해', '를', '맞이', '하', '는', '방법', '을', '놓', '고', '머리', '를', '짜내', 'ㅂ니다', '.', '우리', '농구', '는', '패', 'ㄴ', '들', '과', '함께', '새', '어', '하', '어', '카운트', '다운', '을', '하', '기', '위하', '어서', '자정', '무렵', '까지', '경기', '를', '하', '었고', '북미', '아이스하키', ',', 'NHL', '은', '널찍', '하', 'ㄴ', '야외', '미식', '축구장', '으로', '경기장', '을', '옮기', '었습니다', '.', '온누리', '기자', '이', 'ㅂ니다', '.', '[', '기자', ']', '하나씩', '줄어들', '던', '숫자', '가', '0', '으로', '바뀌', '면서', '새', '어', '하', '어', '는', '커다랗', '은', '함성', '과', '함께', '찾', '아', '오', '아ㅂ니다', '.', '서울', '보신각', '도', '아니', 'ㄴ데', '커다랗', '은', '종소리', '가', '2020년', '을', '알리', '는', '곳', ',', '1박', '2', '이', 'ㄹ', '경기', '가', '펼치', '어', '지', 'ㄴ', '코트', '위', '이', 'ㅂ니다', '.', '12월', '의', '마지막', '밤', '시작해', ',', '코트', '에서', '다', '같', '이', '신년', '을', '맞', '는다', '하', '어서', '송구영신', '에', '빗대', '어', \"'\", '농구영신', \"'\", '이', '라', '부르', 'ㅂ니다', '.', '올해', '로', '4년', '째', '이', 'ㄴ데', ',', '매년', '매', '어', '지', 'ㄴ', '기록', '이', '잇', '어', '지', 'ㅂ니다', '.', '북미', '아이스하키', ',', 'NHL', '의', '새해맞이', '는', '또', '다르', 'ㅂ니다', '.', '영하', '어', '13도', '의', '강추위', '그러나', '10', '만', '명', '넘', '는', '팬', '들', '의', '뜨겁', '은', '열', '기', '에', '선수들', '얼굴', '에도', '기대감', '이', '떠오르', 'ㅂ니다', '.', '골', '이', '트', '어', '지', '었을', '때', 'ㄴ', '물론', '이', '고', ',', '선수들', '의', '싸우', 'ㅁ', '에도', '세상', '이', '떠나', '아', '가', 'ㄹ', '듯', '함성', '이', '트', '어', '지', '는', '시즌', '딱', '하', 'ㄴ', '번', '의', '경기', '.', '실내경기', '로', '여기', '어', '지', '는', 'NHL', '이', '특별히', '야외', '로', '나', '아', '가', '는', '날', '이', 'ㅂ니다', '.', '2008년', '부터', '이런', '이벤트', '를', '열', '기', '시작', '하', '었습니다', '.', '실내', '링크', '가', '없', '었던', '과거', '를', '떠올리', '며', '야구장', '이나', '미식축구', '경기장', '을', '꽁꽁', '얼리', 'ㅂ니다', '.', '그러', '어다', '보', '니', '흩뿌리', '는', '눈', '속', '에서', ',', '또', '혹독', '하', 'ㄴ', '추위', '속', '에서', '경기', '를', '치르', '는', '낯설', 'ㄴ', '풍경', '이', '펼치', '어', '지', 'ㅂ니다', '.', '올해', '경기', '는', '텍사스', '에서', '내슈빌', '과', '댈러스', '의', '경기', '로', '꾸리', '어', '지', 'ㅂ니다', '.', '미식축구장', '을', '아이스하키장', '으로', '바꾸', '기', '위하', '어', '2주간', '의', '공사', '가', '잇', '어', '지', 'ㄴ데', ',', '그', '준비과정', '까지도', '스토리', '로', '만들', 'ㅂ니다', '.', '축제', '로', '하', 'ㄴ', '해', '를', '시작', '하고', '싶', '은', '패', 'ㄴ', '들', '의', '요구', '와', '그', '마음', '을', '붙잡', '고', '싶', '은', '스포츠', '가', '만들', 'ㄴ', '즐겁', '은', '전통', '이', 'ㅂ니다', '.', '(※', '저작권', '관계', '로', '방송', '영상', '은', '서비스', '하', '지', '않', '습니다', '.)']\n",
            "['앵커', '뭔가', '것', '스포츠', '새해', '맞이', '방법', '머리', '우리', '농구', '들', '카운트', '다운', '자정', '무렵', '경기', '북미', '아이스하키', '널찍', '야외', '미식', '축구장', '경기장', '온누리', '기자', '기자', '하나씩', '숫자', '0', '함성', '서울', '보신각', '종소리', '2020년', '곳', '1박', '2', '경기', '코트', '위', '12월', '마지막', '밤', '시작해', '코트', '신년', '송구영신', '농구영신', '올해', '4년', '기록', '북미', '아이스하키', '새해맞이', '13도', '강추위', '10', '명', '팬', '선수들', '얼굴', '기대감', '골', '물론', '선수들', '세상', '듯', '함성', '시즌', '번', '경기', '실내경기', '야외', '날', '2008년', '이벤트', '시작', '실내', '링크', '과거', '야구장', '미식축구', '경기장', '눈', '속', '혹독', '추위', '속', '경기', '풍경', '올해', '경기', '텍사스', '내슈빌', '댈러스', '경기', '미식축구장', '아이스하키장', '2주간', '공사', '준비과정', '스토리', '축제', '해', '시작', '들', '요구', '마음', '스포츠', '전통', '(※', '저작권', '관계', '방송', '영상', '서비스']\n",
            "[('[', 'S'), ('앵커', 'N'), (']', 'S'), ('뭔가', 'N'), ('다른', 'M'), ('것', 'N'), ('이', 'J'), ('없', 'P'), ('을까', 'E'), ('스포츠', 'N'), ('에선', 'J'), ('새해', 'N'), ('를', 'J'), ('맞이', 'N'), ('하', 'X'), ('는', 'E'), ('방법', 'N'), ('을', 'J'), ('놓', 'P'), ('고', 'E'), ('머리', 'N'), ('를', 'J'), ('짜내', 'P'), ('ㅂ니다', 'E'), ('.', 'S'), ('우리', 'N'), ('농구', 'N'), ('는', 'J'), ('패', 'P'), ('ㄴ', 'E'), ('들', 'N'), ('과', 'J'), ('함께', 'M'), ('새', 'P'), ('어', 'E'), ('하', 'P'), ('어', 'E'), ('카운트', 'N'), ('다운', 'N'), ('을', 'J'), ('하', 'P'), ('기', 'E'), ('위하', 'P'), ('어서', 'E'), ('자정', 'N'), ('무렵', 'N'), ('까지', 'J'), ('경기', 'N'), ('를', 'J'), ('하', 'P'), ('었고', 'E'), ('북미', 'N'), ('아이스하키', 'N'), (',', 'S'), ('NHL', 'F'), ('은', 'J'), ('널찍', 'N'), ('하', 'X'), ('ㄴ', 'E'), ('야외', 'N'), ('미식', 'N'), ('축구장', 'N'), ('으로', 'J'), ('경기장', 'N'), ('을', 'J'), ('옮기', 'P'), ('었습니다', 'E'), ('.', 'S'), ('온누리', 'N'), ('기자', 'N'), ('이', 'J'), ('ㅂ니다', 'E'), ('.', 'S'), ('[', 'S'), ('기자', 'N'), (']', 'S'), ('하나씩', 'N'), ('줄어들', 'P'), ('던', 'E'), ('숫자', 'N'), ('가', 'J'), ('0', 'N'), ('으로', 'J'), ('바뀌', 'P'), ('면서', 'E'), ('새', 'P'), ('어', 'E'), ('하', 'P'), ('어', 'E'), ('는', 'J'), ('커다랗', 'P'), ('은', 'E'), ('함성', 'N'), ('과', 'J'), ('함께', 'M'), ('찾', 'P'), ('아', 'E'), ('오', 'P'), ('아ㅂ니다', 'E'), ('.', 'S'), ('서울', 'N'), ('보신각', 'N'), ('도', 'J'), ('아니', 'P'), ('ㄴ데', 'E'), ('커다랗', 'P'), ('은', 'E'), ('종소리', 'N'), ('가', 'J'), ('2020년', 'N'), ('을', 'J'), ('알리', 'P'), ('는', 'E'), ('곳', 'N'), (',', 'S'), ('1박', 'N'), ('2', 'N'), ('이', 'J'), ('ㄹ', 'E'), ('경기', 'N'), ('가', 'J'), ('펼치', 'P'), ('어', 'E'), ('지', 'P'), ('ㄴ', 'E'), ('코트', 'N'), ('위', 'N'), ('이', 'J'), ('ㅂ니다', 'E'), ('.', 'S'), ('12월', 'N'), ('의', 'J'), ('마지막', 'N'), ('밤', 'N'), ('시작해', 'N'), (',', 'S'), ('코트', 'N'), ('에서', 'J'), ('다', 'M'), ('같', 'P'), ('이', 'X'), ('신년', 'N'), ('을', 'J'), ('맞', 'P'), ('는다', 'E'), ('하', 'P'), ('어서', 'E'), ('송구영신', 'N'), ('에', 'J'), ('빗대', 'P'), ('어', 'E'), (\"'\", 'S'), ('농구영신', 'N'), (\"'\", 'S'), ('이', 'J'), ('라', 'E'), ('부르', 'P'), ('ㅂ니다', 'E'), ('.', 'S'), ('올해', 'N'), ('로', 'J'), ('4년', 'N'), ('째', 'X'), ('이', 'J'), ('ㄴ데', 'E'), (',', 'S'), ('매년', 'M'), ('매', 'P'), ('어', 'E'), ('지', 'P'), ('ㄴ', 'E'), ('기록', 'N'), ('이', 'J'), ('잇', 'P'), ('어', 'E'), ('지', 'P'), ('ㅂ니다', 'E'), ('.', 'S'), ('북미', 'N'), ('아이스하키', 'N'), (',', 'S'), ('NHL', 'F'), ('의', 'J'), ('새해맞이', 'N'), ('는', 'J'), ('또', 'M'), ('다르', 'P'), ('ㅂ니다', 'E'), ('.', 'S'), ('영하', 'P'), ('어', 'E'), ('13도', 'N'), ('의', 'J'), ('강추위', 'N'), ('그러나', 'M'), ('10', 'N'), ('만', 'J'), ('명', 'N'), ('넘', 'P'), ('는', 'E'), ('팬', 'N'), ('들', 'X'), ('의', 'J'), ('뜨겁', 'P'), ('은', 'E'), ('열', 'P'), ('기', 'E'), ('에', 'J'), ('선수들', 'N'), ('얼굴', 'N'), ('에도', 'J'), ('기대감', 'N'), ('이', 'J'), ('떠오르', 'P'), ('ㅂ니다', 'E'), ('.', 'S'), ('골', 'N'), ('이', 'J'), ('트', 'P'), ('어', 'E'), ('지', 'P'), ('었을', 'E'), ('때', 'P'), ('ㄴ', 'E'), ('물론', 'N'), ('이', 'J'), ('고', 'E'), (',', 'S'), ('선수들', 'N'), ('의', 'J'), ('싸우', 'P'), ('ㅁ', 'E'), ('에도', 'J'), ('세상', 'N'), ('이', 'J'), ('떠나', 'P'), ('아', 'E'), ('가', 'P'), ('ㄹ', 'E'), ('듯', 'N'), ('함성', 'N'), ('이', 'J'), ('트', 'P'), ('어', 'E'), ('지', 'P'), ('는', 'E'), ('시즌', 'N'), ('딱', 'M'), ('하', 'P'), ('ㄴ', 'E'), ('번', 'N'), ('의', 'J'), ('경기', 'N'), ('.', 'S'), ('실내경기', 'N'), ('로', 'J'), ('여기', 'P'), ('어', 'E'), ('지', 'P'), ('는', 'E'), ('NHL', 'F'), ('이', 'J'), ('특별히', 'M'), ('야외', 'N'), ('로', 'J'), ('나', 'P'), ('아', 'E'), ('가', 'P'), ('는', 'E'), ('날', 'N'), ('이', 'J'), ('ㅂ니다', 'E'), ('.', 'S'), ('2008년', 'N'), ('부터', 'J'), ('이런', 'M'), ('이벤트', 'N'), ('를', 'J'), ('열', 'P'), ('기', 'E'), ('시작', 'N'), ('하', 'X'), ('었습니다', 'E'), ('.', 'S'), ('실내', 'N'), ('링크', 'N'), ('가', 'J'), ('없', 'P'), ('었던', 'E'), ('과거', 'N'), ('를', 'J'), ('떠올리', 'P'), ('며', 'E'), ('야구장', 'N'), ('이나', 'J'), ('미식축구', 'N'), ('경기장', 'N'), ('을', 'J'), ('꽁꽁', 'M'), ('얼리', 'P'), ('ㅂ니다', 'E'), ('.', 'S'), ('그러', 'P'), ('어다', 'E'), ('보', 'P'), ('니', 'E'), ('흩뿌리', 'P'), ('는', 'E'), ('눈', 'N'), ('속', 'N'), ('에서', 'J'), (',', 'S'), ('또', 'M'), ('혹독', 'N'), ('하', 'X'), ('ㄴ', 'E'), ('추위', 'N'), ('속', 'N'), ('에서', 'J'), ('경기', 'N'), ('를', 'J'), ('치르', 'P'), ('는', 'E'), ('낯설', 'P'), ('ㄴ', 'E'), ('풍경', 'N'), ('이', 'J'), ('펼치', 'P'), ('어', 'E'), ('지', 'P'), ('ㅂ니다', 'E'), ('.', 'S'), ('올해', 'N'), ('경기', 'N'), ('는', 'J'), ('텍사스', 'N'), ('에서', 'J'), ('내슈빌', 'N'), ('과', 'J'), ('댈러스', 'N'), ('의', 'J'), ('경기', 'N'), ('로', 'J'), ('꾸리', 'P'), ('어', 'E'), ('지', 'P'), ('ㅂ니다', 'E'), ('.', 'S'), ('미식축구장', 'N'), ('을', 'J'), ('아이스하키장', 'N'), ('으로', 'J'), ('바꾸', 'P'), ('기', 'E'), ('위하', 'P'), ('어', 'E'), ('2주간', 'N'), ('의', 'J'), ('공사', 'N'), ('가', 'J'), ('잇', 'P'), ('어', 'E'), ('지', 'P'), ('ㄴ데', 'E'), (',', 'S'), ('그', 'M'), ('준비과정', 'N'), ('까지도', 'J'), ('스토리', 'N'), ('로', 'J'), ('만들', 'P'), ('ㅂ니다', 'E'), ('.', 'S'), ('축제', 'N'), ('로', 'J'), ('하', 'P'), ('ㄴ', 'E'), ('해', 'N'), ('를', 'J'), ('시작', 'N'), ('하고', 'J'), ('싶', 'P'), ('은', 'E'), ('패', 'P'), ('ㄴ', 'E'), ('들', 'N'), ('의', 'J'), ('요구', 'N'), ('와', 'J'), ('그', 'M'), ('마음', 'N'), ('을', 'J'), ('붙잡', 'P'), ('고', 'E'), ('싶', 'P'), ('은', 'E'), ('스포츠', 'N'), ('가', 'J'), ('만들', 'P'), ('ㄴ', 'E'), ('즐겁', 'P'), ('은', 'E'), ('전통', 'N'), ('이', 'J'), ('ㅂ니다', 'E'), ('.', 'S'), ('(※', 'N'), ('저작권', 'N'), ('관계', 'N'), ('로', 'J'), ('방송', 'N'), ('영상', 'N'), ('은', 'J'), ('서비스', 'N'), ('하', 'X'), ('지', 'E'), ('않', 'P'), ('습니다', 'E'), ('.)', 'S')]\n"
          ],
          "name": "stdout"
        }
      ]
    },
    {
      "cell_type": "markdown",
      "metadata": {
        "id": "G25Ny1xT6JZ2",
        "colab_type": "text"
      },
      "source": [
        "# kkma 형태소 분석기"
      ]
    },
    {
      "cell_type": "code",
      "metadata": {
        "id": "l4ZMSgn6EWL7",
        "colab_type": "code",
        "outputId": "0be7f64a-8a86-4b54-8317-bafee4f8437a",
        "colab": {
          "base_uri": "https://localhost:8080/",
          "height": 125
        }
      },
      "source": [
        "from konlpy.tag import Kkma\n",
        "kkma = Kkma()\n",
        " \n",
        "kkma.morphs         #형태소 분석\n",
        "kkma.nouns          #명사 분석\n",
        "kkma.pos            #형태소 분석 태깅\n",
        "kkma.sentences      #문장 분석\n",
        " \n",
        "# 사용예시\n",
        "print(kkma.morphs(u'공부를 하면할수록 모르는게 많다는 것을 알게 됩니다.'))\n",
        "['공부', '를', '하', '면', '하', 'ㄹ수록', '모르', '는', '것', '이', '많', '다는', '것', '을', '알', '게', '되', 'ㅂ니다', '.']\n",
        " \n",
        "print(kkma.nouns(u'(로마=연합뉴스) 전성훈 특파원 = 신종 코로나바이러스 감염증(코로나19) 확산과 관련한 봉쇄 조처의 점진적 해제를 준비하는 이탈리아가 마스크 가격 폭등을 막기 위해 가격 상한제를 도입한다.'))\n",
        "['로마', '연합', '연합뉴스', '뉴스', '전성', '전성훈', '훈', '특파원', '신종', '코로나', '코로나바이러스', '바', '이러스', '감염증', '코로나19', '19', '확산', '관련', '봉쇄', '조처', '점진적', '해제', '준비', '이탈리아', '마스크', '가격', '폭등', '상한제', '도입']\n",
        " \n",
        "print(kkma.pos(u'다 까먹어버렸네요?ㅋㅋ'))\n",
        "[('다', 'MAG'), ('까먹', 'VV'), ('어', 'ECD'), ('버리', 'VXV'), ('었', 'EPT'), ('네요', 'EFN'), ('?', 'SF'), ('ㅋㅋ', 'EMO')]\n",
        " \n",
        "print(kkma.sentences(u'그래도 계속 공부합니다. 재밌으니까!'))\n",
        "['그래도 계속 공부합니다.', '재밌으니까!']\n"
      ],
      "execution_count": 0,
      "outputs": [
        {
          "output_type": "stream",
          "text": [
            "['공부', '를', '하', '면', '하', 'ㄹ수록', '모르', '는', '것', '이', '많', '다는', '것', '을', '알', '게', '되', 'ㅂ니다', '.']\n",
            "['로마', '연합', '연합뉴스', '뉴스', '전성', '전성훈', '훈', '특파원', '신종', '코로나', '코로나바이러스', '바', '이러스', '감염증', '코로나19', '19', '확산', '관련', '봉쇄', '조처', '점진적', '해제', '준비', '이탈리아', '마스크', '가격', '폭등', '상한제', '도입']\n",
            "[('다', 'MAG'), ('까먹', 'VV'), ('어', 'ECD'), ('버리', 'VXV'), ('었', 'EPT'), ('네요', 'EFN'), ('?', 'SF'), ('ㅋㅋ', 'EMO')]\n",
            "['그래도 계속 공부합니다.', '재밌으니까!']\n"
          ],
          "name": "stdout"
        },
        {
          "output_type": "execute_result",
          "data": {
            "text/plain": [
              "['그래도 계속 공부합니다.', '재밌으니까!']"
            ]
          },
          "metadata": {
            "tags": []
          },
          "execution_count": 9
        }
      ]
    },
    {
      "cell_type": "code",
      "metadata": {
        "id": "BOzWXUk04Hj7",
        "colab_type": "code",
        "outputId": "fb478fca-4199-4485-808e-20f70c64791c",
        "colab": {
          "base_uri": "https://localhost:8080/",
          "height": 107
        }
      },
      "source": [
        "from konlpy.tag import Kkma\n",
        "kkma = Kkma()\n",
        " \n",
        "kkma.morphs         #형태소 분석\n",
        "kkma.nouns          #명사 분석\n",
        "kkma.pos            #형태소 분석 태깅\n",
        "kkma.sentences      #문장 분석\n",
        " \n",
        "# 사용예시\n",
        "print(kkma.morphs(data))\n",
        " \n",
        "print(kkma.nouns(data))\n",
        " \n",
        "print(kkma.pos(data))\n",
        " \n",
        "print(kkma.sentences(data))\n"
      ],
      "execution_count": 0,
      "outputs": [
        {
          "output_type": "stream",
          "text": [
            "['[', '앵커', ']', '뭔', '가', '아', '다르', 'ㄴ', '것', '이', '없', '을까', '스포츠', '에서', '는', '새해', '를', '맞이하', '는', '방법', '을', '놓', '고', '머리', '를', '짜내', 'ㅂ니다', '.', '우리', '농구', '는', '팬', '들', '과', '함께', '새해', '카운트', '다운', '을', '하', '기', '위하', '어서', '자정', '무렵', '까지', '경기', '를', '하', '었', '고', '북미', '아이스하키', ',', 'NHL', '은', '널찍', '하', 'ㄴ', '야외', '미식', '축구장', '으로', '경기장', '을', '옮기', '었', '습니다', '.', '온누리', '기자', '이', 'ㅂ니다', '.', '[', '기자', ']', '하나', '씩', '줄어들', '더', 'ㄴ', '숫자', '가', '0', '으로', '바뀌', '면서', '새해', '는', '커다랗', 'ㄴ', '함성', '과', '함께', '찾아오', '았', '습니다', '.', '서울', '보신각', '도', '아니', 'ㄴ데', '커다랗', 'ㄴ', '종소리', '가', '2020', '년', '을', '알리', '는', '곳', ',', '1', '박', '2', '일', '경기', '가', '펼쳐지', 'ㄴ', '코트', '위', '이', 'ㅂ니다', '.', '12', '월', '의', '마지막', '밤', '시작하', '어', ',', '코트', '에서', '다', '같이', '신년', '을', '맞', '는', '다', '하', '어서', '송구', '영신', '에', '빗', '대', \"'\", '농구', '영신', \"'\", '이', '라', '부르', 'ㅂ니다', '.', '올해', '로', '4', '년', '째', '이', 'ㄴ데', ',', '매년', '매진', '기록', '이', '이어지', 'ㅂ니다', '.', '북미', '아이스하키', ',', 'NHL', '의', '새해', '맞이', '는', '또', '다르', 'ㅂ니다', '.', '영하', '13', '도', '의', '강추위', '그러나', '10', '만', '명', '넘', '는', '팬', '들', '의', '뜨겁', 'ㄴ', '열기', '에', '선수', '들', '얼굴', '에', '도', '기대감', '이', '떠오르', 'ㅂ니다', '.', '골', '이', '터지', '었', '을', '때', '에는', '물론', '이', '고', ',', '선수', '들', '의', '싸움', '에', '도', '세상', '이', '떠나가', 'ㄹ', '듯', '함성', '이', '터지', '는', '시즌', '딱', '한', '번', '의', '경기', '.', '실내', '경기', '로', '여기', '어', '지', '는', 'NHL', '이', '특별히', '야외', '로', '나가', '는', '날', '이', 'ㅂ니다', '.', '2008', '년', '부터', '이런', '이벤트', '를', '열', '기', '시작', '하', '었', '습니다', '.', '실내', '링크', '가', '없', '었', '더', 'ㄴ', '과거', '를', '떠올리', '며', '야구장', '이나', '미식축구', '경기장', '을', '꽁꽁', '얼리', 'ㅂ니다', '.', '그러', '다', '보', '니', '흩뿌리', '는', '눈', '속', '에서', ',', '또', '혹독', '하', 'ㄴ', '추위', '속', '에서', '경기', '를', '치르', '는', '낯설', 'ㄴ', '풍경', '이', '펼쳐지', 'ㅂ니다', '.', '올해', '경기', '는', '텍사스', '에서', '내슈빌', '과', '댈러스', '의', '경기', '로', '꾸리', '어', '지', 'ㅂ니다', '.', '미식', '축구장', '을', '아이스하키', '장', '으로', '바꾸', '기', '위하', '어', '2', '주간', '의', '공사', '가', '이어지', '는데', ',', '그', '준비', '과정', '까지', '도', '스토리', '로', '만들', 'ㅂ니다', '.', '축제', '로', '한', '해', '를', '시작', '하', '고', '싶', '은', '팬', '들', '의', '요구', '와', '그', '마음', '을', '붙잡', '고', '싶', '은', '스포츠', '가', '만들', 'ㄴ', '즐겁', 'ㄴ', '전통', '이', 'ㅂ니다', '.', '(', '※', '저작권', '관계', '로', '방송', '영상', '은', '서비스', '하', '지', '않', '습니다', '.', ')']\n",
            "['앵커', '스포츠', '새해', '방법', '머리', '우리', '농구', '팬', '카운트', '다운', '자정', '무렵', '경기', '북미', '아이스', '아이스하키', '하키', '야외', '미식', '축구장', '경기장', '온누리', '기자', '하나', '숫자', '0', '함성', '서울', '보신각', '종소리', '2020', '2020년', '년', '곳', '1', '1박', '박', '2', '2일', '일', '코트', '위', '12', '12월', '월', '마지막', '밤', '신년', '송구', '송구영신', '영신', '빗', '농구영신', '올해', '4', '4년', '년', '매진', '기록', '새해맞이', '맞이', '영하', '13', '13도', '도', '강추위', '10', '10만', '만', '명', '열기', '선수', '얼굴', '기대감', '골', '때', '싸움', '세상', '듯', '시즌', '번', '실내', '실내경기', '날', '2008', '2008년', '년', '이벤트', '시작', '링크', '과거', '야구장', '미식축구', '눈', '속', '추위', '풍경', '텍사스', '내슈빌', '댈러스', '미식축구장', '2주간', '주간', '공사', '준비', '준비과정', '과정', '도', '스토리', '축제', '해', '요구', '마음', '전통', '저작권', '관계', '방송', '영상', '서비스']\n",
            "[('[', 'SS'), ('앵커', 'NNG'), (']', 'SS'), ('뭔', 'MDT'), ('가', 'VV'), ('아', 'ECS'), ('다르', 'VA'), ('ㄴ', 'ETD'), ('것', 'NNB'), ('이', 'JKS'), ('없', 'VA'), ('을까', 'EFQ'), ('스포츠', 'NNG'), ('에서', 'JKM'), ('는', 'JX'), ('새해', 'NNG'), ('를', 'JKO'), ('맞이하', 'VV'), ('는', 'ETD'), ('방법', 'NNG'), ('을', 'JKO'), ('놓', 'VV'), ('고', 'ECE'), ('머리', 'NNG'), ('를', 'JKO'), ('짜내', 'VV'), ('ㅂ니다', 'EFN'), ('.', 'SF'), ('우리', 'NNM'), ('농구', 'NNG'), ('는', 'JX'), ('팬', 'NNG'), ('들', 'XSN'), ('과', 'JKO'), ('함께', 'MAG'), ('새해', 'NNG'), ('카운트', 'NNG'), ('다운', 'NNG'), ('을', 'JKO'), ('하', 'VV'), ('기', 'ETN'), ('위하', 'VV'), ('어서', 'ECD'), ('자정', 'NNG'), ('무렵', 'NNB'), ('까지', 'JX'), ('경기', 'NNG'), ('를', 'JKO'), ('하', 'VV'), ('었', 'EPT'), ('고', 'ECE'), ('북미', 'NNG'), ('아이스하키', 'NNG'), (',', 'SP'), ('NHL', 'OL'), ('은', 'JX'), ('널찍', 'XR'), ('하', 'XSA'), ('ㄴ', 'ETD'), ('야외', 'NNG'), ('미식', 'NNG'), ('축구장', 'NNG'), ('으로', 'JKM'), ('경기장', 'NNG'), ('을', 'JKO'), ('옮기', 'VV'), ('었', 'EPT'), ('습니다', 'EFN'), ('.', 'SF'), ('온누리', 'NNG'), ('기자', 'NNG'), ('이', 'VCP'), ('ㅂ니다', 'EFN'), ('.', 'SF'), ('[', 'SS'), ('기자', 'NNG'), (']', 'SS'), ('하나', 'NNG'), ('씩', 'XSN'), ('줄어들', 'VV'), ('더', 'EPT'), ('ㄴ', 'ETD'), ('숫자', 'NNG'), ('가', 'JKS'), ('0', 'NR'), ('으로', 'JKM'), ('바뀌', 'VV'), ('면서', 'ECE'), ('새해', 'NNG'), ('는', 'JX'), ('커다랗', 'VA'), ('ㄴ', 'ETD'), ('함성', 'NNG'), ('과', 'JKM'), ('함께', 'MAG'), ('찾아오', 'VV'), ('았', 'EPT'), ('습니다', 'EFN'), ('.', 'SF'), ('서울', 'NNG'), ('보신각', 'NNG'), ('도', 'JX'), ('아니', 'VCN'), ('ㄴ데', 'ECE'), ('커다랗', 'VA'), ('ㄴ', 'ETD'), ('종소리', 'NNG'), ('가', 'JKS'), ('2020', 'NR'), ('년', 'NNM'), ('을', 'JKO'), ('알리', 'VV'), ('는', 'ETD'), ('곳', 'NNG'), (',', 'SP'), ('1', 'NR'), ('박', 'NNM'), ('2', 'NR'), ('일', 'NNM'), ('경기', 'NNG'), ('가', 'JKS'), ('펼쳐지', 'VV'), ('ㄴ', 'ETD'), ('코트', 'NNG'), ('위', 'NNG'), ('이', 'VCP'), ('ㅂ니다', 'EFN'), ('.', 'SF'), ('12', 'NR'), ('월', 'NNM'), ('의', 'JKG'), ('마지막', 'NNG'), ('밤', 'NNG'), ('시작하', 'VV'), ('어', 'ECS'), (',', 'SP'), ('코트', 'NNG'), ('에서', 'JKM'), ('다', 'MAG'), ('같이', 'MAG'), ('신년', 'NNG'), ('을', 'JKO'), ('맞', 'VV'), ('는', 'EPT'), ('다', 'ECS'), ('하', 'VV'), ('어서', 'ECD'), ('송구', 'NNG'), ('영신', 'NNG'), ('에', 'JKM'), ('빗', 'NNG'), ('대', 'XSN'), (\"'\", 'SS'), ('농구', 'NNG'), ('영신', 'NNG'), (\"'\", 'SS'), ('이', 'VCP'), ('라', 'ECD'), ('부르', 'VV'), ('ㅂ니다', 'EFN'), ('.', 'SF'), ('올해', 'NNG'), ('로', 'JKM'), ('4', 'NR'), ('년', 'NNG'), ('째', 'XSN'), ('이', 'VCP'), ('ㄴ데', 'ECE'), (',', 'SP'), ('매년', 'MAG'), ('매진', 'NNG'), ('기록', 'NNG'), ('이', 'JKS'), ('이어지', 'VV'), ('ㅂ니다', 'EFN'), ('.', 'SF'), ('북미', 'NNG'), ('아이스하키', 'NNG'), (',', 'SP'), ('NHL', 'OL'), ('의', 'JKG'), ('새해', 'NNG'), ('맞이', 'NNG'), ('는', 'JX'), ('또', 'MAG'), ('다르', 'VV'), ('ㅂ니다', 'EFN'), ('.', 'SF'), ('영하', 'NNG'), ('13', 'NR'), ('도', 'NNM'), ('의', 'JKG'), ('강추위', 'NNG'), ('그러나', 'MAC'), ('10', 'NR'), ('만', 'NR'), ('명', 'NNM'), ('넘', 'VV'), ('는', 'ETD'), ('팬', 'NNG'), ('들', 'XSN'), ('의', 'JKG'), ('뜨겁', 'VA'), ('ㄴ', 'ETD'), ('열기', 'NNG'), ('에', 'JKM'), ('선수', 'NNG'), ('들', 'XSN'), ('얼굴', 'NNG'), ('에', 'JKM'), ('도', 'JX'), ('기대감', 'NNG'), ('이', 'JKS'), ('떠오르', 'VV'), ('ㅂ니다', 'EFN'), ('.', 'SF'), ('골', 'NNG'), ('이', 'JKS'), ('터지', 'VV'), ('었', 'EPT'), ('을', 'ETD'), ('때', 'NNB'), ('에는', 'JKM'), ('물론', 'MAG'), ('이', 'VCP'), ('고', 'ECE'), (',', 'SP'), ('선수', 'NNG'), ('들', 'XSN'), ('의', 'JKG'), ('싸움', 'NNG'), ('에', 'JKM'), ('도', 'JX'), ('세상', 'NNG'), ('이', 'JKS'), ('떠나가', 'VV'), ('ㄹ', 'ETD'), ('듯', 'NNB'), ('함성', 'NNG'), ('이', 'JKS'), ('터지', 'VV'), ('는', 'ETD'), ('시즌', 'NNG'), ('딱', 'MAG'), ('한', 'MDN'), ('번', 'NNB'), ('의', 'JKG'), ('경기', 'NNG'), ('.', 'SF'), ('실내', 'NNG'), ('경기', 'NNG'), ('로', 'JKM'), ('여기', 'VV'), ('어', 'ECS'), ('지', 'VXV'), ('는', 'ETD'), ('NHL', 'OL'), ('이', 'JKS'), ('특별히', 'MAG'), ('야외', 'NNG'), ('로', 'JKM'), ('나가', 'VV'), ('는', 'ETD'), ('날', 'NNG'), ('이', 'VCP'), ('ㅂ니다', 'EFN'), ('.', 'SF'), ('2008', 'NR'), ('년', 'NNB'), ('부터', 'JX'), ('이런', 'MDT'), ('이벤트', 'NNG'), ('를', 'JKO'), ('열', 'VV'), ('기', 'ETN'), ('시작', 'NNG'), ('하', 'XSV'), ('었', 'EPT'), ('습니다', 'EFN'), ('.', 'SF'), ('실내', 'NNG'), ('링크', 'NNG'), ('가', 'JKS'), ('없', 'VA'), ('었', 'EPT'), ('더', 'EPT'), ('ㄴ', 'ETD'), ('과거', 'NNG'), ('를', 'JKO'), ('떠올리', 'VV'), ('며', 'ECE'), ('야구장', 'NNG'), ('이나', 'JC'), ('미식축구', 'NNG'), ('경기장', 'NNG'), ('을', 'JKO'), ('꽁꽁', 'MAG'), ('얼리', 'VV'), ('ㅂ니다', 'EFN'), ('.', 'SF'), ('그러', 'VV'), ('다', 'ECS'), ('보', 'VXV'), ('니', 'ECD'), ('흩뿌리', 'VV'), ('는', 'ETD'), ('눈', 'NNG'), ('속', 'NNG'), ('에서', 'JKM'), (',', 'SP'), ('또', 'MAG'), ('혹독', 'XR'), ('하', 'XSA'), ('ㄴ', 'ETD'), ('추위', 'NNG'), ('속', 'NNG'), ('에서', 'JKM'), ('경기', 'NNG'), ('를', 'JKO'), ('치르', 'VV'), ('는', 'ETD'), ('낯설', 'VA'), ('ㄴ', 'ETD'), ('풍경', 'NNG'), ('이', 'JKS'), ('펼쳐지', 'VV'), ('ㅂ니다', 'EFN'), ('.', 'SF'), ('올해', 'NNG'), ('경기', 'NNG'), ('는', 'JX'), ('텍사스', 'NNG'), ('에서', 'JKM'), ('내슈빌', 'UN'), ('과', 'JC'), ('댈러스', 'NNG'), ('의', 'JKG'), ('경기', 'NNG'), ('로', 'JKM'), ('꾸리', 'VV'), ('어', 'ECS'), ('지', 'VXV'), ('ㅂ니다', 'EFN'), ('.', 'SF'), ('미식', 'NNG'), ('축구장', 'NNG'), ('을', 'JX'), ('아이스하키', 'NNG'), ('장', 'XSN'), ('으로', 'JKM'), ('바꾸', 'VV'), ('기', 'ETN'), ('위하', 'VV'), ('어', 'ECS'), ('2', 'NR'), ('주간', 'NNG'), ('의', 'JKG'), ('공사', 'NNG'), ('가', 'JKS'), ('이어지', 'VV'), ('는데', 'ECD'), (',', 'SP'), ('그', 'MDT'), ('준비', 'NNG'), ('과정', 'NNG'), ('까지', 'JX'), ('도', 'NNG'), ('스토리', 'NNG'), ('로', 'JKM'), ('만들', 'VV'), ('ㅂ니다', 'EFN'), ('.', 'SF'), ('축제', 'NNG'), ('로', 'JKM'), ('한', 'MDN'), ('해', 'NNG'), ('를', 'JKO'), ('시작', 'NNG'), ('하', 'XSV'), ('고', 'ECE'), ('싶', 'VXA'), ('은', 'ETD'), ('팬', 'NNG'), ('들', 'XSN'), ('의', 'JKG'), ('요구', 'NNG'), ('와', 'JC'), ('그', 'MDT'), ('마음', 'NNG'), ('을', 'JKO'), ('붙잡', 'VV'), ('고', 'ECE'), ('싶', 'VXA'), ('은', 'ETD'), ('스포츠', 'NNG'), ('가', 'JKS'), ('만들', 'VV'), ('ㄴ', 'ETD'), ('즐겁', 'VA'), ('ㄴ', 'ETD'), ('전통', 'NNG'), ('이', 'VCP'), ('ㅂ니다', 'EFN'), ('.', 'SF'), ('(', 'SS'), ('※', 'SW'), ('저작권', 'NNG'), ('관계', 'NNG'), ('로', 'JKM'), ('방송', 'NNG'), ('영상', 'NNG'), ('은', 'JX'), ('서비스', 'NNG'), ('하', 'XSV'), ('지', 'ECD'), ('않', 'VXV'), ('습니다', 'EFN'), ('.', 'SF'), (')', 'SS')]\n",
            "['[ 앵커] 뭔 가 다른 게 없을까', '스포츠에선 새해를 맞이하는 방법을 놓고 머리를 짜냅니다.', '우리 농구는 팬들과 함께 새해 카운트 다운을 하기 위해서 자정 무렵까지 경기를 했고 북미 아이스하키, NHL은 널찍한 야외 미식 축구장으로 경기장을 옮겼습니다.', '온누리 기자입니다.', '[ 기자] 하나씩 줄어들던 숫자가 0으로 바뀌면서 새해는 커다란 함성과 함께 찾아왔습니다.', '서울 보신각도 아닌데 커다란 종소리가 2020년을 알리는 곳, 1박 2일 경기가 펼쳐진 코트 위입니다.12', \"월의 마지막 밤 시작해, 코트에서 다 같이 신년을 맞는다 해서 송구 영신에 빗대 ' 농구 영신' 이라 부릅니다.\", '올해로 4 년째인데, 매년 매진 기록이 이어집니다.', '북미 아이스하키, NHL의 새해 맞이는 또 다릅니다.', '영하 13도의 강추위 그러나 10만 명 넘는 팬들의 뜨거운 열기에 선수들 얼굴에도 기대감이 떠오릅니다.', '골이 터졌을 땐 물론이고, 선수들의 싸움에도 세상이 떠나갈 듯 함성이 터지는 시즌 딱 한 번의 경기. 실내경기로 여겨 지는 NHL이 특별히 야외로 나가는 날입니다.2008', '년부터 이런 이벤트를 열기 시작했습니다.', '실내 링크가 없었던 과거를 떠올리며 야구장이나 미식축구 경기장을 꽁꽁 얼립니다.', '그러다 보니 흩뿌리는 눈 속에서, 또 혹독한 추위 속에서 경기를 치르는 낯선 풍경이 펼쳐집니다.', '올해 경기는 텍사스에서 내슈빌과 댈러스의 경기로 꾸려 집니다.', '미식 축구장을 아이스하키장으로 바꾸기 위해 2 주간의 공사가 이어지는데, 그 준비과정까지 도 스토리로 만듭니다.', '축제로 한 해를 시작하고 싶은 팬들의 요구와 그 마음을 붙잡고 싶은 스포츠가 만든 즐거운 전통입니다.', '(※ 저작권 관계로 방송 영상은 서비스하지 않습니다.)']\n"
          ],
          "name": "stdout"
        }
      ]
    },
    {
      "cell_type": "markdown",
      "metadata": {
        "id": "fR82GQEK6cZ8",
        "colab_type": "text"
      },
      "source": [
        "#kmoran 분석기"
      ]
    },
    {
      "cell_type": "code",
      "metadata": {
        "id": "yRrF8o-TEg5e",
        "colab_type": "code",
        "outputId": "800e10cf-cde6-4da1-e158-7bd2418ca3cc",
        "colab": {
          "base_uri": "https://localhost:8080/",
          "height": 195
        }
      },
      "source": [
        "from konlpy.tag import Komoran\n",
        "komoran = Komoran(userdic='/tmp/dic.txt')\n",
        " \n",
        "komoran.morphs    #형태소 분석\n",
        "komoran.nouns     #명사 분석\n",
        "komoran.pos       #형태소 분석 태깅\n",
        " \n",
        "# 사용예시\n",
        "print(komoran.morphs(u'우왕 코모란도 오픈소스가 되었어요'))\n",
        "['우왕', '코모란', '도', '오픈소스', '가', '되', '었', '어요']\n",
        " \n",
        "print(komoran.nouns(u'(로마=연합뉴스) 전성훈 특파원 = 신종 코로나바이러스 감염증(코로나19) 확산과 관련한 봉쇄 조처의 점진적 해제를 준비하는 이탈리아가 마스크 가격 폭등을 막기 위해 가격 상한제를 도입한다.'))\n",
        "['로마', '연합뉴스', '성훈', '특파원', '신종', '코로나바이러스', '감염증', '코로나', '19', '확산', '관련', '봉쇄', '조처', '점진', '해제', '준비', '이탈리아', '마스크', '가격', '폭등', '가격 상한', '도입']\n",
        " \n",
        "print(komoran.pos(u'혹시 바람과 함께 사라지다 봤어?'))\n",
        "[('혹시', 'MAG'), ('바람과 함께 사라지다', 'NNP'), ('보', 'VV'), ('았', 'EP'), ('어', 'EF'), ('?', 'SF')]"
      ],
      "execution_count": 0,
      "outputs": [
        {
          "output_type": "stream",
          "text": [
            "['우왕', '코', '모란', '도', '오픈', '소스', '가', '되', '었', '어요']\n",
            "['로마', '연합뉴스', '성훈', '특파원', '신종', '코로나바이러스', '감염증', '코로나', '19', '확산', '관련', '봉쇄', '조처', '점진', '해제', '준비', '이탈리아', '마스크', '가격', '폭등', '가격 상한', '도입']\n",
            "[('혹시', 'MAG'), ('바람과 함께 사라지다', 'NNP'), ('보', 'VV'), ('았', 'EP'), ('어', 'EF'), ('?', 'SF')]\n"
          ],
          "name": "stdout"
        },
        {
          "output_type": "execute_result",
          "data": {
            "text/plain": [
              "[('혹시', 'MAG'),\n",
              " ('바람과 함께 사라지다', 'NNP'),\n",
              " ('보', 'VV'),\n",
              " ('았', 'EP'),\n",
              " ('어', 'EF'),\n",
              " ('?', 'SF')]"
            ]
          },
          "metadata": {
            "tags": []
          },
          "execution_count": 11
        }
      ]
    },
    {
      "cell_type": "code",
      "metadata": {
        "id": "6XxMYTww4HmC",
        "colab_type": "code",
        "outputId": "eab74b18-a09c-4137-c7c4-c7d7a5c22049",
        "colab": {
          "base_uri": "https://localhost:8080/",
          "height": 90
        }
      },
      "source": [
        "from konlpy.tag import Komoran\n",
        "komoran = Komoran(userdic='/tmp/dic.txt')\n",
        " \n",
        "komoran.morphs    #형태소 분석\n",
        "komoran.nouns     #명사 분석\n",
        "komoran.pos       #형태소 분석 태깅\n",
        " \n",
        "# 사용예시\n",
        "print(komoran.morphs(data))\n",
        " \n",
        "print(komoran.nouns(data))\n",
        " \n",
        "print(komoran.pos(data))"
      ],
      "execution_count": 0,
      "outputs": [
        {
          "output_type": "stream",
          "text": [
            "['[', '앵커', ']', '뭐', 'ㄴ가', '다른', '게', '없', '을까', '스포츠', '에선', '새해', '를', '맞이', '하', '는', '방법', '을', '놓', '고', '머리', '를', '짜내', 'ㅂ니다', '.', '우리', '농구', '는', '팬', '들', '과', '함께', '새해', '카운트', '다운', '을', '하', '기', '위하', '아서', '자정', '무렵', '까지', '경기', '를', '하', '았', '고', '북미', '아이스하키', ',', 'NHL', '은', '널찍', '하', 'ㄴ', '야외', '미식', '축구장', '으로', '경기장', '을', '옮기', '었', '습니다', '.', '온', '누리', '기자', '이', 'ㅂ니다', '.', '[', '기자', ']', '하나', '씩', '줄어들', '던', '숫자', '가', '0', '으로', '바뀌', '면서', '새해', '는', '커다랗', 'ㄴ', '함성', '과', '함께', '찾아오', '았', '습니다', '.', '서울', '보신각', '도', '아니', 'ㄴ데', '커다랗', 'ㄴ', '종소리', '가', '2020', '년', '을', '알리', '는', '곳', ',', '1박 2일', '경기', '가', '펼쳐지', 'ㄴ', '코트', '위', '이', 'ㅂ니다', '.', '12월', '의', '마지막', '밤', '시작', '하', '아', ',', '코트', '에서', '다', '같이', '신년', '을', '맞', '는다', '하', '아서', '송구영신', '에', '빗대', '어', \"'\", '농구', '영', '신', \"'\", '이', '라', '부르', 'ㅂ니다', '.', '올해', '로', '4', '년', '째', '이', 'ㄴ데', ',', '매년', '매진', '기록', '이', '이어지', 'ㅂ니다', '.', '북미', '아이스하키', ',', 'NHL', '의', '새해맞이', '는', '또', '다르', 'ㅂ니다', '.', '영하', '13', '도의', '강추위', '그러나', '10', '만', '명', '넘', '는', '팬', '들', '의', '뜨겁', 'ㄴ', '열기', '에', '선수', '들', '얼굴', '에', '도', '기대감', '이', '떠오르', 'ㅂ니다', '.', '골', '이', '터지', '었', '을', '때', 'ㄴ', '물론', '이', '고', ',', '선수', '들', '의', '싸움', '에', '도', '세상', '이', '떠나가', 'ㄹ', '듯', '함성', '이', '터지', '는', '시즌', '딱', '한', '번', '의', '경기', '.', '실내', '경기', '로', '여기', '어', '지', '는', 'NHL', '이', '특별히', '야외', '로', '나가', '는', '날', '이', 'ㅂ니다', '.', '2008년', '부터', '이런', '이벤트', '를', '열기', '시작', '하', '았', '습니다', '.', '실내', '링크', '가', '없', '었', '던', '과거', '를', '떠올리', '며', '야구장', '이나', '미식축구', '경기장', '을', '꽁꽁', '얼리', 'ㅂ니다', '.', '그러', '다', '보니', '흩뿌리', '는', '눈', '속', '에서', ',', '또', '혹독', '하', 'ㄴ', '추위', '속', '에서', '경기', '를', '치르', '는', '낯선', '풍경', '이', '펼쳐지', 'ㅂ니다', '.', '올해', '경기', '는', '텍사스', '에서', '내슈빌', '과', '댈러스', '의', '경기', '로', '꾸리', '어', '지', 'ㅂ니다', '.', '미식축구', '장', '을', '아이스하키', '장', '으로', '바꾸', '기', '위하', '아', '2', '주간', '의', '공사', '가', '이어지', '는데', ',', '그', '준비', '과정', '까지', '도', '스토리', '로', '만들', 'ㅂ니다', '.', '축제', '로', '한', '해', '를', '시작', '하', '고', '싶', '은', '팬', '들', '의', '요구', '와', '그', '마음', '을', '붙잡', '고', '싶', '은', '스포츠', '가', '만들', 'ㄴ', '즐겁', 'ㄴ', '전통', '이', 'ㅂ니다', '.', '(', '※', '저작권', '관계', '로', '방송', '영상', '은', '서비스', '하', '지', '않', '습니다', '.', ')']\n",
            "['앵커', '게', '스포츠', '에선', '새해', '방법', '머리', '농구', '팬', '새해', '카운트', '다운', '자정', '무렵', '경기', '북미', '아이스하키', '야외', '미식', '축구장', '경기장', '온', '누리', '기자', '기자', '숫자', '새해', '함성', '서울', '보신각', '종소리', '년', '곳', '1박 2일', '경기', '코트', '위', '12월', '마지막', '밤', '시작', '코트', '신년', '송구영신', '농구', '영', '신', '올해', '년', '매진', '기록', '북미', '아이스하키', '새해맞이', '영하', '도의', '강추위', '명', '팬', '열기', '선수', '얼굴', '기대감', '골', '때', '물론', '선수', '싸움', '세상', '듯', '함성', '시즌', '번', '경기', '실내', '경기', '이', '야외', '날', '2008년', '이벤트', '열기', '시작', '실내', '링크', '과거', '야구장', '미식축구', '경기장', '보니', '눈', '속', '추위', '속', '경기', '낯선', '풍경', '올해', '경기', '텍사스', '내슈빌', '댈러스', '경기', '미식축구', '장', '아이스하키', '장', '주간', '공사', '준비', '과정', '스토리', '축제', '해', '시작', '팬', '요구', '마음', '스포츠', '전통', '저작권', '관계', '방송', '영상', '서비스']\n",
            "[('[', 'SS'), ('앵커', 'NNP'), (']', 'SS'), ('뭐', 'NP'), ('ㄴ가', 'EC'), ('다른', 'MM'), ('게', 'NNG'), ('없', 'VA'), ('을까', 'EC'), ('스포츠', 'NNP'), ('에선', 'NNP'), ('새해', 'NNG'), ('를', 'JKO'), ('맞이', 'XR'), ('하', 'XSA'), ('는', 'ETM'), ('방법', 'NNG'), ('을', 'JKO'), ('놓', 'VX'), ('고', 'EC'), ('머리', 'NNG'), ('를', 'JKO'), ('짜내', 'VV'), ('ㅂ니다', 'EF'), ('.', 'SF'), ('우리', 'NP'), ('농구', 'NNP'), ('는', 'JX'), ('팬', 'NNG'), ('들', 'XSN'), ('과', 'JC'), ('함께', 'MAG'), ('새해', 'NNP'), ('카운트', 'NNG'), ('다운', 'NNP'), ('을', 'JKO'), ('하', 'VV'), ('기', 'ETN'), ('위하', 'VV'), ('아서', 'EC'), ('자정', 'NNG'), ('무렵', 'NNB'), ('까지', 'JX'), ('경기', 'NNG'), ('를', 'JKO'), ('하', 'VV'), ('았', 'EP'), ('고', 'EC'), ('북미', 'NNP'), ('아이스하키', 'NNP'), (',', 'SP'), ('NHL', 'SL'), ('은', 'JX'), ('널찍', 'XR'), ('하', 'XSA'), ('ㄴ', 'ETM'), ('야외', 'NNG'), ('미식', 'NNG'), ('축구장', 'NNP'), ('으로', 'JKB'), ('경기장', 'NNG'), ('을', 'JKO'), ('옮기', 'VV'), ('었', 'EP'), ('습니다', 'EF'), ('.', 'SF'), ('온', 'NNP'), ('누리', 'NNP'), ('기자', 'NNG'), ('이', 'VCP'), ('ㅂ니다', 'EF'), ('.', 'SF'), ('[', 'SS'), ('기자', 'NNP'), (']', 'SS'), ('하나', 'NR'), ('씩', 'XSN'), ('줄어들', 'VV'), ('던', 'ETM'), ('숫자', 'NNG'), ('가', 'JKS'), ('0', 'SN'), ('으로', 'JKB'), ('바뀌', 'VV'), ('면서', 'EC'), ('새해', 'NNG'), ('는', 'JX'), ('커다랗', 'VA'), ('ㄴ', 'ETM'), ('함성', 'NNG'), ('과', 'JC'), ('함께', 'MAG'), ('찾아오', 'VV'), ('았', 'EP'), ('습니다', 'EF'), ('.', 'SF'), ('서울', 'NNP'), ('보신각', 'NNP'), ('도', 'JX'), ('아니', 'VCN'), ('ㄴ데', 'EC'), ('커다랗', 'VA'), ('ㄴ', 'ETM'), ('종소리', 'NNG'), ('가', 'JKS'), ('2020', 'SN'), ('년', 'NNB'), ('을', 'JKO'), ('알리', 'VV'), ('는', 'ETM'), ('곳', 'NNG'), (',', 'SP'), ('1박 2일', 'NNP'), ('경기', 'NNG'), ('가', 'JKS'), ('펼쳐지', 'VV'), ('ㄴ', 'ETM'), ('코트', 'NNP'), ('위', 'NNG'), ('이', 'VCP'), ('ㅂ니다', 'EF'), ('.', 'SF'), ('12월', 'NNP'), ('의', 'JKG'), ('마지막', 'NNG'), ('밤', 'NNG'), ('시작', 'NNG'), ('하', 'XSV'), ('아', 'EC'), (',', 'SP'), ('코트', 'NNP'), ('에서', 'JKB'), ('다', 'MAG'), ('같이', 'MAG'), ('신년', 'NNG'), ('을', 'JKO'), ('맞', 'VV'), ('는다', 'EC'), ('하', 'VV'), ('아서', 'EC'), ('송구영신', 'NNG'), ('에', 'JKB'), ('빗대', 'VV'), ('어', 'EC'), (\"'\", 'SS'), ('농구', 'NNP'), ('영', 'NNP'), ('신', 'NNP'), (\"'\", 'SS'), ('이', 'VCP'), ('라', 'EC'), ('부르', 'VV'), ('ㅂ니다', 'EF'), ('.', 'SF'), ('올해', 'NNG'), ('로', 'JKB'), ('4', 'SN'), ('년', 'NNB'), ('째', 'XSN'), ('이', 'VCP'), ('ㄴ데', 'EC'), (',', 'SP'), ('매년', 'MAG'), ('매진', 'NNG'), ('기록', 'NNG'), ('이', 'JKS'), ('이어지', 'VV'), ('ㅂ니다', 'EF'), ('.', 'SF'), ('북미', 'NNP'), ('아이스하키', 'NNP'), (',', 'SP'), ('NHL', 'SL'), ('의', 'JKG'), ('새해맞이', 'NNG'), ('는', 'JX'), ('또', 'MAJ'), ('다르', 'VA'), ('ㅂ니다', 'EF'), ('.', 'SF'), ('영하', 'NNG'), ('13', 'SN'), ('도의', 'NNP'), ('강추위', 'NNG'), ('그러나', 'MAJ'), ('10', 'SN'), ('만', 'NR'), ('명', 'NNB'), ('넘', 'VV'), ('는', 'ETM'), ('팬', 'NNG'), ('들', 'XSN'), ('의', 'JKG'), ('뜨겁', 'VA'), ('ㄴ', 'ETM'), ('열기', 'NNG'), ('에', 'JKB'), ('선수', 'NNG'), ('들', 'XSN'), ('얼굴', 'NNG'), ('에', 'JKB'), ('도', 'JX'), ('기대감', 'NNG'), ('이', 'JKS'), ('떠오르', 'VV'), ('ㅂ니다', 'EF'), ('.', 'SF'), ('골', 'NNG'), ('이', 'JKS'), ('터지', 'VV'), ('었', 'EP'), ('을', 'ETM'), ('때', 'NNG'), ('ㄴ', 'JX'), ('물론', 'NNG'), ('이', 'VCP'), ('고', 'EC'), (',', 'SP'), ('선수', 'NNG'), ('들', 'XSN'), ('의', 'JKG'), ('싸움', 'NNG'), ('에', 'JKB'), ('도', 'JX'), ('세상', 'NNG'), ('이', 'JKS'), ('떠나가', 'VV'), ('ㄹ', 'ETM'), ('듯', 'NNB'), ('함성', 'NNG'), ('이', 'JKS'), ('터지', 'VV'), ('는', 'ETM'), ('시즌', 'NNP'), ('딱', 'MAG'), ('한', 'MM'), ('번', 'NNB'), ('의', 'JKG'), ('경기', 'NNG'), ('.', 'SF'), ('실내', 'NNG'), ('경기', 'NNP'), ('로', 'JKB'), ('여기', 'VV'), ('어', 'EC'), ('지', 'VX'), ('는', 'ETM'), ('NHL', 'SL'), ('이', 'NNP'), ('특별히', 'MAG'), ('야외', 'NNG'), ('로', 'JKB'), ('나가', 'VV'), ('는', 'ETM'), ('날', 'NNG'), ('이', 'VCP'), ('ㅂ니다', 'EF'), ('.', 'SF'), ('2008년', 'NNP'), ('부터', 'JX'), ('이런', 'MM'), ('이벤트', 'NNG'), ('를', 'JKO'), ('열기', 'NNG'), ('시작', 'NNG'), ('하', 'XSV'), ('았', 'EP'), ('습니다', 'EF'), ('.', 'SF'), ('실내', 'NNG'), ('링크', 'NNP'), ('가', 'JKS'), ('없', 'VA'), ('었', 'EP'), ('던', 'ETM'), ('과거', 'NNG'), ('를', 'JKO'), ('떠올리', 'VV'), ('며', 'EC'), ('야구장', 'NNP'), ('이나', 'JC'), ('미식축구', 'NNP'), ('경기장', 'NNG'), ('을', 'JKO'), ('꽁꽁', 'MAG'), ('얼리', 'VV'), ('ㅂ니다', 'EF'), ('.', 'SF'), ('그러', 'VV'), ('다', 'EC'), ('보니', 'NNP'), ('흩뿌리', 'VV'), ('는', 'ETM'), ('눈', 'NNG'), ('속', 'NNG'), ('에서', 'JKB'), (',', 'SP'), ('또', 'MAJ'), ('혹독', 'XR'), ('하', 'XSA'), ('ㄴ', 'ETM'), ('추위', 'NNP'), ('속', 'NNG'), ('에서', 'JKB'), ('경기', 'NNG'), ('를', 'JKO'), ('치르', 'VV'), ('는', 'ETM'), ('낯선', 'NNP'), ('풍경', 'NNG'), ('이', 'JKS'), ('펼쳐지', 'VV'), ('ㅂ니다', 'EF'), ('.', 'SF'), ('올해', 'NNG'), ('경기', 'NNG'), ('는', 'JX'), ('텍사스', 'NNP'), ('에서', 'JKB'), ('내슈빌', 'NNP'), ('과', 'JC'), ('댈러스', 'NNP'), ('의', 'JKG'), ('경기', 'NNG'), ('로', 'JKB'), ('꾸리', 'VV'), ('어', 'EC'), ('지', 'VX'), ('ㅂ니다', 'EF'), ('.', 'SF'), ('미식축구', 'NNP'), ('장', 'NNP'), ('을', 'JKO'), ('아이스하키', 'NNP'), ('장', 'NNP'), ('으로', 'JKB'), ('바꾸', 'VV'), ('기', 'ETN'), ('위하', 'VV'), ('아', 'EC'), ('2', 'SN'), ('주간', 'NNG'), ('의', 'JKG'), ('공사', 'NNG'), ('가', 'JKS'), ('이어지', 'VV'), ('는데', 'EC'), (',', 'SP'), ('그', 'MM'), ('준비', 'NNG'), ('과정', 'NNG'), ('까지', 'JX'), ('도', 'JX'), ('스토리', 'NNP'), ('로', 'JKB'), ('만들', 'VV'), ('ㅂ니다', 'EF'), ('.', 'SF'), ('축제', 'NNG'), ('로', 'JKB'), ('한', 'MM'), ('해', 'NNG'), ('를', 'JKO'), ('시작', 'NNG'), ('하', 'XSV'), ('고', 'EC'), ('싶', 'VX'), ('은', 'ETM'), ('팬', 'NNG'), ('들', 'XSN'), ('의', 'JKG'), ('요구', 'NNG'), ('와', 'JC'), ('그', 'MM'), ('마음', 'NNG'), ('을', 'JKO'), ('붙잡', 'VV'), ('고', 'EC'), ('싶', 'VX'), ('은', 'ETM'), ('스포츠', 'NNG'), ('가', 'JKS'), ('만들', 'VV'), ('ㄴ', 'ETM'), ('즐겁', 'VA'), ('ㄴ', 'ETM'), ('전통', 'NNG'), ('이', 'VCP'), ('ㅂ니다', 'EF'), ('.', 'SF'), ('(', 'SS'), ('※', 'SW'), ('저작권', 'NNP'), ('관계', 'NNG'), ('로', 'JKB'), ('방송', 'NNG'), ('영상', 'NNG'), ('은', 'JX'), ('서비스', 'NNG'), ('하', 'XSV'), ('지', 'EC'), ('않', 'VX'), ('습니다', 'EF'), ('.', 'SF'), (')', 'SS')]\n"
          ],
          "name": "stdout"
        }
      ]
    },
    {
      "cell_type": "markdown",
      "metadata": {
        "id": "4cuwd5WH4Hoq",
        "colab_type": "text"
      },
      "source": [
        "#Okt 분석기"
      ]
    },
    {
      "cell_type": "code",
      "metadata": {
        "id": "OjQc34AiEocR",
        "colab_type": "code",
        "outputId": "051be4a5-5011-4d0a-ca10-be0babf0131f",
        "colab": {
          "base_uri": "https://localhost:8080/",
          "height": 195
        }
      },
      "source": [
        "from konlpy.tag import Okt\n",
        "okt = Okt()\n",
        " \n",
        "okt.morphs     #형태소 분석\n",
        "okt.nouns      #명사 분석\n",
        "okt.phrases    #구(Phrase) 분석\n",
        "okt.pos        #형태소 분석 태깅\n",
        " \n",
        "# 사용예시\n",
        "print(okt.morphs(u'단독입찰보다 복수입찰의 경우'))\n",
        "['단독', '입찰', '보다', '복수', '입찰', '의', '경우']\n",
        " \n",
        "print(okt.nouns(u'(로마=연합뉴스) 전성훈 특파원 = 신종 코로나바이러스 감염증(코로나19) 확산과 관련한 봉쇄 조처의 점진적 해제를 준비하는 이탈리아가 마스크 가격 폭등을 막기 위해 가격 상한제를 도입한다.'))\n",
        "['로마', '연합뉴스', '전성훈', '특파원', '신종', '코로나바이러스', '감염증', '코로나', '확산', '관련', '봉쇄', '조처', '점진', '해제', '준비', '이탈리아', '마스크', '가격', '폭등', '위해', '가격', '상한', '제', '도입']\n",
        " \n",
        "print(okt.phrases(u'날카로운 분석과 신뢰감 있는 진행으로'))\n",
        "['날카로운 분석', '날카로운 분석과 신뢰감', '날카로운 분석과 신뢰감 있는 진행', '분석', '신뢰', '진행']\n",
        " \n",
        "print(okt.pos(u'이것도 되나욬ㅋㅋ'))\n",
        "[('이', 'Determiner'), ('것', 'Noun'), ('도', 'Josa'), ('되나욬', 'Noun'), ('ㅋㅋ', 'KoreanParticle')]"
      ],
      "execution_count": 0,
      "outputs": [
        {
          "output_type": "stream",
          "text": [
            "['단독', '입찰', '보다', '복수', '입찰', '의', '경우']\n",
            "['로마', '연합뉴스', '전성훈', '특파원', '신종', '코로나바이러스', '감염증', '코로나', '확산', '관련', '봉쇄', '조처', '점진', '해제', '준비', '이탈리아', '마스크', '가격', '폭등', '위해', '가격', '상한', '제', '도입']\n",
            "['날카로운 분석', '날카로운 분석과 신뢰감', '날카로운 분석과 신뢰감 있는 진행', '분석', '신뢰', '진행']\n",
            "[('이', 'Determiner'), ('것', 'Noun'), ('도', 'Josa'), ('되나욬', 'Noun'), ('ㅋㅋ', 'KoreanParticle')]\n"
          ],
          "name": "stdout"
        },
        {
          "output_type": "execute_result",
          "data": {
            "text/plain": [
              "[('이', 'Determiner'),\n",
              " ('것', 'Noun'),\n",
              " ('도', 'Josa'),\n",
              " ('되나욬', 'Noun'),\n",
              " ('ㅋㅋ', 'KoreanParticle')]"
            ]
          },
          "metadata": {
            "tags": []
          },
          "execution_count": 12
        }
      ]
    },
    {
      "cell_type": "code",
      "metadata": {
        "id": "Ow30PEwL4HrC",
        "colab_type": "code",
        "outputId": "4cac29e0-4177-4e5f-843e-68103eae0be0",
        "colab": {
          "base_uri": "https://localhost:8080/",
          "height": 107
        }
      },
      "source": [
        "from konlpy.tag import Okt\n",
        "okt = Okt()\n",
        " \n",
        "okt.morphs     #형태소 분석\n",
        "okt.nouns      #명사 분석\n",
        "okt.phrases    #구(Phrase) 분석\n",
        "okt.pos        #형태소 분석 태깅\n",
        " \n",
        "# 사용예시\n",
        "print(okt.morphs(data))\n",
        " \n",
        "print(okt.nouns(data))\n",
        " \n",
        "print(okt.phrases(data))\n",
        " \n",
        "print(okt.pos(data))"
      ],
      "execution_count": 0,
      "outputs": [
        {
          "output_type": "stream",
          "text": [
            "['[', '앵커', ']', '뭔가', '다른', '게', '없을까', '스포츠', '에선', '새해', '를', '맞이', '하는', '방법', '을', '놓고', '머리', '를', '짜냅니다', '.', '우리', '농구', '는', '팬', '들', '과', '함께', '새해', '카운트', '다운', '을', '하기', '위해', '서', '자정', '무렵', '까지', '경기', '를', '했고', '북미', '아이스하키', ',', 'NHL', '은', '널찍한', '야외', '미식', '축구장', '으로', '경기장', '을', '옮겼습니다', '.', '온누리', '기자', '입니다', '.[', '기자', ']', '하나', '씩', '줄어들던', '숫자', '가', '\\n ', '0', '으로', '바뀌면서', '새해', '는', '커다란', '함성', '과', '함께', '찾아왔습니다', '.', '서울', '보신각', '도', '아닌데', '커다란', '종소리', '가', '2020년', '을', '알리는', '곳', ',', '1', '박', '2일', '경기', '가', '펼쳐진', '코트', '위', '입니다', '.', '12월', '의', '마지막', '밤', '시작', '해', ',', '코트', '에서', '다', '같이', '신년', '을', '맞는다', '해서', '송구영신', '에', '빗대', \"'\", '농구', '영', '신', \"'\", '이라', '부릅니다', '.', '\\n', '올해', '로', '4년', '째인데', ',', '매년', '매진', '기록', '이', '이어집니다', '.', '북미', '아이스하키', ',', 'NHL', '의', '새해', '맞이', '는', '또', '다릅니다', '.', '영하', '13', '도의', '강', '추위', '그러나', '10만', '명', '넘는', '팬', '들', '의', '\\n ', '뜨거운', '열기', '에', '선수', '들', '얼굴', '에도', '기', '대감', '이', '떠오릅니다', '.', '골', '이', '터졌을', '땐', '물론', '이고', ',', '선수', '들', '의', '싸움', '에도', '세상', '이', '떠나갈', '듯', '함성', '이', '터지는', '시즌', '딱', '한', '번의', '경기', '.', '\\n', '실내경기', '로', '여겨지는', 'NHL', '이', '특별히', '야외', '로', '나가는', '날', '입니다', '.', '2008년', '부터', '이런', '이벤트', '를', '열기', '시작', '했습니다', '.', '\\n', '실내', '링크', '가', '없었던', '과거', '를', '떠올리며', '야구장', '이나', '미식축구', '경기장', '을', '꽁꽁', '얼립니다', '.', '그러다', '보니', '흩', '뿌리는', '눈', '속', '에서', ',', '\\n ', '또', '혹독한', '추위', '속', '에서', '경기', '를', '치르는', '낯선', '풍경', '이', '펼쳐집니다', '.', '올해', '경기', '는', '텍사스', '에서', '내슈빌', '과', '댈러스', '의', '경기', '로', '꾸려', '집니다', '.', '\\n', '미식축구', '장', '을', '아이스하키', '장', '으로', '바꾸기', '위해', '2', '주간', '의', '공사', '가', '이어지는데', ',', '그', '준비', '과정', '까지도', '스토리', '로', '만듭니', '다', '.', '\\n', '축제', '로', '한', '해', '를', '시작', '하고', '싶은', '팬', '들', '의', '요구', '와', '그', '마음', '을', '붙잡고', '싶은', '스포츠', '가', '만든', '즐거운', '전통', '입니다', '.', '\\n', '(', '※', '저작권', '관계', '로', '방송', '영상', '은', '서비스', '하지', '않습니다', '.)']\n",
            "['앵커', '뭔가', '다른', '게', '스포츠', '새해', '맞이', '방법', '머리', '우리', '농구', '팬', '새해', '카운트', '다운', '위해', '자정', '무렵', '경기', '북미', '아이스하키', '은', '야외', '미식', '축구장', '경기장', '온누리', '기자', '기자', '하나', '숫자', '새해', '함성', '서울', '보신각', '종소리', '곳', '박', '경기', '코트', '위', '마지막', '밤', '시작', '코트', '신년', '송구영신', '농구', '신', '올해', '매년', '매진', '기록', '북미', '아이스하키', '의', '새해', '맞이', '또', '영하', '도의', '강', '추위', '명', '팬', '열기', '선수', '얼굴', '대감', '골', '땐', '선수', '싸움', '세상', '듯', '함성', '시즌', '번의', '경기', '실내경기', '이', '야외', '날', '이벤트', '열기', '시작', '실내', '링크', '과거', '야구장', '미식축구', '경기장', '꽁꽁', '눈', '속', '또', '추위', '속', '경기', '낯선', '풍경', '올해', '경기', '텍사스', '내슈빌', '댈러스', '경기', '미식축구', '아이스하키', '위해', '주간', '공사', '그', '준비', '과정', '스토리', '만듭니', '축제', '해', '시작', '팬', '요구', '그', '마음', '스포츠', '전통', '저작권', '관계', '방송', '영상', '서비스']\n",
            "['앵커', '뭔가', '뭔가 다른', '뭔가 다른 게', '스포츠', '새해', '맞이', '맞이하는 방법', '머리', '우리', '우리 농구', '팬들', '새해 카운트', '새해 카운트 다운', '위해', '자정', '자정 무렵', '경기', '북미', '북미 아이스하키', 'NHL은', 'NHL은 널찍한 야외', 'NHL은 널찍한 야외 미식', 'NHL은 널찍한 야외 미식 축구장', '경기장', '온누리', '온누리 기자', '기자', '하나씩', '하나씩 줄어들던 숫자', '커다란 함성', '서울', '서울 보신각', '커다란 종소리', '2020년', '1박', '1박 2일', '1박 2일 경기', '코트', '코트 위', '12월', '마지막', '마지막 밤', '마지막 밤 시작', '신년', '송구영신', '농구영신', '올해', '4년', '매년', '매년 매진', '매년 매진 기록', 'NHL의', 'NHL의 새해맞이', '영하', '영하 13도의', '영하 13도의 강추위', '10만', '10만 명', '10만 명 넘는 팬들', '뜨거운 열기', '선수들', '선수들 얼굴', '기대감', '선수들의 싸움', '세상', '듯 함성', '시즌', '번의', '번의 경기', '실내경기', 'NHL이', '야외', '2008년', '이런 이벤트', '열기', '열기 시작', '실내', '실내 링크', '없었던 과거', '야구장', '미식축구', '미식축구 경기장', '꽁꽁', '또 혹독한 추위', '또 혹독한 추위 속', '낯선', '낯선 풍경', '올해 경기', '텍사스', '내슈빌', '내슈빌과 댈러스', '내슈빌과 댈러스의 경기', '미식축구장', '아이스하키장', '위해 2주간', '위해 2주간의 공사', '그 준비과정', '스토리', '만듭니', '축제', '시작', '팬들의 요구', '팬들의 요구와 그', '팬들의 요구와 그 마음', '즐거운 전통', '저작권', '저작권 관계', '방송', '방송 영상', '서비스', '다른', '방법', '농구', '카운트', '다운', '무렵', '아이스하키', 'NHL', '미식', '축구장', '숫자', '함성', '보신각', '종소리', '2일', '영신', '매진', '기록', '13', '도의', '추위', '얼굴', '싸움', '이벤트', '링크', '과거', '풍경', '댈러스', '주간', '공사', '준비', '과정', '요구', '마음', '전통', '관계', '영상']\n",
            "[('[', 'Punctuation'), ('앵커', 'Noun'), (']', 'Punctuation'), ('뭔가', 'Noun'), ('다른', 'Noun'), ('게', 'Noun'), ('없을까', 'Adjective'), ('스포츠', 'Noun'), ('에선', 'Josa'), ('새해', 'Noun'), ('를', 'Josa'), ('맞이', 'Noun'), ('하는', 'Verb'), ('방법', 'Noun'), ('을', 'Josa'), ('놓고', 'Verb'), ('머리', 'Noun'), ('를', 'Josa'), ('짜냅니다', 'Verb'), ('.', 'Punctuation'), ('우리', 'Noun'), ('농구', 'Noun'), ('는', 'Josa'), ('팬', 'Noun'), ('들', 'Suffix'), ('과', 'Josa'), ('함께', 'Adverb'), ('새해', 'Noun'), ('카운트', 'Noun'), ('다운', 'Noun'), ('을', 'Josa'), ('하기', 'Verb'), ('위해', 'Noun'), ('서', 'Josa'), ('자정', 'Noun'), ('무렵', 'Noun'), ('까지', 'Josa'), ('경기', 'Noun'), ('를', 'Josa'), ('했고', 'Verb'), ('북미', 'Noun'), ('아이스하키', 'Noun'), (',', 'Punctuation'), ('NHL', 'Alpha'), ('은', 'Noun'), ('널찍한', 'Adjective'), ('야외', 'Noun'), ('미식', 'Noun'), ('축구장', 'Noun'), ('으로', 'Josa'), ('경기장', 'Noun'), ('을', 'Josa'), ('옮겼습니다', 'Verb'), ('.', 'Punctuation'), ('온누리', 'Noun'), ('기자', 'Noun'), ('입니다', 'Adjective'), ('.[', 'Punctuation'), ('기자', 'Noun'), (']', 'Punctuation'), ('하나', 'Noun'), ('씩', 'Suffix'), ('줄어들던', 'Verb'), ('숫자', 'Noun'), ('가', 'Josa'), ('\\n ', 'Foreign'), ('0', 'Number'), ('으로', 'Josa'), ('바뀌면서', 'Verb'), ('새해', 'Noun'), ('는', 'Josa'), ('커다란', 'Adjective'), ('함성', 'Noun'), ('과', 'Josa'), ('함께', 'Adverb'), ('찾아왔습니다', 'Verb'), ('.', 'Punctuation'), ('서울', 'Noun'), ('보신각', 'Noun'), ('도', 'Josa'), ('아닌데', 'Adjective'), ('커다란', 'Adjective'), ('종소리', 'Noun'), ('가', 'Josa'), ('2020년', 'Number'), ('을', 'Foreign'), ('알리는', 'Verb'), ('곳', 'Noun'), (',', 'Punctuation'), ('1', 'Number'), ('박', 'Noun'), ('2일', 'Number'), ('경기', 'Noun'), ('가', 'Josa'), ('펼쳐진', 'Verb'), ('코트', 'Noun'), ('위', 'Noun'), ('입니다', 'Adjective'), ('.', 'Punctuation'), ('12월', 'Number'), ('의', 'Foreign'), ('마지막', 'Noun'), ('밤', 'Noun'), ('시작', 'Noun'), ('해', 'Verb'), (',', 'Punctuation'), ('코트', 'Noun'), ('에서', 'Josa'), ('다', 'Adverb'), ('같이', 'Adverb'), ('신년', 'Noun'), ('을', 'Josa'), ('맞는다', 'Verb'), ('해서', 'Verb'), ('송구영신', 'Noun'), ('에', 'Josa'), ('빗대', 'Verb'), (\"'\", 'Punctuation'), ('농구', 'Noun'), ('영', 'Modifier'), ('신', 'Noun'), (\"'\", 'Punctuation'), ('이라', 'Verb'), ('부릅니다', 'Verb'), ('.', 'Punctuation'), ('\\n', 'Foreign'), ('올해', 'Noun'), ('로', 'Josa'), ('4년', 'Number'), ('째인데', 'Foreign'), (',', 'Punctuation'), ('매년', 'Noun'), ('매진', 'Noun'), ('기록', 'Noun'), ('이', 'Josa'), ('이어집니다', 'Verb'), ('.', 'Punctuation'), ('북미', 'Noun'), ('아이스하키', 'Noun'), (',', 'Punctuation'), ('NHL', 'Alpha'), ('의', 'Noun'), ('새해', 'Noun'), ('맞이', 'Noun'), ('는', 'Josa'), ('또', 'Noun'), ('다릅니다', 'Adjective'), ('.', 'Punctuation'), ('영하', 'Noun'), ('13', 'Number'), ('도의', 'Noun'), ('강', 'Noun'), ('추위', 'Noun'), ('그러나', 'Conjunction'), ('10만', 'Number'), ('명', 'Noun'), ('넘는', 'Verb'), ('팬', 'Noun'), ('들', 'Suffix'), ('의', 'Josa'), ('\\n ', 'Foreign'), ('뜨거운', 'Adjective'), ('열기', 'Noun'), ('에', 'Josa'), ('선수', 'Noun'), ('들', 'Suffix'), ('얼굴', 'Noun'), ('에도', 'Josa'), ('기', 'Modifier'), ('대감', 'Noun'), ('이', 'Josa'), ('떠오릅니다', 'Verb'), ('.', 'Punctuation'), ('골', 'Noun'), ('이', 'Josa'), ('터졌을', 'Verb'), ('땐', 'Noun'), ('물론', 'Adverb'), ('이고', 'Josa'), (',', 'Punctuation'), ('선수', 'Noun'), ('들', 'Suffix'), ('의', 'Josa'), ('싸움', 'Noun'), ('에도', 'Josa'), ('세상', 'Noun'), ('이', 'Josa'), ('떠나갈', 'Verb'), ('듯', 'Noun'), ('함성', 'Noun'), ('이', 'Josa'), ('터지는', 'Verb'), ('시즌', 'Noun'), ('딱', 'Adverb'), ('한', 'Verb'), ('번의', 'Noun'), ('경기', 'Noun'), ('.', 'Punctuation'), ('\\n', 'Foreign'), ('실내경기', 'Noun'), ('로', 'Josa'), ('여겨지는', 'Verb'), ('NHL', 'Alpha'), ('이', 'Noun'), ('특별히', 'Adjective'), ('야외', 'Noun'), ('로', 'Josa'), ('나가는', 'Verb'), ('날', 'Noun'), ('입니다', 'Adjective'), ('.', 'Punctuation'), ('2008년', 'Number'), ('부터', 'Foreign'), ('이런', 'Adjective'), ('이벤트', 'Noun'), ('를', 'Josa'), ('열기', 'Noun'), ('시작', 'Noun'), ('했습니다', 'Verb'), ('.', 'Punctuation'), ('\\n', 'Foreign'), ('실내', 'Noun'), ('링크', 'Noun'), ('가', 'Josa'), ('없었던', 'Adjective'), ('과거', 'Noun'), ('를', 'Josa'), ('떠올리며', 'Verb'), ('야구장', 'Noun'), ('이나', 'Josa'), ('미식축구', 'Noun'), ('경기장', 'Noun'), ('을', 'Josa'), ('꽁꽁', 'Noun'), ('얼립니다', 'Verb'), ('.', 'Punctuation'), ('그러다', 'Adjective'), ('보니', 'Verb'), ('흩', 'Verb'), ('뿌리는', 'Verb'), ('눈', 'Noun'), ('속', 'Noun'), ('에서', 'Josa'), (',', 'Punctuation'), ('\\n ', 'Foreign'), ('또', 'Noun'), ('혹독한', 'Adjective'), ('추위', 'Noun'), ('속', 'Noun'), ('에서', 'Josa'), ('경기', 'Noun'), ('를', 'Josa'), ('치르는', 'Verb'), ('낯선', 'Noun'), ('풍경', 'Noun'), ('이', 'Josa'), ('펼쳐집니다', 'Verb'), ('.', 'Punctuation'), ('올해', 'Noun'), ('경기', 'Noun'), ('는', 'Josa'), ('텍사스', 'Noun'), ('에서', 'Josa'), ('내슈빌', 'Noun'), ('과', 'Josa'), ('댈러스', 'Noun'), ('의', 'Josa'), ('경기', 'Noun'), ('로', 'Josa'), ('꾸려', 'Verb'), ('집니다', 'Verb'), ('.', 'Punctuation'), ('\\n', 'Foreign'), ('미식축구', 'Noun'), ('장', 'Suffix'), ('을', 'Josa'), ('아이스하키', 'Noun'), ('장', 'Suffix'), ('으로', 'Josa'), ('바꾸기', 'Verb'), ('위해', 'Noun'), ('2', 'Number'), ('주간', 'Noun'), ('의', 'Josa'), ('공사', 'Noun'), ('가', 'Josa'), ('이어지는데', 'Verb'), (',', 'Punctuation'), ('그', 'Noun'), ('준비', 'Noun'), ('과정', 'Noun'), ('까지도', 'Josa'), ('스토리', 'Noun'), ('로', 'Josa'), ('만듭니', 'Noun'), ('다', 'Josa'), ('.', 'Punctuation'), ('\\n', 'Foreign'), ('축제', 'Noun'), ('로', 'Josa'), ('한', 'Verb'), ('해', 'Noun'), ('를', 'Josa'), ('시작', 'Noun'), ('하고', 'Josa'), ('싶은', 'Verb'), ('팬', 'Noun'), ('들', 'Suffix'), ('의', 'Josa'), ('요구', 'Noun'), ('와', 'Josa'), ('그', 'Noun'), ('마음', 'Noun'), ('을', 'Josa'), ('붙잡고', 'Verb'), ('싶은', 'Verb'), ('스포츠', 'Noun'), ('가', 'Josa'), ('만든', 'Verb'), ('즐거운', 'Adjective'), ('전통', 'Noun'), ('입니다', 'Adjective'), ('.', 'Punctuation'), ('\\n', 'Foreign'), ('(', 'Punctuation'), ('※', 'Foreign'), ('저작권', 'Noun'), ('관계', 'Noun'), ('로', 'Josa'), ('방송', 'Noun'), ('영상', 'Noun'), ('은', 'Josa'), ('서비스', 'Noun'), ('하지', 'Verb'), ('않습니다', 'Verb'), ('.)', 'Punctuation')]\n"
          ],
          "name": "stdout"
        }
      ]
    },
    {
      "cell_type": "markdown",
      "metadata": {
        "id": "eV_NHDPPOxZ-",
        "colab_type": "text"
      },
      "source": [
        "#word2vec란? = 단어의 의미를 벡터화 할 수 있는 방법"
      ]
    },
    {
      "cell_type": "markdown",
      "metadata": {
        "id": "v6M_r8IzJzDv",
        "colab_type": "text"
      },
      "source": [
        "#함수중 okt 를 사용한것은 많은 데이터를 학습시켜야하는데 시간이 없기때문!!!\n",
        "전체 5만건의 기사를 크롤링해서 분석했기 때문에 시간이 오래걸림!!!"
      ]
    },
    {
      "cell_type": "markdown",
      "metadata": {
        "id": "XByI-26SPH5K",
        "colab_type": "text"
      },
      "source": [
        "#word2vec 학습시키기\n",
        "1. 불용어와 정규표현식을 통한 한글 외 문자 제거 안했을때"
      ]
    },
    {
      "cell_type": "code",
      "metadata": {
        "id": "IoGKV8KNCOMT",
        "colab_type": "code",
        "outputId": "02b78e7f-f441-480e-9a40-e3dfe8fb6ec5",
        "colab": {
          "base_uri": "https://localhost:8080/",
          "height": 230
        }
      },
      "source": [
        "train_data = pd.read_table('/content/drive/My Drive/3차 프로젝트/sports.txt',index_col=None, header=None)\n",
        "# NULL 값 존재 유무\n",
        "print(train_data.isnull().values.any())\n",
        "train_data = train_data.dropna(how = 'any') # Null 값이 존재하는 행 제거\n",
        "print(train_data.isnull().values.any()) \n",
        "train_data[:5]"
      ],
      "execution_count": 0,
      "outputs": [
        {
          "output_type": "stream",
          "text": [
            "True\n",
            "False\n"
          ],
          "name": "stdout"
        },
        {
          "output_type": "execute_result",
          "data": {
            "text/html": [
              "<div>\n",
              "<style scoped>\n",
              "    .dataframe tbody tr th:only-of-type {\n",
              "        vertical-align: middle;\n",
              "    }\n",
              "\n",
              "    .dataframe tbody tr th {\n",
              "        vertical-align: top;\n",
              "    }\n",
              "\n",
              "    .dataframe thead th {\n",
              "        text-align: right;\n",
              "    }\n",
              "</style>\n",
              "<table border=\"1\" class=\"dataframe\">\n",
              "  <thead>\n",
              "    <tr style=\"text-align: right;\">\n",
              "      <th></th>\n",
              "      <th>0</th>\n",
              "    </tr>\n",
              "  </thead>\n",
              "  <tbody>\n",
              "    <tr>\n",
              "      <th>0</th>\n",
              "      <td>'농구영신'·야외 아이스하키..팬들과 함께한 새해맞이[앵커]뭔가 다른 게 없을까 스...</td>\n",
              "    </tr>\n",
              "    <tr>\n",
              "      <th>1</th>\n",
              "      <td>GERMANY SKI JUMPING FOUR HILLS TOURNAMENTepa08...</td>\n",
              "    </tr>\n",
              "    <tr>\n",
              "      <th>2</th>\n",
              "      <td>마이샤 하인즈 알렌,'버저비터 슛' [사진]3쿼터 부천 KEB하나은행 마이샤가 공격...</td>\n",
              "    </tr>\n",
              "    <tr>\n",
              "      <th>3</th>\n",
              "      <td>스미스 '정확한 슛' [MK포토]매경닷컴 MK스포츠(부천체육관)=김재현 기자2일 오...</td>\n",
              "    </tr>\n",
              "    <tr>\n",
              "      <th>4</th>\n",
              "      <td>'신승' 이상민 감독 \"경기력은 연패 때보다 안 좋았다\"[엑스포츠뉴스 잠실실내, 조...</td>\n",
              "    </tr>\n",
              "  </tbody>\n",
              "</table>\n",
              "</div>"
            ],
            "text/plain": [
              "                                                   0\n",
              "0  '농구영신'·야외 아이스하키..팬들과 함께한 새해맞이[앵커]뭔가 다른 게 없을까 스...\n",
              "1  GERMANY SKI JUMPING FOUR HILLS TOURNAMENTepa08...\n",
              "2  마이샤 하인즈 알렌,'버저비터 슛' [사진]3쿼터 부천 KEB하나은행 마이샤가 공격...\n",
              "3  스미스 '정확한 슛' [MK포토]매경닷컴 MK스포츠(부천체육관)=김재현 기자2일 오...\n",
              "4  '신승' 이상민 감독 \"경기력은 연패 때보다 안 좋았다\"[엑스포츠뉴스 잠실실내, 조..."
            ]
          },
          "metadata": {
            "tags": []
          },
          "execution_count": 13
        }
      ]
    },
    {
      "cell_type": "code",
      "metadata": {
        "id": "6mdyWX1gvg7D",
        "colab_type": "code",
        "colab": {}
      },
      "source": [
        "# 정규 표현식을 통한 한글 외 문자 제거\n",
        "#train_data[0] = train_data[0].str.replace(\"[^ㄱ-ㅎㅏ-ㅣ가-힣 ]\",\"\")\n",
        "#불용어 제거\n",
        "stopwords = ['의','가','이','은','들','는','좀','잘','걍','과','도','를','으로','자','에','와','한','하다']"
      ],
      "execution_count": 0,
      "outputs": []
    },
    {
      "cell_type": "code",
      "metadata": {
        "id": "NnO6ohz5COU4",
        "colab_type": "code",
        "colab": {}
      },
      "source": [
        "# 형태소 분석기 OKT를 사용한 토큰화 작업 (다소 시간 소요)\n",
        "okt = Okt()\n",
        "tokenized_data = []\n",
        "for sentence in train_data[0]:\n",
        "    temp_X = okt.morphs(sentence, stem=True) # 토큰화\n",
        "    temp_X = [word for word in temp_X if not word in stopwords] # 불용어 제거\n",
        "    tokenized_data.append(temp_X)"
      ],
      "execution_count": 0,
      "outputs": []
    },
    {
      "cell_type": "code",
      "metadata": {
        "id": "arGLACBHCOYE",
        "colab_type": "code",
        "colab": {}
      },
      "source": [
        "print('기사의 최대 길이 :',max(len(l) for l in tokenized_data))\n",
        "print('기사의 평균 길이 :',sum(map(len, tokenized_data))/len(tokenized_data))\n",
        "plt.hist([len(s) for s in tokenized_data], bins=50)\n",
        "plt.xlabel('length of samples')\n",
        "plt.ylabel('number of samples')\n",
        "plt.show()"
      ],
      "execution_count": 0,
      "outputs": []
    },
    {
      "cell_type": "code",
      "metadata": {
        "id": "uQl2Zh_eCOd0",
        "colab_type": "code",
        "colab": {}
      },
      "source": [
        "from gensim.models import Word2Vec\n",
        "model = Word2Vec(sentences = tokenized_data, size = 100, window = 5, min_count = 5, workers = 4, sg = 0)"
      ],
      "execution_count": 0,
      "outputs": []
    },
    {
      "cell_type": "code",
      "metadata": {
        "id": "m1BUGzOPCOSd",
        "colab_type": "code",
        "outputId": "4930dd5b-7814-4ba1-8cc8-6ea71427d0ee",
        "colab": {
          "base_uri": "https://localhost:8080/",
          "height": 90
        }
      },
      "source": [
        "#similar 함수는 입력된 단어와 비슷한 코사인 유사도를 가지는 단어를 찾아서 나열해준다.\n",
        "model.wv.vectors.shape\n",
        "print(model.wv.most_similar(\"손흥민\"))"
      ],
      "execution_count": 0,
      "outputs": [
        {
          "output_type": "stream",
          "text": [
            "[('을', 0.9968864917755127), ('에서', 0.9968428611755371), (',', 0.9968417882919312), ('.', 0.9967831969261169), ('(', 0.9967650175094604), ('오다', 0.9964478015899658), ('선수', 0.9964211583137512), ('1', 0.9962705373764038), (')', 0.996115505695343), ('경기', 0.9960095882415771)]\n"
          ],
          "name": "stdout"
        },
        {
          "output_type": "stream",
          "text": [
            "/usr/local/lib/python3.6/dist-packages/gensim/matutils.py:737: FutureWarning: Conversion of the second argument of issubdtype from `int` to `np.signedinteger` is deprecated. In future, it will be treated as `np.int64 == np.dtype(int).type`.\n",
            "  if np.issubdtype(vec.dtype, np.int):\n"
          ],
          "name": "stderr"
        }
      ]
    },
    {
      "cell_type": "markdown",
      "metadata": {
        "id": "CIKAnvKTGF4f",
        "colab_type": "text"
      },
      "source": [
        "#word2vec 학습시키기 2\n",
        "1. 불용어와 정규표현식으로 제거"
      ]
    },
    {
      "cell_type": "code",
      "metadata": {
        "id": "OF_2Tgm3Gcy-",
        "colab_type": "code",
        "colab": {}
      },
      "source": [
        "train_data = pd.read_table('/content/drive/My Drive/3차 프로젝트/sports.txt',index_col=None, header=None)\n",
        "# NULL 값 존재 유무\n",
        "print(train_data.isnull().values.any())\n",
        "train_data = train_data.dropna(how = 'any') # Null 값이 존재하는 행 제거\n",
        "print(train_data.isnull().values.any()) \n",
        "train_data[:5]"
      ],
      "execution_count": 0,
      "outputs": []
    },
    {
      "cell_type": "code",
      "metadata": {
        "id": "-LFtL3dyGc1i",
        "colab_type": "code",
        "colab": {}
      },
      "source": [
        "# 정규 표현식을 통한 한글 외 문자 제거\n",
        "train_data[0] = train_data[0].str.replace(\"[^ㄱ-ㅎㅏ-ㅣ가-힣 ]\",\"\")\n",
        "#불용어 제거\n",
        "stopwords = ['의','가','이','은','들','는','좀','잘','걍','과','도','를','으로','자','에','와','한','하다']"
      ],
      "execution_count": 0,
      "outputs": []
    },
    {
      "cell_type": "code",
      "metadata": {
        "id": "2XH1HO2LGc78",
        "colab_type": "code",
        "colab": {}
      },
      "source": [
        "# 형태소 분석기 OKT를 사용한 토큰화 작업 (다소 시간 소요)\n",
        "okt = Okt()\n",
        "tokenized_data = []\n",
        "for sentence in train_data[0]:\n",
        "    temp_X = okt.morphs(sentence, stem=True) # 토큰화\n",
        "    temp_X = [word for word in temp_X if not word in stopwords] # 불용어 제거\n",
        "    tokenized_data.append(temp_X)"
      ],
      "execution_count": 0,
      "outputs": []
    },
    {
      "cell_type": "code",
      "metadata": {
        "id": "ns26rrt6GdAW",
        "colab_type": "code",
        "colab": {}
      },
      "source": [
        "print('기사의 최대 길이 :',max(len(l) for l in tokenized_data))\n",
        "print('기사의 평균 길이 :',sum(map(len, tokenized_data))/len(tokenized_data))\n",
        "plt.hist([len(s) for s in tokenized_data], bins=50)\n",
        "plt.xlabel('length of samples')\n",
        "plt.ylabel('number of samples')\n",
        "plt.show()"
      ],
      "execution_count": 0,
      "outputs": []
    },
    {
      "cell_type": "code",
      "metadata": {
        "id": "wUl5FNSaGc-g",
        "colab_type": "code",
        "colab": {}
      },
      "source": [
        "from gensim.models import Word2Vec\n",
        "model = Word2Vec(sentences = tokenized_data, size = 100, window = 5, min_count = 5, workers = 4, sg = 0)"
      ],
      "execution_count": 0,
      "outputs": []
    },
    {
      "cell_type": "code",
      "metadata": {
        "id": "V5ErW3tRGc5-",
        "colab_type": "code",
        "colab": {}
      },
      "source": [
        "#similar 함수는 입력된 단어와 비슷한 코사인 유사도를 가지는 단어를 찾아서 나열해준다.\n",
        "model.wv.vectors.shape\n",
        "print(model.wv.most_similar(\"손흥민\"))"
      ],
      "execution_count": 0,
      "outputs": []
    },
    {
      "cell_type": "markdown",
      "metadata": {
        "id": "LkImC07gGu9s",
        "colab_type": "text"
      },
      "source": [
        "#word2vec 해보기 3\n",
        "1. 불용어, 정규표현식, 명사일때만 저장"
      ]
    },
    {
      "cell_type": "code",
      "metadata": {
        "id": "8rnBHyMQQxH1",
        "colab_type": "code",
        "outputId": "b22cf28e-57cd-4013-c295-4ebb8718f963",
        "colab": {
          "base_uri": "https://localhost:8080/",
          "height": 52
        }
      },
      "source": [
        "from konlpy.tag import Okt  \n",
        "okt=Okt()\n",
        "fread = open('/content/drive/My Drive/3차 프로젝트/news_sports_total.txt', encoding=\"utf8\")\n",
        "# 파일을 다시 처음부터 읽음.\n",
        "n=0\n",
        "result = []\n",
        "\n",
        "while True:\n",
        "    line = fread.readline() #한 줄씩 읽음.\n",
        "    if not line: break # 모두 읽으면 while문 종료.\n",
        "    n=n+1\n",
        "    if n%5000==0: # 5,000의 배수로 While문이 실행될 때마다 몇 번째 While문 실행인지 출력.\n",
        "        print(\"%d번째 While문.\"%n)\n",
        "    tokenlist = okt.pos(line, stem=True, norm=True) # 단어 토큰화\n",
        "    temp=[]\n",
        "    for word in tokenlist:\n",
        "        if word[1] in [\"Noun\"]: # 명사일 때만\n",
        "            temp.append((word[0])) # 해당 단어를 저장함\n",
        "\n",
        "    if temp: # 만약 이번에 읽은 데이터에 명사가 존재할 경우에만\n",
        "      result.append(temp) # 결과에 저장\n",
        "fread.close()"
      ],
      "execution_count": 0,
      "outputs": [
        {
          "output_type": "stream",
          "text": [
            "5000번째 While문.\n",
            "10000번째 While문.\n"
          ],
          "name": "stdout"
        }
      ]
    },
    {
      "cell_type": "code",
      "metadata": {
        "id": "CJSOIF2HZOBi",
        "colab_type": "code",
        "outputId": "65c2bbee-91d9-4c51-a4d9-4d80316ddf0e",
        "colab": {
          "base_uri": "https://localhost:8080/",
          "height": 314
        }
      },
      "source": [
        "# 기사 길이 분포 확인\n",
        "print('기사의 최대 길이 :',max(len(l) for l in result))\n",
        "print('기사의 평균 길이 :',sum(map(len, result))/len(result))\n",
        "plt.hist([len(s) for s in result], bins=50)\n",
        "plt.xlabel('length of samples')\n",
        "plt.ylabel('number of samples')\n",
        "plt.show()"
      ],
      "execution_count": 0,
      "outputs": [
        {
          "output_type": "stream",
          "text": [
            "기사의 최대 길이 : 905\n",
            "기사의 평균 길이 : 72.41420698101653\n"
          ],
          "name": "stdout"
        },
        {
          "output_type": "display_data",
          "data": {
            "image/png": "[encoded data removed]",
            "text/plain": [
              "<Figure size 432x288 with 1 Axes>"
            ]
          },
          "metadata": {
            "tags": [],
            "needs_background": "light"
          }
        }
      ]
    },
    {
      "cell_type": "code",
      "metadata": {
        "id": "v2hyGVy0QxKA",
        "colab_type": "code",
        "outputId": "2d209ff8-8e42-41ee-fb97-fe1201fead30",
        "colab": {
          "base_uri": "https://localhost:8080/",
          "height": 34
        }
      },
      "source": [
        "#총 샘플의 개수\n",
        "print(len(result))"
      ],
      "execution_count": 0,
      "outputs": [
        {
          "output_type": "stream",
          "text": [
            "8165\n"
          ],
          "name": "stdout"
        }
      ]
    },
    {
      "cell_type": "code",
      "metadata": {
        "id": "b2vn9QvjQxNh",
        "colab_type": "code",
        "colab": {}
      },
      "source": [
        "from gensim.models import Word2Vec\n",
        "model = Word2Vec(result, size=100, window=5, min_count=5, workers=4, sg=1)"
      ],
      "execution_count": 0,
      "outputs": []
    },
    {
      "cell_type": "code",
      "metadata": {
        "id": "AkHkqPH9ZyOa",
        "colab_type": "code",
        "outputId": "c84fe0d9-6b64-46bf-f25b-45e6fcac9fd3",
        "colab": {
          "base_uri": "https://localhost:8080/",
          "height": 34
        }
      },
      "source": [
        "# 완성된 임베딩 매트릭스의 크기 확인\n",
        "model.wv.vectors.shape"
      ],
      "execution_count": 0,
      "outputs": [
        {
          "output_type": "execute_result",
          "data": {
            "text/plain": [
              "(8969, 100)"
            ]
          },
          "metadata": {
            "tags": []
          },
          "execution_count": 22
        }
      ]
    },
    {
      "cell_type": "code",
      "metadata": {
        "id": "ZTGYDQdvRD4R",
        "colab_type": "code",
        "outputId": "c3582d90-796f-4a8c-d3d6-e50f2e08540d",
        "colab": {
          "base_uri": "https://localhost:8080/",
          "height": 90
        }
      },
      "source": [
        "model_result1 = model.wv.most_similar(\"손흥민\")\n",
        "print(model_result1)"
      ],
      "execution_count": 0,
      "outputs": [
        {
          "output_type": "stream",
          "text": [
            "[('케인', 0.8328101634979248), ('토트넘', 0.8136297464370728), ('해리', 0.7371008396148682), ('황의조', 0.7291497588157654), ('레르마', 0.7280834913253784), ('본머스', 0.705183744430542), ('투호', 0.6944847702980042), ('홋스퍼', 0.6766153573989868), ('레드카드', 0.6763831377029419), ('피어', 0.676268994808197)]\n"
          ],
          "name": "stdout"
        },
        {
          "output_type": "stream",
          "text": [
            "/usr/local/lib/python3.6/dist-packages/gensim/matutils.py:737: FutureWarning: Conversion of the second argument of issubdtype from `int` to `np.signedinteger` is deprecated. In future, it will be treated as `np.int64 == np.dtype(int).type`.\n",
            "  if np.issubdtype(vec.dtype, np.int):\n"
          ],
          "name": "stderr"
        }
      ]
    },
    {
      "cell_type": "markdown",
      "metadata": {
        "id": "htwfVZQAcwK-",
        "colab_type": "text"
      },
      "source": [
        "#글로브 사용하기"
      ]
    },
    {
      "cell_type": "markdown",
      "metadata": {
        "id": "oSI85BcvJkhz",
        "colab_type": "text"
      },
      "source": [
        "#글로브 함수를 사용했지만 word2vec보다 적중율이 낮음!! 사용하는건 word2vec 모델로 결정"
      ]
    },
    {
      "cell_type": "code",
      "metadata": {
        "id": "MP90k1Q_cwN6",
        "colab_type": "code",
        "colab": {}
      },
      "source": [
        "from glove import Corpus, Glove\n",
        "\n",
        "corpus = Corpus() \n",
        "corpus.fit(result, window=5)\n",
        "# 훈련 데이터로부터 GloVe에서 사용할 동시 등장 행렬 생성\n",
        "\n",
        "glove = Glove(no_components=100, learning_rate=0.05)\n",
        "glove.fit(corpus.matrix, epochs=30, no_threads=4, verbose=True)\n",
        "glove.add_dictionary(corpus.dictionary)\n",
        "# 학습에 이용할 쓰레드의 개수는 4로 설정, 에포크는 20."
      ],
      "execution_count": 0,
      "outputs": []
    },
    {
      "cell_type": "code",
      "metadata": {
        "id": "hoUfPMkHcwRK",
        "colab_type": "code",
        "colab": {}
      },
      "source": [
        "model_result1=glove.most_similar(\"손흥민\")\n",
        "print(model_result1)"
      ],
      "execution_count": 0,
      "outputs": []
    },
    {
      "cell_type": "code",
      "metadata": {
        "id": "5K9djcT0eLxf",
        "colab_type": "code",
        "outputId": "8fc48e58-301f-400f-bc7b-104c71c6cdc6",
        "colab": {
          "base_uri": "https://localhost:8080/",
          "height": 72
        }
      },
      "source": [
        "from gensim.models import KeyedVectors\n",
        "model.wv.save_word2vec_format('eng_w2v') # 모델 저장\n",
        "loaded_model = KeyedVectors.load_word2vec_format(\"eng_w2v\") # 모델 로드"
      ],
      "execution_count": 0,
      "outputs": [
        {
          "output_type": "stream",
          "text": [
            "/usr/local/lib/python3.6/dist-packages/smart_open/smart_open_lib.py:253: UserWarning: This function is deprecated, use smart_open.open instead. See the migration notes for details: https://github.com/RaRe-Technologies/smart_open/blob/master/README.rst#migrating-to-the-new-open-function\n",
            "  'See the migration notes for details: %s' % _MIGRATION_NOTES_URL\n"
          ],
          "name": "stderr"
        }
      ]
    },
    {
      "cell_type": "code",
      "metadata": {
        "id": "6z4woYGxOjr-",
        "colab_type": "code",
        "colab": {}
      },
      "source": [
        ""
      ],
      "execution_count": 0,
      "outputs": []
    },
    {
      "cell_type": "code",
      "metadata": {
        "id": "mz5tJip96_Gu",
        "colab_type": "code",
        "outputId": "ca551574-4cc6-4e4e-98ad-1582b016265f",
        "colab": {
          "base_uri": "https://localhost:8080/",
          "height": 178
        }
      },
      "source": [
        "!python -m gensim.scripts.word2vec2tensor --input eng_w2v --output eng_w2v"
      ],
      "execution_count": 0,
      "outputs": [
        {
          "output_type": "stream",
          "text": [
            "2020-05-06 07:17:40,542 - word2vec2tensor - INFO - running /usr/local/lib/python3.6/dist-packages/gensim/scripts/word2vec2tensor.py --input eng_w2v --output eng_w2v\n",
            "2020-05-06 07:17:40,542 - utils_any2vec - INFO - loading projection weights from eng_w2v\n",
            "/usr/local/lib/python3.6/dist-packages/smart_open/smart_open_lib.py:253: UserWarning: This function is deprecated, use smart_open.open instead. See the migration notes for details: https://github.com/RaRe-Technologies/smart_open/blob/master/README.rst#migrating-to-the-new-open-function\n",
            "  'See the migration notes for details: %s' % _MIGRATION_NOTES_URL\n",
            "2020-05-06 07:17:41,308 - utils_any2vec - INFO - loaded (8969, 100) matrix from eng_w2v\n",
            "2020-05-06 07:17:41,958 - word2vec2tensor - INFO - 2D tensor file saved to eng_w2v_tensor.tsv\n",
            "2020-05-06 07:17:41,958 - word2vec2tensor - INFO - Tensor metadata file saved to eng_w2v_metadata.tsv\n",
            "2020-05-06 07:17:41,959 - word2vec2tensor - INFO - finished running word2vec2tensor.py\n"
          ],
          "name": "stdout"
        }
      ]
    },
    {
      "cell_type": "markdown",
      "metadata": {
        "id": "hi3KsN_XgP9K",
        "colab_type": "text"
      },
      "source": [
        "#정치"
      ]
    },
    {
      "cell_type": "code",
      "metadata": {
        "id": "8MlBPC9BRGXD",
        "colab_type": "code",
        "colab": {}
      },
      "source": [
        "news_politics_total = pd.read_csv('/content/drive/My Drive/3차 프로젝트/news_politics_total.csv', low_memory=False, header=None)\n",
        "news_politics_total1=pd.DataFrame(news_politics_total[1])\n",
        "news_politics_total1.to_csv('/content/drive/My Drive/3차 프로젝트/news_politics_total.txt', index=False, header=None, sep=\"\\t\")"
      ],
      "execution_count": 0,
      "outputs": []
    },
    {
      "cell_type": "code",
      "metadata": {
        "id": "M8gLkkfOTHuT",
        "colab_type": "code",
        "outputId": "3ac4bb1b-9bf8-4e6c-eaa7-a2de0eaa7875",
        "colab": {
          "base_uri": "https://localhost:8080/",
          "height": 305
        }
      },
      "source": [
        "from konlpy.tag import Okt  \n",
        "okt=Okt()\n",
        "fread = open('/content/drive/My Drive/3차 프로젝트/news_politics_total.txt', encoding=\"utf8\")\n",
        "# 파일을 다시 처음부터 읽음.\n",
        "n=0\n",
        "result = []\n",
        "\n",
        "while True:\n",
        "    line = fread.readline() #한 줄씩 읽음.\n",
        "    if not line: break # 모두 읽으면 while문 종료.\n",
        "    n=n+1\n",
        "    if n%5000==0: # 5,000의 배수로 While문이 실행될 때마다 몇 번째 While문 실행인지 출력.\n",
        "        print(\"%d번째 While문.\"%n)\n",
        "    tokenlist = okt.pos(line, stem=True, norm=True) # 단어 토큰화\n",
        "    temp=[]\n",
        "    for word in tokenlist:\n",
        "        if word[1] in [\"Noun\"]: # 명사일 때만\n",
        "            temp.append((word[0])) # 해당 단어를 저장함\n",
        "\n",
        "    if temp: # 만약 이번에 읽은 데이터에 명사가 존재할 경우에만\n",
        "      result.append(temp) # 결과에 저장\n",
        "fread.close()"
      ],
      "execution_count": 0,
      "outputs": [
        {
          "output_type": "stream",
          "text": [
            "5000번째 While문.\n",
            "10000번째 While문.\n",
            "15000번째 While문.\n",
            "20000번째 While문.\n",
            "25000번째 While문.\n",
            "30000번째 While문.\n",
            "35000번째 While문.\n",
            "40000번째 While문.\n",
            "45000번째 While문.\n",
            "50000번째 While문.\n",
            "55000번째 While문.\n",
            "60000번째 While문.\n",
            "65000번째 While문.\n",
            "70000번째 While문.\n",
            "75000번째 While문.\n",
            "80000번째 While문.\n"
          ],
          "name": "stdout"
        }
      ]
    },
    {
      "cell_type": "code",
      "metadata": {
        "id": "7LSPUq4PUBjn",
        "colab_type": "code",
        "outputId": "79dff3b7-dd83-486d-aea3-e53ba9c0ad37",
        "colab": {
          "base_uri": "https://localhost:8080/",
          "height": 35
        }
      },
      "source": [
        "#총 샘플의 개수\n",
        "print(len(result))"
      ],
      "execution_count": 0,
      "outputs": [
        {
          "output_type": "stream",
          "text": [
            "69666\n"
          ],
          "name": "stdout"
        }
      ]
    },
    {
      "cell_type": "code",
      "metadata": {
        "id": "ju75n1bqTcvB",
        "colab_type": "code",
        "colab": {}
      },
      "source": [
        "from gensim.models import Word2Vec\n",
        "model = Word2Vec(result, size=100, window=5, min_count=5, workers=4, sg=1)"
      ],
      "execution_count": 0,
      "outputs": []
    },
    {
      "cell_type": "code",
      "metadata": {
        "id": "MHqyfu-jhz2H",
        "colab_type": "code",
        "outputId": "45da1497-3645-4eee-f5ef-27c4bcfa75bd",
        "colab": {
          "base_uri": "https://localhost:8080/",
          "height": 253
        }
      },
      "source": [
        "model_result1 = model.wv.most_similar(\"문재인\")\n",
        "model_result1"
      ],
      "execution_count": 0,
      "outputs": [
        {
          "output_type": "stream",
          "text": [
            "/usr/local/lib/python3.6/dist-packages/gensim/matutils.py:737: FutureWarning: Conversion of the second argument of issubdtype from `int` to `np.signedinteger` is deprecated. In future, it will be treated as `np.int64 == np.dtype(int).type`.\n",
            "  if np.issubdtype(vec.dtype, np.int):\n"
          ],
          "name": "stderr"
        },
        {
          "output_type": "execute_result",
          "data": {
            "text/plain": [
              "[('문', 0.7541869878768921),\n",
              " ('대통령', 0.7148005962371826),\n",
              " ('강문규', 0.6103129386901855),\n",
              " ('나렌드', 0.6041297912597656),\n",
              " ('임형섭', 0.6002660989761353),\n",
              " ('안호균', 0.6001085042953491),\n",
              " ('박경준', 0.5927916765213013),\n",
              " ('박진희', 0.5824447274208069),\n",
              " ('리센룽', 0.5788382291793823),\n",
              " ('황광모', 0.5695754885673523)]"
            ]
          },
          "metadata": {
            "tags": []
          },
          "execution_count": 91
        }
      ]
    },
    {
      "cell_type": "markdown",
      "metadata": {
        "id": "v465Gh_KhL_6",
        "colab_type": "text"
      },
      "source": [
        "#스포츠"
      ]
    },
    {
      "cell_type": "code",
      "metadata": {
        "id": "MgJWvreyZIgX",
        "colab_type": "code",
        "colab": {}
      },
      "source": [
        "from konlpy.tag import Okt  \n",
        "okt=Okt()\n",
        "fread = open('/content/drive/My Drive/3차 프로젝트/news_sports_total.txt', encoding=\"utf8\")\n",
        "# 파일을 다시 처음부터 읽음.\n",
        "n=0\n",
        "result = []\n",
        "\n",
        "while True:\n",
        "    line = fread.readline() #한 줄씩 읽음.\n",
        "    if not line: break # 모두 읽으면 while문 종료.\n",
        "    n=n+1\n",
        "    if n%5000==0: # 5,000의 배수로 While문이 실행될 때마다 몇 번째 While문 실행인지 출력.\n",
        "        print(\"%d번째 While문.\"%n)\n",
        "    tokenlist = okt.pos(line, stem=True, norm=True) # 단어 토큰화\n",
        "    temp=[]\n",
        "    for word in tokenlist:\n",
        "        if word[1] in [\"Noun\"]: # 명사일 때만\n",
        "            temp.append((word[0])) # 해당 단어를 저장함\n",
        "\n",
        "    if temp: # 만약 이번에 읽은 데이터에 명사가 존재할 경우에만\n",
        "      result.append(temp) # 결과에 저장\n",
        "fread.close()"
      ],
      "execution_count": 0,
      "outputs": []
    },
    {
      "cell_type": "code",
      "metadata": {
        "id": "XQ0TXxGIgnyB",
        "colab_type": "code",
        "colab": {}
      },
      "source": [
        "from gensim.models import Word2Vec\n",
        "model1 = Word2Vec(sentences = tokenized_data, size = 100, window = 5, min_count = 5, workers = 4, sg = 0)"
      ],
      "execution_count": 0,
      "outputs": []
    },
    {
      "cell_type": "code",
      "metadata": {
        "id": "lwwJk1zbgnq6",
        "colab_type": "code",
        "colab": {}
      },
      "source": [
        "model1.wv.vectors.shape"
      ],
      "execution_count": 0,
      "outputs": []
    },
    {
      "cell_type": "code",
      "metadata": {
        "id": "fKieyaxEhI5K",
        "colab_type": "code",
        "colab": {}
      },
      "source": [
        "print(model1.wv.most_similar(\"손흥민\"))"
      ],
      "execution_count": 0,
      "outputs": []
    },
    {
      "cell_type": "markdown",
      "metadata": {
        "id": "2DwufP1hhV74",
        "colab_type": "text"
      },
      "source": [
        "#사회"
      ]
    },
    {
      "cell_type": "code",
      "metadata": {
        "id": "YtKnWdBqhZjf",
        "colab_type": "code",
        "colab": {}
      },
      "source": [
        "news_society_total = pd.read_csv('/content/drive/My Drive/3차 프로젝트/news_society_total.csv', low_memory=False, header=None)\n",
        "news_society_total1=pd.DataFrame(news_society_total[1])\n",
        "news_society_total1.to_csv('/content/drive/My Drive/3차 프로젝트/news_society_total.txt', index=False, header=None, sep=\"\\t\")"
      ],
      "execution_count": 0,
      "outputs": []
    },
    {
      "cell_type": "code",
      "metadata": {
        "id": "Zko_ineDhnY7",
        "colab_type": "code",
        "outputId": "a06db9cc-68c9-429c-d773-30f233c02d30",
        "colab": {
          "base_uri": "https://localhost:8080/",
          "height": 51
        }
      },
      "source": [
        "from konlpy.tag import Okt  \n",
        "okt=Okt()\n",
        "fread = open('/content/drive/My Drive/3차 프로젝트/news_society_total.txt', encoding=\"utf8\")\n",
        "# 파일을 다시 처음부터 읽음.\n",
        "n=0\n",
        "result = []\n",
        "\n",
        "while True:\n",
        "    line = fread.readline() #한 줄씩 읽음.\n",
        "    if not line: break # 모두 읽으면 while문 종료.\n",
        "    n=n+1\n",
        "    if n%5000==0: # 5,000의 배수로 While문이 실행될 때마다 몇 번째 While문 실행인지 출력.\n",
        "        print(\"%d번째 While문.\"%n)\n",
        "    tokenlist = okt.pos(line, stem=True, norm=True) # 단어 토큰화\n",
        "    temp=[]\n",
        "    for word in tokenlist:\n",
        "        if word[1] in [\"Noun\"]: # 명사일 때만\n",
        "            temp.append((word[0])) # 해당 단어를 저장함\n",
        "\n",
        "    if temp: # 만약 이번에 읽은 데이터에 명사가 존재할 경우에만\n",
        "      result.append(temp) # 결과에 저장\n",
        "fread.close()"
      ],
      "execution_count": 0,
      "outputs": [
        {
          "output_type": "stream",
          "text": [
            "5000번째 While문.\n",
            "10000번째 While문.\n"
          ],
          "name": "stdout"
        }
      ]
    },
    {
      "cell_type": "code",
      "metadata": {
        "id": "fBLfGlHIhnW9",
        "colab_type": "code",
        "colab": {}
      },
      "source": [
        "from gensim.models import Word2Vec\n",
        "model2 = Word2Vec(result, size=100, window=5, min_count=5, workers=4, sg=1)"
      ],
      "execution_count": 0,
      "outputs": []
    },
    {
      "cell_type": "code",
      "metadata": {
        "id": "CX6GYdvqhnVI",
        "colab_type": "code",
        "outputId": "c586c5f7-0ed0-4cc4-efb9-d898caebc916",
        "colab": {
          "base_uri": "https://localhost:8080/",
          "height": 34
        }
      },
      "source": [
        "model2.wv.vectors.shape"
      ],
      "execution_count": 0,
      "outputs": [
        {
          "output_type": "execute_result",
          "data": {
            "text/plain": [
              "(14051, 100)"
            ]
          },
          "metadata": {
            "tags": []
          },
          "execution_count": 49
        }
      ]
    },
    {
      "cell_type": "code",
      "metadata": {
        "id": "LT7GtSmNhzgB",
        "colab_type": "code",
        "outputId": "7cf284e8-3660-45d4-96cb-dac559dea042",
        "colab": {
          "base_uri": "https://localhost:8080/",
          "height": 88
        }
      },
      "source": [
        "print(model.wv.most_similar(\"대통령\"))"
      ],
      "execution_count": 0,
      "outputs": [
        {
          "output_type": "stream",
          "text": [
            "[('대선', 0.7387567162513733), ('박근혜', 0.7224291563034058), ('문재인', 0.7205234169960022), ('트럼프', 0.7148177623748779), ('이명박', 0.698952317237854), ('친서', 0.6956204771995544), ('도널드', 0.6928045153617859), ('노무현', 0.6866187453269958), ('박정희', 0.6760705709457397), ('국무위원', 0.6728364825248718)]\n"
          ],
          "name": "stdout"
        },
        {
          "output_type": "stream",
          "text": [
            "/usr/local/lib/python3.6/dist-packages/gensim/matutils.py:737: FutureWarning: Conversion of the second argument of issubdtype from `int` to `np.signedinteger` is deprecated. In future, it will be treated as `np.int64 == np.dtype(int).type`.\n",
            "  if np.issubdtype(vec.dtype, np.int):\n"
          ],
          "name": "stderr"
        }
      ]
    },
    {
      "cell_type": "markdown",
      "metadata": {
        "id": "w5MIPdcBhziy",
        "colab_type": "text"
      },
      "source": [
        "#문화"
      ]
    },
    {
      "cell_type": "code",
      "metadata": {
        "id": "n17705LQh9ew",
        "colab_type": "code",
        "colab": {}
      },
      "source": [
        "news_culture_total = pd.read_csv('/content/drive/My Drive/3차 프로젝트/news_culture_total.csv', low_memory=False, header=None)\n",
        "news_culture_total1=pd.DataFrame(news_culture_total[1])\n",
        "news_culture_total1.to_csv('/content/drive/My Drive/3차 프로젝트/news_culture_total.txt', index=False, header=None, sep=\"\\t\")"
      ],
      "execution_count": 0,
      "outputs": []
    },
    {
      "cell_type": "code",
      "metadata": {
        "id": "Ul3niEDxh9dE",
        "colab_type": "code",
        "outputId": "2ca133b0-6029-449d-d9b2-eb7f1bc5d864",
        "colab": {
          "base_uri": "https://localhost:8080/",
          "height": 51
        }
      },
      "source": [
        "from konlpy.tag import Okt  \n",
        "okt=Okt()\n",
        "fread = open('/content/drive/My Drive/3차 프로젝트/news_culture_total.txt', encoding=\"utf8\")\n",
        "# 파일을 다시 처음부터 읽음.\n",
        "n=0\n",
        "result = []\n",
        "\n",
        "while True:\n",
        "    line = fread.readline() #한 줄씩 읽음.\n",
        "    if not line: break # 모두 읽으면 while문 종료.\n",
        "    n=n+1\n",
        "    if n%5000==0: # 5,000의 배수로 While문이 실행될 때마다 몇 번째 While문 실행인지 출력.\n",
        "        print(\"%d번째 While문.\"%n)\n",
        "    tokenlist = okt.pos(line, stem=True, norm=True) # 단어 토큰화\n",
        "    temp=[]\n",
        "    for word in tokenlist:\n",
        "        if word[1] in [\"Noun\"]: # 명사일 때만\n",
        "            temp.append((word[0])) # 해당 단어를 저장함\n",
        "\n",
        "    if temp: # 만약 이번에 읽은 데이터에 명사가 존재할 경우에만\n",
        "      result.append(temp) # 결과에 저장\n",
        "fread.close()"
      ],
      "execution_count": 0,
      "outputs": [
        {
          "output_type": "stream",
          "text": [
            "5000번째 While문.\n",
            "10000번째 While문.\n"
          ],
          "name": "stdout"
        }
      ]
    },
    {
      "cell_type": "code",
      "metadata": {
        "id": "hX9MRxZ4h9ap",
        "colab_type": "code",
        "colab": {}
      },
      "source": [
        "from gensim.models import Word2Vec\n",
        "model3 = Word2Vec(result, size=100, window=5, min_count=5, workers=4, sg=1)"
      ],
      "execution_count": 0,
      "outputs": []
    },
    {
      "cell_type": "code",
      "metadata": {
        "id": "nOjVVbzEiQ5b",
        "colab_type": "code",
        "colab": {}
      },
      "source": [
        "print(model3.wv.most_similar(\"레드벨벳\"))"
      ],
      "execution_count": 0,
      "outputs": []
    },
    {
      "cell_type": "markdown",
      "metadata": {
        "id": "J4EZh6UHibA0",
        "colab_type": "text"
      },
      "source": [
        "#IT"
      ]
    },
    {
      "cell_type": "code",
      "metadata": {
        "id": "hE1ly6x4ikLL",
        "colab_type": "code",
        "colab": {}
      },
      "source": [
        "news_digital_total = pd.read_csv('/content/drive/My Drive/3차 프로젝트/news_digital_total.csv', low_memory=False, header=None)\n",
        "news_digital_total1=pd.DataFrame(news_digital_total[1])\n",
        "news_digital_total1.to_csv('/content/drive/My Drive/3차 프로젝트/news_digital_total.txt', index=False, header=None, sep=\"\\t\")"
      ],
      "execution_count": 0,
      "outputs": []
    },
    {
      "cell_type": "code",
      "metadata": {
        "id": "2oR9sZkmikNY",
        "colab_type": "code",
        "colab": {}
      },
      "source": [
        "train_data4 = pd.read_table('/content/drive/My Drive/3차 프로젝트/news_digital_total.txt', header=None)"
      ],
      "execution_count": 0,
      "outputs": []
    },
    {
      "cell_type": "code",
      "metadata": {
        "id": "c8pl3eoa_6Ai",
        "colab_type": "code",
        "outputId": "a9db9998-88f8-45cc-b91a-f78981cd396a",
        "colab": {
          "base_uri": "https://localhost:8080/",
          "height": 35
        }
      },
      "source": [
        "from konlpy.tag import Okt  \n",
        "okt=Okt()\n",
        "fread = open('/content/drive/My Drive/3차 프로젝트/news_digital_total.txt', encoding=\"utf8\")\n",
        "# 파일을 다시 처음부터 읽음.\n",
        "n=0\n",
        "result = []\n",
        "\n",
        "while True:\n",
        "    line = fread.readline() #한 줄씩 읽음.\n",
        "    if not line: break # 모두 읽으면 while문 종료.\n",
        "    n=n+1\n",
        "    if n%5000==0: # 5,000의 배수로 While문이 실행될 때마다 몇 번째 While문 실행인지 출력.\n",
        "        print(\"%d번째 While문.\"%n)\n",
        "    tokenlist = okt.pos(line, stem=True, norm=True) # 단어 토큰화\n",
        "    temp=[]\n",
        "    for word in tokenlist:\n",
        "        if word[1] in [\"Noun\"]: # 명사일 때만\n",
        "            temp.append((word[0])) # 해당 단어를 저장함\n",
        "\n",
        "    if temp: # 만약 이번에 읽은 데이터에 명사가 존재할 경우에만\n",
        "      result.append(temp) # 결과에 저장\n",
        "fread.close()"
      ],
      "execution_count": 0,
      "outputs": [
        {
          "output_type": "stream",
          "text": [
            "5000번째 While문.\n"
          ],
          "name": "stdout"
        }
      ]
    },
    {
      "cell_type": "code",
      "metadata": {
        "id": "XYXe7U4tAR0R",
        "colab_type": "code",
        "outputId": "bf1d09d1-8838-4dc9-91b7-332e182e22b4",
        "colab": {
          "base_uri": "https://localhost:8080/",
          "height": 35
        }
      },
      "source": [
        "#총 샘플의 개수\n",
        "print(len(result))"
      ],
      "execution_count": 0,
      "outputs": [
        {
          "output_type": "stream",
          "text": [
            "7484\n"
          ],
          "name": "stdout"
        }
      ]
    },
    {
      "cell_type": "code",
      "metadata": {
        "id": "BOFtyUGdAVyQ",
        "colab_type": "code",
        "colab": {}
      },
      "source": [
        "from gensim.models import Word2Vec\n",
        "model = Word2Vec(result, size=100, window=5, min_count=5, workers=4, sg=1)"
      ],
      "execution_count": 0,
      "outputs": []
    },
    {
      "cell_type": "code",
      "metadata": {
        "id": "n3JB9URfAV5Y",
        "colab_type": "code",
        "outputId": "b4550533-9dab-49f0-b64d-cb711246181b",
        "colab": {
          "base_uri": "https://localhost:8080/",
          "height": 190
        }
      },
      "source": [
        "model_result1 = model.wv.most_similar(\"머신러닝\")\n",
        "model_result1"
      ],
      "execution_count": 0,
      "outputs": [
        {
          "output_type": "error",
          "ename": "NameError",
          "evalue": "ignored",
          "traceback": [
            "\u001b[0;31m---------------------------------------------------------------------------\u001b[0m",
            "\u001b[0;31mNameError\u001b[0m                                 Traceback (most recent call last)",
            "\u001b[0;32m<ipython-input-1-65948fc0ea95>\u001b[0m in \u001b[0;36m<module>\u001b[0;34m()\u001b[0m\n\u001b[0;32m----> 1\u001b[0;31m \u001b[0mmodel_result1\u001b[0m \u001b[0;34m=\u001b[0m \u001b[0mmodel\u001b[0m\u001b[0;34m.\u001b[0m\u001b[0mwv\u001b[0m\u001b[0;34m.\u001b[0m\u001b[0mmost_similar\u001b[0m\u001b[0;34m(\u001b[0m\u001b[0;34m\"머신러닝\"\u001b[0m\u001b[0;34m)\u001b[0m\u001b[0;34m\u001b[0m\u001b[0;34m\u001b[0m\u001b[0m\n\u001b[0m\u001b[1;32m      2\u001b[0m \u001b[0mmodel_result1\u001b[0m\u001b[0;34m\u001b[0m\u001b[0;34m\u001b[0m\u001b[0m\n",
            "\u001b[0;31mNameError\u001b[0m: name 'model' is not defined"
          ]
        }
      ]
    },
    {
      "cell_type": "code",
      "metadata": {
        "id": "5rTBbhDMikRT",
        "colab_type": "code",
        "colab": {}
      },
      "source": [
        "train_data4 = train_data.dropna(how = 'any') # Null 값이 존재하는 행 제거\n",
        "print(train_data4.isnull().values.any()) # Null 값이 존재하는지 확인"
      ],
      "execution_count": 0,
      "outputs": []
    },
    {
      "cell_type": "code",
      "metadata": {
        "id": "9uM9ABLKikP6",
        "colab_type": "code",
        "colab": {}
      },
      "source": [
        "print(train_data4.isnull().values.any())"
      ],
      "execution_count": 0,
      "outputs": []
    },
    {
      "cell_type": "code",
      "metadata": {
        "id": "Sfyb9ACZjGpi",
        "colab_type": "code",
        "colab": {}
      },
      "source": [
        "# 정규 표현식을 통한 한글 외 문자 제거\n",
        "train_data4[0] = train_data4[0].str.replace(\"[^ㄱ-ㅎㅏ-ㅣ가-힣 ]\",\"\")"
      ],
      "execution_count": 0,
      "outputs": []
    },
    {
      "cell_type": "code",
      "metadata": {
        "id": "lclICblBjGsR",
        "colab_type": "code",
        "colab": {}
      },
      "source": [
        "# 형태소 분석기 OKT를 사용한 토큰화 작업 (다소 시간 소요)\n",
        "okt = Okt()\n",
        "tokenized_data = []\n",
        "for sentence in train_data4[0]:\n",
        "    temp_X = okt.morphs(sentence, stem=True) # 토큰화\n",
        "    temp_X = [word for word in temp_X if not word in stopwords] # 불용어 제거\n",
        "    tokenized_data.append(temp_X)"
      ],
      "execution_count": 0,
      "outputs": []
    },
    {
      "cell_type": "code",
      "metadata": {
        "id": "BYE3CC6mjGvG",
        "colab_type": "code",
        "colab": {}
      },
      "source": [
        "from gensim.models import Word2Vec\n",
        "model4 = Word2Vec(sentences = tokenized_data, size = 100, window = 5, min_count = 5, workers = 4, sg = 0)"
      ],
      "execution_count": 0,
      "outputs": []
    },
    {
      "cell_type": "code",
      "metadata": {
        "id": "QvblgUJvjGxd",
        "colab_type": "code",
        "colab": {}
      },
      "source": [
        "model4.wv.vectors.shape"
      ],
      "execution_count": 0,
      "outputs": []
    },
    {
      "cell_type": "code",
      "metadata": {
        "id": "m5P3Xxn8jN2a",
        "colab_type": "code",
        "colab": {}
      },
      "source": [
        "print(model4.wv.most_similar(\"빅데이터\"))"
      ],
      "execution_count": 0,
      "outputs": []
    },
    {
      "cell_type": "markdown",
      "metadata": {
        "id": "Y_92nzu3jQeY",
        "colab_type": "text"
      },
      "source": [
        "#경제"
      ]
    },
    {
      "cell_type": "code",
      "metadata": {
        "id": "jDCELLGmjQg3",
        "colab_type": "code",
        "colab": {}
      },
      "source": [
        "news_economic_total = pd.read_csv('/content/drive/My Drive/3차 프로젝트/news_economic_total.csv', low_memory=False, header=None)\n",
        "news_economic_total1=pd.DataFrame(news_digital_total[1])\n",
        "news_economic_total1.to_csv('/content/drive/My Drive/3차 프로젝트/news_economic_total.txt', index=False, header=None, sep=\"\\t\")"
      ],
      "execution_count": 0,
      "outputs": []
    },
    {
      "cell_type": "code",
      "metadata": {
        "id": "YvCuH0t8jQnq",
        "colab_type": "code",
        "colab": {}
      },
      "source": [
        "train_data5 = pd.read_table('/content/drive/My Drive/3차 프로젝트/news_economic_total.txt', header=None)"
      ],
      "execution_count": 0,
      "outputs": []
    },
    {
      "cell_type": "code",
      "metadata": {
        "id": "goEpjzggjQlN",
        "colab_type": "code",
        "colab": {}
      },
      "source": [
        "train_data5 = train_data.dropna(how = 'any') # Null 값이 존재하는 행 제거\n",
        "print(train_data5.isnull().values.any()) # Null 값이 존재하는지 확인"
      ],
      "execution_count": 0,
      "outputs": []
    },
    {
      "cell_type": "code",
      "metadata": {
        "id": "_rHFBv-xjQjg",
        "colab_type": "code",
        "colab": {}
      },
      "source": [
        "print(train_data5.isnull().values.any())"
      ],
      "execution_count": 0,
      "outputs": []
    },
    {
      "cell_type": "code",
      "metadata": {
        "id": "yA-1V7EYjQcX",
        "colab_type": "code",
        "colab": {}
      },
      "source": [
        "# 정규 표현식을 통한 한글 외 문자 제거\n",
        "train_data5[0] = train_data5[0].str.replace(\"[^ㄱ-ㅎㅏ-ㅣ가-힣 ]\",\"\")"
      ],
      "execution_count": 0,
      "outputs": []
    },
    {
      "cell_type": "code",
      "metadata": {
        "id": "vhrUD34ujt0E",
        "colab_type": "code",
        "colab": {}
      },
      "source": [
        "# 형태소 분석기 OKT를 사용한 토큰화 작업 (다소 시간 소요)\n",
        "okt = Okt()\n",
        "tokenized_data = []\n",
        "for sentence in train_data5[0]:\n",
        "    temp_X = okt.morphs(sentence, stem=True) # 토큰화\n",
        "    temp_X = [word for word in temp_X if not word in stopwords] # 불용어 제거\n",
        "    tokenized_data.append(temp_X)"
      ],
      "execution_count": 0,
      "outputs": []
    },
    {
      "cell_type": "code",
      "metadata": {
        "id": "HCLD0Z6gjtyS",
        "colab_type": "code",
        "colab": {}
      },
      "source": [
        "from gensim.models import Word2Vec\n",
        "model5 = Word2Vec(sentences = tokenized_data, size = 100, window = 5, min_count = 5, workers = 4, sg = 0)"
      ],
      "execution_count": 0,
      "outputs": []
    },
    {
      "cell_type": "code",
      "metadata": {
        "id": "JKSRjr9qjy5_",
        "colab_type": "code",
        "colab": {}
      },
      "source": [
        "model5.wv.vectors.shape"
      ],
      "execution_count": 0,
      "outputs": []
    },
    {
      "cell_type": "code",
      "metadata": {
        "id": "BWOiUcrpj0Pg",
        "colab_type": "code",
        "colab": {}
      },
      "source": [
        "print(model5.wv.most_similar(\"빅데이터\"))"
      ],
      "execution_count": 0,
      "outputs": []
    },
    {
      "cell_type": "markdown",
      "metadata": {
        "id": "2jZMrLkuj9UA",
        "colab_type": "text"
      },
      "source": [
        "#에디터"
      ]
    },
    {
      "cell_type": "code",
      "metadata": {
        "id": "ryB3Idzwj9Wb",
        "colab_type": "code",
        "colab": {}
      },
      "source": [
        "news_editorial_total = pd.read_csv('/content/drive/My Drive/3차 프로젝트/news_editorial_total.csv', low_memory=False, header=None)\n",
        "news_editorial_total1=pd.DataFrame(news_editorial_total[1])\n",
        "news_editorial_total1.to_csv('/content/drive/My Drive/3차 프로젝트/news_editorial_total.txt', index=False, header=None, sep=\"\\t\")"
      ],
      "execution_count": 0,
      "outputs": []
    },
    {
      "cell_type": "code",
      "metadata": {
        "id": "Tn-utg79j9aT",
        "colab_type": "code",
        "colab": {}
      },
      "source": [
        "train_data6 = pd.read_table('/content/drive/My Drive/3차 프로젝트/news_editorial_total.txt', header=None)"
      ],
      "execution_count": 0,
      "outputs": []
    },
    {
      "cell_type": "code",
      "metadata": {
        "id": "i0RHKI3WkL35",
        "colab_type": "code",
        "colab": {}
      },
      "source": [
        "train_data6 = train_data.dropna(how = 'any') # Null 값이 존재하는 행 제거\n",
        "print(train_data6.isnull().values.any()) # Null 값이 존재하는지 확인"
      ],
      "execution_count": 0,
      "outputs": []
    },
    {
      "cell_type": "code",
      "metadata": {
        "id": "Cg5WHzdfj9eo",
        "colab_type": "code",
        "colab": {}
      },
      "source": [
        "print(train_data6.isnull().values.any())"
      ],
      "execution_count": 0,
      "outputs": []
    },
    {
      "cell_type": "code",
      "metadata": {
        "id": "gPHC44LWj9jy",
        "colab_type": "code",
        "colab": {}
      },
      "source": [
        "# 정규 표현식을 통한 한글 외 문자 제거\n",
        "train_data6[0] = train_data6[0].str.replace(\"[^ㄱ-ㅎㅏ-ㅣ가-힣 ]\",\"\")"
      ],
      "execution_count": 0,
      "outputs": []
    },
    {
      "cell_type": "code",
      "metadata": {
        "id": "lX3J6hywj9hU",
        "colab_type": "code",
        "colab": {}
      },
      "source": [
        "# 형태소 분석기 OKT를 사용한 토큰화 작업 (다소 시간 소요)\n",
        "okt = Okt()\n",
        "tokenized_data = []\n",
        "for sentence in train_data6[0]:\n",
        "    temp_X = okt.morphs(sentence, stem=True) # 토큰화\n",
        "    temp_X = [word for word in temp_X if not word in stopwords] # 불용어 제거\n",
        "    tokenized_data.append(temp_X)"
      ],
      "execution_count": 0,
      "outputs": []
    },
    {
      "cell_type": "code",
      "metadata": {
        "id": "Df_8umSvj9dW",
        "colab_type": "code",
        "colab": {}
      },
      "source": [
        "from gensim.models import Word2Vec\n",
        "model6 = Word2Vec(sentences = tokenized_data, size = 100, window = 5, min_count = 5, workers = 4, sg = 0)"
      ],
      "execution_count": 0,
      "outputs": []
    },
    {
      "cell_type": "code",
      "metadata": {
        "id": "xN6DmXKsj9Yh",
        "colab_type": "code",
        "colab": {}
      },
      "source": [
        "model6.wv.vectors.shape"
      ],
      "execution_count": 0,
      "outputs": []
    },
    {
      "cell_type": "code",
      "metadata": {
        "id": "eDVgbVdjkX9R",
        "colab_type": "code",
        "colab": {}
      },
      "source": [
        "print(model6.wv.most_similar(\"에디터\"))"
      ],
      "execution_count": 0,
      "outputs": []
    },
    {
      "cell_type": "markdown",
      "metadata": {
        "id": "mNC-4TQkkcsZ",
        "colab_type": "text"
      },
      "source": [
        "#연예"
      ]
    },
    {
      "cell_type": "code",
      "metadata": {
        "id": "Fqcyk3vYkcwz",
        "colab_type": "code",
        "colab": {}
      },
      "source": [
        "news_entertain_total = pd.read_csv('/content/drive/My Drive/3차 프로젝트/news_entertain_total.csv', low_memory=False, header=None)\n",
        "news_entertain_total1=pd.DataFrame(news_entertain_total[1])\n",
        "news_entertain_total1.to_csv('/content/drive/My Drive/3차 프로젝트/news_entertain_total.txt', index=False, header=None, sep=\"\\t\")"
      ],
      "execution_count": 0,
      "outputs": []
    },
    {
      "cell_type": "code",
      "metadata": {
        "id": "H41hl26skc1t",
        "colab_type": "code",
        "colab": {}
      },
      "source": [
        "train_data7 = pd.read_table('/content/drive/My Drive/3차 프로젝트/news_entertain_total.txt', header=None)"
      ],
      "execution_count": 0,
      "outputs": []
    },
    {
      "cell_type": "code",
      "metadata": {
        "id": "_xgzh6P_kc8N",
        "colab_type": "code",
        "colab": {}
      },
      "source": [
        "train_data7 = train_data.dropna(how = 'any') # Null 값이 존재하는 행 제거\n",
        "print(train_data7.isnull().values.any()) # Null 값이 존재하는지 확인"
      ],
      "execution_count": 0,
      "outputs": []
    },
    {
      "cell_type": "code",
      "metadata": {
        "id": "QqIPoufgkc6L",
        "colab_type": "code",
        "colab": {}
      },
      "source": [
        "print(train_data7.isnull().values.any())"
      ],
      "execution_count": 0,
      "outputs": []
    },
    {
      "cell_type": "code",
      "metadata": {
        "id": "sK5UC65Ikc4b",
        "colab_type": "code",
        "colab": {}
      },
      "source": [
        "# 정규 표현식을 통한 한글 외 문자 제거\n",
        "train_data7[0] = train_data7[0].str.replace(\"[^ㄱ-ㅎㅏ-ㅣ가-힣 ]\",\"\")"
      ],
      "execution_count": 0,
      "outputs": []
    },
    {
      "cell_type": "code",
      "metadata": {
        "id": "mjC_yTaSkczY",
        "colab_type": "code",
        "colab": {}
      },
      "source": [
        "# 형태소 분석기 OKT를 사용한 토큰화 작업 (다소 시간 소요)\n",
        "okt = Okt()\n",
        "tokenized_data = []\n",
        "for sentence in train_data7[0]:\n",
        "    temp_X = okt.morphs(sentence, stem=True) # 토큰화\n",
        "    temp_X = [word for word in temp_X if not word in stopwords] # 불용어 제거\n",
        "    tokenized_data.append(temp_X)"
      ],
      "execution_count": 0,
      "outputs": []
    },
    {
      "cell_type": "code",
      "metadata": {
        "id": "qI8aNJGykcvO",
        "colab_type": "code",
        "colab": {}
      },
      "source": [
        "from gensim.models import Word2Vec\n",
        "model7 = Word2Vec(sentences = tokenized_data, size = 100, window = 5, min_count = 5, workers = 4, sg = 0)"
      ],
      "execution_count": 0,
      "outputs": []
    },
    {
      "cell_type": "code",
      "metadata": {
        "id": "w97wBwsQk3WJ",
        "colab_type": "code",
        "colab": {}
      },
      "source": [
        "model7.wv.vectors.shape"
      ],
      "execution_count": 0,
      "outputs": []
    },
    {
      "cell_type": "code",
      "metadata": {
        "id": "q2_imdKYk3aj",
        "colab_type": "code",
        "colab": {}
      },
      "source": [
        "print(model7.wv.most_similar(\"트와이스\"))"
      ],
      "execution_count": 0,
      "outputs": []
    },
    {
      "cell_type": "markdown",
      "metadata": {
        "id": "Ncscuj2JBV31",
        "colab_type": "text"
      },
      "source": [
        "#태그 만들기"
      ]
    },
    {
      "cell_type": "code",
      "metadata": {
        "id": "e75Z9-5YKxGU",
        "colab_type": "code",
        "outputId": "7cff6446-57b3-420e-fa37-fab3f9e85691",
        "colab": {
          "base_uri": "https://localhost:8080/",
          "height": 426
        }
      },
      "source": [
        "data=pd.DataFrame(news[1]+news[2])"
      ],
      "execution_count": 0,
      "outputs": [
        {
          "output_type": "error",
          "ename": "KeyError",
          "evalue": "ignored",
          "traceback": [
            "\u001b[0;31m---------------------------------------------------------------------------\u001b[0m",
            "\u001b[0;31mValueError\u001b[0m                                Traceback (most recent call last)",
            "\u001b[0;32m/usr/local/lib/python3.6/dist-packages/pandas/core/indexes/range.py\u001b[0m in \u001b[0;36mget_loc\u001b[0;34m(self, key, method, tolerance)\u001b[0m\n\u001b[1;32m    349\u001b[0m             \u001b[0;32mtry\u001b[0m\u001b[0;34m:\u001b[0m\u001b[0;34m\u001b[0m\u001b[0;34m\u001b[0m\u001b[0m\n\u001b[0;32m--> 350\u001b[0;31m                 \u001b[0;32mreturn\u001b[0m \u001b[0mself\u001b[0m\u001b[0;34m.\u001b[0m\u001b[0m_range\u001b[0m\u001b[0;34m.\u001b[0m\u001b[0mindex\u001b[0m\u001b[0;34m(\u001b[0m\u001b[0mnew_key\u001b[0m\u001b[0;34m)\u001b[0m\u001b[0;34m\u001b[0m\u001b[0;34m\u001b[0m\u001b[0m\n\u001b[0m\u001b[1;32m    351\u001b[0m             \u001b[0;32mexcept\u001b[0m \u001b[0mValueError\u001b[0m\u001b[0;34m:\u001b[0m\u001b[0;34m\u001b[0m\u001b[0;34m\u001b[0m\u001b[0m\n",
            "\u001b[0;31mValueError\u001b[0m: 1 is not in range",
            "\nDuring handling of the above exception, another exception occurred:\n",
            "\u001b[0;31mKeyError\u001b[0m                                  Traceback (most recent call last)",
            "\u001b[0;32m<ipython-input-120-d501a7e1f5e9>\u001b[0m in \u001b[0;36m<module>\u001b[0;34m()\u001b[0m\n\u001b[0;32m----> 1\u001b[0;31m \u001b[0mdata\u001b[0m\u001b[0;34m=\u001b[0m\u001b[0mpd\u001b[0m\u001b[0;34m.\u001b[0m\u001b[0mDataFrame\u001b[0m\u001b[0;34m(\u001b[0m\u001b[0mnews\u001b[0m\u001b[0;34m[\u001b[0m\u001b[0;36m1\u001b[0m\u001b[0;34m]\u001b[0m\u001b[0;34m+\u001b[0m\u001b[0mnews\u001b[0m\u001b[0;34m[\u001b[0m\u001b[0;36m2\u001b[0m\u001b[0;34m]\u001b[0m\u001b[0;34m)\u001b[0m\u001b[0;34m\u001b[0m\u001b[0;34m\u001b[0m\u001b[0m\n\u001b[0m",
            "\u001b[0;32m/usr/local/lib/python3.6/dist-packages/pandas/core/frame.py\u001b[0m in \u001b[0;36m__getitem__\u001b[0;34m(self, key)\u001b[0m\n\u001b[1;32m   2798\u001b[0m             \u001b[0;32mif\u001b[0m \u001b[0mself\u001b[0m\u001b[0;34m.\u001b[0m\u001b[0mcolumns\u001b[0m\u001b[0;34m.\u001b[0m\u001b[0mnlevels\u001b[0m \u001b[0;34m>\u001b[0m \u001b[0;36m1\u001b[0m\u001b[0;34m:\u001b[0m\u001b[0;34m\u001b[0m\u001b[0;34m\u001b[0m\u001b[0m\n\u001b[1;32m   2799\u001b[0m                 \u001b[0;32mreturn\u001b[0m \u001b[0mself\u001b[0m\u001b[0;34m.\u001b[0m\u001b[0m_getitem_multilevel\u001b[0m\u001b[0;34m(\u001b[0m\u001b[0mkey\u001b[0m\u001b[0;34m)\u001b[0m\u001b[0;34m\u001b[0m\u001b[0;34m\u001b[0m\u001b[0m\n\u001b[0;32m-> 2800\u001b[0;31m             \u001b[0mindexer\u001b[0m \u001b[0;34m=\u001b[0m \u001b[0mself\u001b[0m\u001b[0;34m.\u001b[0m\u001b[0mcolumns\u001b[0m\u001b[0;34m.\u001b[0m\u001b[0mget_loc\u001b[0m\u001b[0;34m(\u001b[0m\u001b[0mkey\u001b[0m\u001b[0;34m)\u001b[0m\u001b[0;34m\u001b[0m\u001b[0;34m\u001b[0m\u001b[0m\n\u001b[0m\u001b[1;32m   2801\u001b[0m             \u001b[0;32mif\u001b[0m \u001b[0mis_integer\u001b[0m\u001b[0;34m(\u001b[0m\u001b[0mindexer\u001b[0m\u001b[0;34m)\u001b[0m\u001b[0;34m:\u001b[0m\u001b[0;34m\u001b[0m\u001b[0;34m\u001b[0m\u001b[0m\n\u001b[1;32m   2802\u001b[0m                 \u001b[0mindexer\u001b[0m \u001b[0;34m=\u001b[0m \u001b[0;34m[\u001b[0m\u001b[0mindexer\u001b[0m\u001b[0;34m]\u001b[0m\u001b[0;34m\u001b[0m\u001b[0;34m\u001b[0m\u001b[0m\n",
            "\u001b[0;32m/usr/local/lib/python3.6/dist-packages/pandas/core/indexes/range.py\u001b[0m in \u001b[0;36mget_loc\u001b[0;34m(self, key, method, tolerance)\u001b[0m\n\u001b[1;32m    350\u001b[0m                 \u001b[0;32mreturn\u001b[0m \u001b[0mself\u001b[0m\u001b[0;34m.\u001b[0m\u001b[0m_range\u001b[0m\u001b[0;34m.\u001b[0m\u001b[0mindex\u001b[0m\u001b[0;34m(\u001b[0m\u001b[0mnew_key\u001b[0m\u001b[0;34m)\u001b[0m\u001b[0;34m\u001b[0m\u001b[0;34m\u001b[0m\u001b[0m\n\u001b[1;32m    351\u001b[0m             \u001b[0;32mexcept\u001b[0m \u001b[0mValueError\u001b[0m\u001b[0;34m:\u001b[0m\u001b[0;34m\u001b[0m\u001b[0;34m\u001b[0m\u001b[0m\n\u001b[0;32m--> 352\u001b[0;31m                 \u001b[0;32mraise\u001b[0m \u001b[0mKeyError\u001b[0m\u001b[0;34m(\u001b[0m\u001b[0mkey\u001b[0m\u001b[0;34m)\u001b[0m\u001b[0;34m\u001b[0m\u001b[0;34m\u001b[0m\u001b[0m\n\u001b[0m\u001b[1;32m    353\u001b[0m         \u001b[0;32mreturn\u001b[0m \u001b[0msuper\u001b[0m\u001b[0;34m(\u001b[0m\u001b[0;34m)\u001b[0m\u001b[0;34m.\u001b[0m\u001b[0mget_loc\u001b[0m\u001b[0;34m(\u001b[0m\u001b[0mkey\u001b[0m\u001b[0;34m,\u001b[0m \u001b[0mmethod\u001b[0m\u001b[0;34m=\u001b[0m\u001b[0mmethod\u001b[0m\u001b[0;34m,\u001b[0m \u001b[0mtolerance\u001b[0m\u001b[0;34m=\u001b[0m\u001b[0mtolerance\u001b[0m\u001b[0;34m)\u001b[0m\u001b[0;34m\u001b[0m\u001b[0;34m\u001b[0m\u001b[0m\n\u001b[1;32m    354\u001b[0m \u001b[0;34m\u001b[0m\u001b[0m\n",
            "\u001b[0;31mKeyError\u001b[0m: 1"
          ]
        }
      ]
    },
    {
      "cell_type": "code",
      "metadata": {
        "id": "Dbyl4pMKHNV1",
        "colab_type": "code",
        "colab": {}
      },
      "source": [
        "import numpy as np"
      ],
      "execution_count": 0,
      "outputs": []
    },
    {
      "cell_type": "code",
      "metadata": {
        "id": "Ayz0JjI3CeL6",
        "colab_type": "code",
        "colab": {}
      },
      "source": [
        "news = pd.read_csv('/content/drive/My Drive/3차 프로젝트/tag/news_economic_choice.csv', low_memory=False, header=None, encoding='utf-8')\n",
        "news = pd.DataFrame(news[1]+news[2])\n",
        "news\n",
        "news.to_csv('/content/drive/My Drive/3차 프로젝트/tag/news_economic_choice.txt', index=False, header=None, sep=\"\\t\")"
      ],
      "execution_count": 0,
      "outputs": []
    },
    {
      "cell_type": "code",
      "metadata": {
        "id": "bY91u5evBV8B",
        "colab_type": "code",
        "colab": {}
      },
      "source": [
        "from konlpy.tag import Okt  \n",
        "okt=Okt()\n",
        "fread = open('/content/drive/My Drive/3차 프로젝트/tag/news_economic_choice.txt', encoding=\"utf8\")\n",
        "# 파일을 다시 처음부터 읽음.\n",
        "n=0\n",
        "result = []\n",
        "\n",
        "while True:\n",
        "    line = fread.readline() #한 줄씩 읽음.\n",
        "    if not line: break # 모두 읽으면 while문 종료.\n",
        "    n=n+1\n",
        "    if n%5000==0: # 5,000의 배수로 While문이 실행될 때마다 몇 번째 While문 실행인지 출력.\n",
        "        print(\"%d번째 While문.\"%n)\n",
        "    tokenlist = okt.pos(line, stem=True, norm=True) # 단어 토큰화\n",
        "    temp=[]\n",
        "    for word in tokenlist:\n",
        "        if word[1] in [\"Noun\"]: # 명사일 때만\n",
        "            temp.append((word[0])) # 해당 단어를 저장함\n",
        "\n",
        "    if temp: # 만약 이번에 읽은 데이터에 명사가 존재할 경우에만\n",
        "      result.append(temp) # 결과에 저장\n",
        "fread.close()"
      ],
      "execution_count": 0,
      "outputs": []
    },
    {
      "cell_type": "code",
      "metadata": {
        "id": "aqm0xRRELMT3",
        "colab_type": "code",
        "colab": {}
      },
      "source": [
        "result=np.array(result)\n",
        "sport1=result[1]\n"
      ],
      "execution_count": 0,
      "outputs": []
    },
    {
      "cell_type": "code",
      "metadata": {
        "id": "O65NIWMBM3th",
        "colab_type": "code",
        "colab": {}
      },
      "source": [
        "for i in range(1,23,1):\n",
        "  globals()['sport{}'.format(i)] = result[i]"
      ],
      "execution_count": 0,
      "outputs": []
    },
    {
      "cell_type": "code",
      "metadata": {
        "id": "CDLAdTp1MTpJ",
        "colab_type": "code",
        "outputId": "ee5680de-0783-4bc5-981a-44989871ed36",
        "colab": {
          "base_uri": "https://localhost:8080/",
          "height": 1000
        }
      },
      "source": [
        "counts = Counter(sport23)\n",
        "counts"
      ],
      "execution_count": 0,
      "outputs": [
        {
          "output_type": "execute_result",
          "data": {
            "text/plain": [
              "Counter({'가운데': 1,\n",
              "         '간': 1,\n",
              "         '갈등': 1,\n",
              "         '감식': 2,\n",
              "         '강제': 8,\n",
              "         '개발': 1,\n",
              "         '개월': 1,\n",
              "         '갱': 4,\n",
              "         '건': 1,\n",
              "         '건의': 1,\n",
              "         '검색': 1,\n",
              "         '것': 4,\n",
              "         '게': 1,\n",
              "         '격전': 1,\n",
              "         '경우': 1,\n",
              "         '계획': 3,\n",
              "         '고': 1,\n",
              "         '곳': 3,\n",
              "         '공동': 1,\n",
              "         '과거': 1,\n",
              "         '과정': 1,\n",
              "         '관련': 1,\n",
              "         '관리': 1,\n",
              "         '구덩이': 1,\n",
              "         '구의': 1,\n",
              "         '국내': 6,\n",
              "         '군사기지': 1,\n",
              "         '기업': 1,\n",
              "         '기자': 1,\n",
              "         '꼬드겨': 1,\n",
              "         '나현준': 1,\n",
              "         '난관': 1,\n",
              "         '내지': 1,\n",
              "         '네': 1,\n",
              "         '노': 1,\n",
              "         '노동': 1,\n",
              "         '노역': 1,\n",
              "         '논의': 1,\n",
              "         '농장': 1,\n",
              "         '단체': 1,\n",
              "         '달': 1,\n",
              "         '당시': 1,\n",
              "         '대거': 1,\n",
              "         '더욱': 1,\n",
              "         '동원': 2,\n",
              "         '뒤': 1,\n",
              "         '등': 1,\n",
              "         '따라서': 1,\n",
              "         '또': 1,\n",
              "         '러시아': 1,\n",
              "         '료': 1,\n",
              "         '망고': 1,\n",
              "         '매장': 1,\n",
              "         '면제': 1,\n",
              "         '명': 2,\n",
              "         '모두': 1,\n",
              "         '문제': 1,\n",
              "         '민간': 1,\n",
              "         '바람': 1,\n",
              "         '발굴': 1,\n",
              "         '배상': 1,\n",
              "         '번': 1,\n",
              "         '범': 1,\n",
              "         '보존': 1,\n",
              "         '봉': 1,\n",
              "         '봉환': 4,\n",
              "         '부동산': 1,\n",
              "         '불면': 1,\n",
              "         '사망': 2,\n",
              "         '사상': 1,\n",
              "         '사용': 1,\n",
              "         '사할린': 1,\n",
              "         '상당수': 1,\n",
              "         '생존': 1,\n",
              "         '설득': 1,\n",
              "         '섬': 1,\n",
              "         '송환': 3,\n",
              "         '수감': 1,\n",
              "         '수습': 1,\n",
              "         '수형': 1,\n",
              "         '신고': 2,\n",
              "         '실무': 1,\n",
              "         '심해': 1,\n",
              "         '안': 1,\n",
              "         '어려움': 1,\n",
              "         '업무': 1,\n",
              "         '여': 3,\n",
              "         '여부': 1,\n",
              "         '연구자': 1,\n",
              "         '예상': 1,\n",
              "         '올해': 1,\n",
              "         '요새': 1,\n",
              "         '운영': 1,\n",
              "         '원단': 1,\n",
              "         '위': 3,\n",
              "         '위해': 1,\n",
              "         '유골': 3,\n",
              "         '유전자': 2,\n",
              "         '유족': 2,\n",
              "         '유해': 6,\n",
              "         '이': 3,\n",
              "         '이유': 1,\n",
              "         '이후': 3,\n",
              "         '인근': 1,\n",
              "         '인정': 1,\n",
              "         '일본': 1,\n",
              "         '일본군': 2,\n",
              "         '일제': 5,\n",
              "         '일제강점기': 1,\n",
              "         '작업': 3,\n",
              "         '잔': 1,\n",
              "         '장소': 1,\n",
              "         '전': 1,\n",
              "         '전망': 1,\n",
              "         '전역': 1,\n",
              "         '전쟁': 1,\n",
              "         '전체': 1,\n",
              "         '절반': 1,\n",
              "         '점령': 1,\n",
              "         '정도': 2,\n",
              "         '정부': 5,\n",
              "         '제기': 1,\n",
              "         '조선': 1,\n",
              "         '조선인': 3,\n",
              "         '죄수': 1,\n",
              "         '주장': 2,\n",
              "         '중': 3,\n",
              "         '중국': 3,\n",
              "         '중이': 2,\n",
              "         '지난': 1,\n",
              "         '지난해': 1,\n",
              "         '지역': 2,\n",
              "         '지인': 1,\n",
              "         '진행': 2,\n",
              "         '집단': 1,\n",
              "         '징용': 7,\n",
              "         '참여': 1,\n",
              "         '처음': 1,\n",
              "         '천인': 3,\n",
              "         '총': 1,\n",
              "         '최근': 1,\n",
              "         '추모': 1,\n",
              "         '추정': 4,\n",
              "         '추진': 3,\n",
              "         '충당': 1,\n",
              "         '타라': 1,\n",
              "         '태평양': 1,\n",
              "         '토지': 1,\n",
              "         '통해': 1,\n",
              "         '패': 1,\n",
              "         '평': 1,\n",
              "         '포함': 1,\n",
              "         '피해': 1,\n",
              "         '피해자': 2,\n",
              "         '하이난': 6,\n",
              "         '하이난섬': 7,\n",
              "         '학계': 1,\n",
              "         '학살': 2,\n",
              "         '한국': 1,\n",
              "         '한미': 1,\n",
              "         '한반도': 1,\n",
              "         '한인': 2,\n",
              "         '한일': 1,\n",
              "         '해당': 1,\n",
              "         '해방': 1,\n",
              "         '행방불명': 1,\n",
              "         '행안부': 2,\n",
              "         '행정안전부': 1,\n",
              "         '향후': 1,\n",
              "         '현장': 2,\n",
              "         '현재': 2,\n",
              "         '협의': 1,\n",
              "         '형기': 1,\n",
              "         '확인': 1,\n",
              "         '회': 1,\n",
              "         '후': 1,\n",
              "         '훼손': 1,\n",
              "         '희생': 2})"
            ]
          },
          "metadata": {
            "tags": []
          },
          "execution_count": 484
        }
      ]
    },
    {
      "cell_type": "code",
      "metadata": {
        "id": "ymXF-mq2Op3h",
        "colab_type": "code",
        "outputId": "e294daff-4481-4ed3-b266-798980679340",
        "colab": {
          "base_uri": "https://localhost:8080/",
          "height": 1000
        }
      },
      "source": [
        "vocab = sorted(counts, key=counts.get, reverse=True)\n",
        "vocab"
      ],
      "execution_count": 0,
      "outputs": [
        {
          "output_type": "execute_result",
          "data": {
            "text/plain": [
              "['강제',\n",
              " '징용',\n",
              " '하이난섬',\n",
              " '하이난',\n",
              " '유해',\n",
              " '국내',\n",
              " '정부',\n",
              " '일제',\n",
              " '것',\n",
              " '추정',\n",
              " '봉환',\n",
              " '갱',\n",
              " '송환',\n",
              " '추진',\n",
              " '중국',\n",
              " '여',\n",
              " '위',\n",
              " '조선인',\n",
              " '유골',\n",
              " '계획',\n",
              " '이후',\n",
              " '곳',\n",
              " '이',\n",
              " '중',\n",
              " '천인',\n",
              " '작업',\n",
              " '한인',\n",
              " '피해자',\n",
              " '학살',\n",
              " '주장',\n",
              " '지역',\n",
              " '신고',\n",
              " '유족',\n",
              " '유전자',\n",
              " '감식',\n",
              " '행안부',\n",
              " '명',\n",
              " '동원',\n",
              " '정도',\n",
              " '일본군',\n",
              " '사망',\n",
              " '진행',\n",
              " '중이',\n",
              " '현재',\n",
              " '희생',\n",
              " '현장',\n",
              " '배상',\n",
              " '문제',\n",
              " '한일',\n",
              " '갈등',\n",
              " '가운데',\n",
              " '일제강점기',\n",
              " '당시',\n",
              " '노',\n",
              " '패',\n",
              " '구의',\n",
              " '따라서',\n",
              " '경우',\n",
              " '인정',\n",
              " '일본',\n",
              " '더욱',\n",
              " '설득',\n",
              " '전망',\n",
              " '행정안전부',\n",
              " '과거',\n",
              " '관련',\n",
              " '업무',\n",
              " '원단',\n",
              " '피해',\n",
              " '발굴',\n",
              " '통해',\n",
              " '여부',\n",
              " '확인',\n",
              " '후',\n",
              " '봉',\n",
              " '올해',\n",
              " '안',\n",
              " '등',\n",
              " '논의',\n",
              " '실무',\n",
              " '협의',\n",
              " '학계',\n",
              " '간',\n",
              " '달',\n",
              " '점령',\n",
              " '뒤',\n",
              " '해당',\n",
              " '요새',\n",
              " '군사기지',\n",
              " '과정',\n",
              " '노동',\n",
              " '충당',\n",
              " '위해',\n",
              " '한반도',\n",
              " '전역',\n",
              " '수감',\n",
              " '죄수',\n",
              " '개월',\n",
              " '참여',\n",
              " '잔',\n",
              " '형기',\n",
              " '모두',\n",
              " '면제',\n",
              " '고',\n",
              " '꼬드겨',\n",
              " '조선',\n",
              " '전체',\n",
              " '수형',\n",
              " '사상',\n",
              " '범',\n",
              " '상당수',\n",
              " '포함',\n",
              " '게',\n",
              " '연구자',\n",
              " '절반',\n",
              " '노역',\n",
              " '생존',\n",
              " '해방',\n",
              " '전',\n",
              " '대거',\n",
              " '제기',\n",
              " '구덩이',\n",
              " '이유',\n",
              " '건',\n",
              " '행방불명',\n",
              " '건의',\n",
              " '검색',\n",
              " '망고',\n",
              " '농장',\n",
              " '운영',\n",
              " '한국',\n",
              " '기업',\n",
              " '처음',\n",
              " '수습',\n",
              " '민간',\n",
              " '단체',\n",
              " '추모',\n",
              " '회',\n",
              " '인근',\n",
              " '집단',\n",
              " '매장',\n",
              " '평',\n",
              " '관리',\n",
              " '지난',\n",
              " '토지',\n",
              " '사용',\n",
              " '료',\n",
              " '내지',\n",
              " '보존',\n",
              " '어려움',\n",
              " '또',\n",
              " '최근',\n",
              " '부동산',\n",
              " '개발',\n",
              " '바람',\n",
              " '불면',\n",
              " '훼손',\n",
              " '심해',\n",
              " '향후',\n",
              " '난관',\n",
              " '예상',\n",
              " '장소',\n",
              " '네',\n",
              " '번',\n",
              " '러시아',\n",
              " '사할린',\n",
              " '지난해',\n",
              " '총',\n",
              " '태평양',\n",
              " '전쟁',\n",
              " '격전',\n",
              " '지인',\n",
              " '타라',\n",
              " '섬',\n",
              " '한미',\n",
              " '공동',\n",
              " '나현준',\n",
              " '기자']"
            ]
          },
          "metadata": {
            "tags": []
          },
          "execution_count": 485
        }
      ]
    },
    {
      "cell_type": "code",
      "metadata": {
        "id": "6oa-LL0BGpYX",
        "colab_type": "code",
        "colab": {}
      },
      "source": [
        "from gensim.models import Word2Vec\n",
        "model = Word2Vec(result, size=100, window=5, min_count=5, workers=4, sg=1)"
      ],
      "execution_count": 0,
      "outputs": []
    },
    {
      "cell_type": "code",
      "metadata": {
        "id": "XtfOW47CGhtZ",
        "colab_type": "code",
        "outputId": "3cb3220f-5e5d-4ea1-ce6d-d3b9a5691d66",
        "colab": {
          "base_uri": "https://localhost:8080/",
          "height": 88
        }
      },
      "source": [
        "print(model.wv.most_similar(\"니시코리\"))"
      ],
      "execution_count": 0,
      "outputs": [
        {
          "output_type": "stream",
          "text": [
            "[('점', 0.9110809564590454), ('세트', 0.9083617925643921), ('후반', 0.9005950689315796), ('바텀', 0.9005885720252991), ('공격', 0.8999465703964233), ('이후', 0.8980318307876587), ('로', 0.8977850079536438), ('를', 0.8969867825508118), ('칼텍스', 0.8966139554977417), ('반격', 0.896577775478363)]\n"
          ],
          "name": "stdout"
        },
        {
          "output_type": "stream",
          "text": [
            "/usr/local/lib/python3.6/dist-packages/gensim/matutils.py:737: FutureWarning: Conversion of the second argument of issubdtype from `int` to `np.signedinteger` is deprecated. In future, it will be treated as `np.int64 == np.dtype(int).type`.\n",
            "  if np.issubdtype(vec.dtype, np.int):\n"
          ],
          "name": "stderr"
        }
      ]
    },
    {
      "cell_type": "code",
      "metadata": {
        "id": "M-lJWAi6C_FZ",
        "colab_type": "code",
        "colab": {}
      },
      "source": [
        "from collections import Counter"
      ],
      "execution_count": 0,
      "outputs": []
    },
    {
      "cell_type": "code",
      "metadata": {
        "id": "UO_gLDQ_BV6m",
        "colab_type": "code",
        "outputId": "f5cc0fdc-f71e-4721-b271-bc8c0ff36ab0",
        "colab": {
          "base_uri": "https://localhost:8080/",
          "height": 324
        }
      },
      "source": [
        "counts = Counter(result)\n",
        "counts"
      ],
      "execution_count": 0,
      "outputs": [
        {
          "output_type": "error",
          "ename": "TypeError",
          "evalue": "ignored",
          "traceback": [
            "\u001b[0;31m---------------------------------------------------------------------------\u001b[0m",
            "\u001b[0;31mTypeError\u001b[0m                                 Traceback (most recent call last)",
            "\u001b[0;32m<ipython-input-100-fa03da8c7667>\u001b[0m in \u001b[0;36m<module>\u001b[0;34m()\u001b[0m\n\u001b[0;32m----> 1\u001b[0;31m \u001b[0mcounts\u001b[0m \u001b[0;34m=\u001b[0m \u001b[0mCounter\u001b[0m\u001b[0;34m(\u001b[0m\u001b[0mn\u001b[0m\u001b[0;34m)\u001b[0m\u001b[0;34m\u001b[0m\u001b[0;34m\u001b[0m\u001b[0m\n\u001b[0m\u001b[1;32m      2\u001b[0m \u001b[0mcounts\u001b[0m\u001b[0;34m\u001b[0m\u001b[0;34m\u001b[0m\u001b[0m\n",
            "\u001b[0;32m/usr/lib/python3.6/collections/__init__.py\u001b[0m in \u001b[0;36m__init__\u001b[0;34m(*args, **kwds)\u001b[0m\n\u001b[1;32m    533\u001b[0m             \u001b[0;32mraise\u001b[0m \u001b[0mTypeError\u001b[0m\u001b[0;34m(\u001b[0m\u001b[0;34m'expected at most 1 arguments, got %d'\u001b[0m \u001b[0;34m%\u001b[0m \u001b[0mlen\u001b[0m\u001b[0;34m(\u001b[0m\u001b[0margs\u001b[0m\u001b[0;34m)\u001b[0m\u001b[0;34m)\u001b[0m\u001b[0;34m\u001b[0m\u001b[0;34m\u001b[0m\u001b[0m\n\u001b[1;32m    534\u001b[0m         \u001b[0msuper\u001b[0m\u001b[0;34m(\u001b[0m\u001b[0mCounter\u001b[0m\u001b[0;34m,\u001b[0m \u001b[0mself\u001b[0m\u001b[0;34m)\u001b[0m\u001b[0;34m.\u001b[0m\u001b[0m__init__\u001b[0m\u001b[0;34m(\u001b[0m\u001b[0;34m)\u001b[0m\u001b[0;34m\u001b[0m\u001b[0;34m\u001b[0m\u001b[0m\n\u001b[0;32m--> 535\u001b[0;31m         \u001b[0mself\u001b[0m\u001b[0;34m.\u001b[0m\u001b[0mupdate\u001b[0m\u001b[0;34m(\u001b[0m\u001b[0;34m*\u001b[0m\u001b[0margs\u001b[0m\u001b[0;34m,\u001b[0m \u001b[0;34m**\u001b[0m\u001b[0mkwds\u001b[0m\u001b[0;34m)\u001b[0m\u001b[0;34m\u001b[0m\u001b[0;34m\u001b[0m\u001b[0m\n\u001b[0m\u001b[1;32m    536\u001b[0m \u001b[0;34m\u001b[0m\u001b[0m\n\u001b[1;32m    537\u001b[0m     \u001b[0;32mdef\u001b[0m \u001b[0m__missing__\u001b[0m\u001b[0;34m(\u001b[0m\u001b[0mself\u001b[0m\u001b[0;34m,\u001b[0m \u001b[0mkey\u001b[0m\u001b[0;34m)\u001b[0m\u001b[0;34m:\u001b[0m\u001b[0;34m\u001b[0m\u001b[0;34m\u001b[0m\u001b[0m\n",
            "\u001b[0;32m/usr/lib/python3.6/collections/__init__.py\u001b[0m in \u001b[0;36mupdate\u001b[0;34m(*args, **kwds)\u001b[0m\n\u001b[1;32m    620\u001b[0m                     \u001b[0msuper\u001b[0m\u001b[0;34m(\u001b[0m\u001b[0mCounter\u001b[0m\u001b[0;34m,\u001b[0m \u001b[0mself\u001b[0m\u001b[0;34m)\u001b[0m\u001b[0;34m.\u001b[0m\u001b[0mupdate\u001b[0m\u001b[0;34m(\u001b[0m\u001b[0miterable\u001b[0m\u001b[0;34m)\u001b[0m \u001b[0;31m# fast path when counter is empty\u001b[0m\u001b[0;34m\u001b[0m\u001b[0;34m\u001b[0m\u001b[0m\n\u001b[1;32m    621\u001b[0m             \u001b[0;32melse\u001b[0m\u001b[0;34m:\u001b[0m\u001b[0;34m\u001b[0m\u001b[0;34m\u001b[0m\u001b[0m\n\u001b[0;32m--> 622\u001b[0;31m                 \u001b[0m_count_elements\u001b[0m\u001b[0;34m(\u001b[0m\u001b[0mself\u001b[0m\u001b[0;34m,\u001b[0m \u001b[0miterable\u001b[0m\u001b[0;34m)\u001b[0m\u001b[0;34m\u001b[0m\u001b[0;34m\u001b[0m\u001b[0m\n\u001b[0m\u001b[1;32m    623\u001b[0m         \u001b[0;32mif\u001b[0m \u001b[0mkwds\u001b[0m\u001b[0;34m:\u001b[0m\u001b[0;34m\u001b[0m\u001b[0;34m\u001b[0m\u001b[0m\n\u001b[1;32m    624\u001b[0m             \u001b[0mself\u001b[0m\u001b[0;34m.\u001b[0m\u001b[0mupdate\u001b[0m\u001b[0;34m(\u001b[0m\u001b[0mkwds\u001b[0m\u001b[0;34m)\u001b[0m\u001b[0;34m\u001b[0m\u001b[0;34m\u001b[0m\u001b[0m\n",
            "\u001b[0;31mTypeError\u001b[0m: unhashable type: 'list'"
          ]
        }
      ]
    },
    {
      "cell_type": "code",
      "metadata": {
        "id": "OArZyDLXDdBZ",
        "colab_type": "code",
        "outputId": "3158b86d-197a-4cf7-8e36-ca5be591a368",
        "colab": {
          "base_uri": "https://localhost:8080/",
          "height": 850
        }
      },
      "source": [
        "vocab = sorted(counts, key=counts.get, reverse=True)\n",
        "vocab"
      ],
      "execution_count": 0,
      "outputs": [
        {
          "output_type": "execute_result",
          "data": {
            "text/plain": [
              "['니시코리',\n",
              " '세트',\n",
              " '두바이',\n",
              " '위',\n",
              " '챔피언십',\n",
              " '강',\n",
              " '탈락',\n",
              " '테니스',\n",
              " '남자',\n",
              " '난',\n",
              " '톱',\n",
              " '시드',\n",
              " '덜미',\n",
              " '매경닷컴',\n",
              " '스포츠',\n",
              " '이상철',\n",
              " '기자',\n",
              " '단식',\n",
              " '세계',\n",
              " '랭킹',\n",
              " '게이',\n",
              " '일본',\n",
              " '프로',\n",
              " '투어',\n",
              " '현지',\n",
              " '시간',\n",
              " '아랍에미리트',\n",
              " '대회',\n",
              " '강전',\n",
              " '후베르트',\n",
              " '후르',\n",
              " '카츠',\n",
              " '폴란드',\n",
              " '스코어',\n",
              " '로',\n",
              " '범실',\n",
              " '범',\n",
              " '고개',\n",
              " '화가',\n",
              " '듯',\n",
              " '라켓',\n",
              " '던지기',\n",
              " '첫',\n",
              " '서브',\n",
              " '때',\n",
              " '리듬',\n",
              " '상대',\n",
              " '더',\n",
              " '플레이']"
            ]
          },
          "metadata": {
            "tags": []
          },
          "execution_count": 135
        }
      ]
    },
    {
      "cell_type": "code",
      "metadata": {
        "id": "tbxWE-aHMb4j",
        "colab_type": "code",
        "colab": {}
      },
      "source": [
        ""
      ],
      "execution_count": 0,
      "outputs": []
    }
  ]
}